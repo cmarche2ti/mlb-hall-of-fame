{
 "cells": [
  {
   "cell_type": "code",
   "execution_count": 1,
   "metadata": {},
   "outputs": [],
   "source": [
    "import pandas as pd"
   ]
  },
  {
   "cell_type": "code",
   "execution_count": null,
   "metadata": {},
   "outputs": [],
   "source": [
    "pitchers = pd.read_csv(\"Data/pitchers_predicted.csv\")\n",
    "position_player = pd.read_csv('Data/position_players_predicted.csv')"
   ]
  },
  {
   "cell_type": "code",
   "execution_count": 16,
   "metadata": {},
   "outputs": [
    {
     "data": {
      "text/plain": [
       "{'eligible_for_hall': {'Out_Field': 814,\n",
       "  'Catcher': 404,\n",
       "  'Short_Stop': 262,\n",
       "  'Second_Base': 258,\n",
       "  'Third_Base': 248,\n",
       "  'First_Base': 220,\n",
       "  'DH': 18,\n",
       "  'Pitchers': 1343},\n",
       " 'currently_in_hall': {'Out_Field': 66,\n",
       "  'Short_Stop': 22,\n",
       "  'First_Base': 22,\n",
       "  'Second_Base': 19,\n",
       "  'Catcher': 15,\n",
       "  'Third_Base': 13,\n",
       "  'DH': 2,\n",
       "  'Pitchers': 71},\n",
       " 'model_predicted': {'Out_Field': 62,\n",
       "  'First_Base': 19,\n",
       "  'Short_Stop': 16,\n",
       "  'Second_Base': 16,\n",
       "  'Third_Base': 9,\n",
       "  'Catcher': 6,\n",
       "  'DH': 2,\n",
       "  'Pitchers': 483},\n",
       " 'both_predicted_and_inducted': {'Out_Field': 48,\n",
       "  'First_Base': 18,\n",
       "  'Second_Base': 16,\n",
       "  'Short_Stop': 14,\n",
       "  'Third_Base': 8,\n",
       "  'Catcher': 6,\n",
       "  'DH': 1,\n",
       "  'Pitchers': 70}}"
      ]
     },
     "execution_count": 16,
     "metadata": {},
     "output_type": "execute_result"
    }
   ],
   "source": [
    "hall_metrics = {}\n",
    "eligible_dict = position_player[position_player['eligible_for_hall']=='eligible'].primary_position.value_counts().to_dict()\n",
    "eligible_dict['Pitchers'] = len(pitchers[pitchers['eligible_for_hall']=='eligible'])\n",
    "current_hall_dict = position_player[position_player['inducted']=='Y'].primary_position.value_counts().to_dict() \n",
    "current_hall_dict['Pitchers'] = len(pitchers[pitchers['inducted']=='Y'])\n",
    "hall_metrics['eligible_for_hall'] = eligible_dict\n",
    "hall_metrics['currently_in_hall'] = current_hall_dict\n",
    "ml_predicted_dict = position_player[position_player['model_predict']=='Y'].primary_position.value_counts().to_dict()\n",
    "ml_predicted_dict['Pitchers'] = len(pitchers[pitchers['model_predict']=='Y'])\n",
    "hall_metrics['model_predicted'] = ml_predicted_dict\n",
    "both_predicted_and_inducted = position_player[(position_player['model_predict']==\"Y\") & (position_player['inducted']=='Y')].primary_position.value_counts().to_dict()\n",
    "both_predicted_and_inducted['Pitchers'] = len(pitchers[(pitchers['model_predict']==\"Y\")&(pitchers['inducted']==\"Y\")])\n",
    "hall_metrics['both_predicted_and_inducted'] = both_predicted_and_inducted\n",
    "hall_metrics"
   ]
  },
  {
   "cell_type": "code",
   "execution_count": null,
   "metadata": {},
   "outputs": [],
   "source": []
  }
 ],
 "metadata": {
  "kernelspec": {
   "display_name": "Python 3",
   "language": "python",
   "name": "python3"
  },
  "language_info": {
   "codemirror_mode": {
    "name": "ipython",
    "version": 3
   },
   "file_extension": ".py",
   "mimetype": "text/x-python",
   "name": "python",
   "nbconvert_exporter": "python",
   "pygments_lexer": "ipython3",
   "version": "3.7.3"
  }
 },
 "nbformat": 4,
 "nbformat_minor": 2
}
