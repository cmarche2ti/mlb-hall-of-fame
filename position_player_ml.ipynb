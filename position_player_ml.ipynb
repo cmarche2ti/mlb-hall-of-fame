{
 "cells": [
  {
   "cell_type": "code",
   "execution_count": 103,
   "metadata": {},
   "outputs": [],
   "source": [
    "from imblearn.ensemble import BalancedRandomForestClassifier\n",
    "import pandas as pd\n",
    "import matplotlib.pyplot as plt\n"
   ]
  },
  {
   "cell_type": "code",
   "execution_count": 104,
   "metadata": {},
   "outputs": [
    {
     "data": {
      "text/html": [
       "<div>\n",
       "<style scoped>\n",
       "    .dataframe tbody tr th:only-of-type {\n",
       "        vertical-align: middle;\n",
       "    }\n",
       "\n",
       "    .dataframe tbody tr th {\n",
       "        vertical-align: top;\n",
       "    }\n",
       "\n",
       "    .dataframe thead th {\n",
       "        text-align: right;\n",
       "    }\n",
       "</style>\n",
       "<table border=\"1\" class=\"dataframe\">\n",
       "  <thead>\n",
       "    <tr style=\"text-align: right;\">\n",
       "      <th></th>\n",
       "      <th>playerID</th>\n",
       "      <th>nameFirst</th>\n",
       "      <th>nameLast</th>\n",
       "      <th>Seasons</th>\n",
       "      <th>Hits</th>\n",
       "      <th>RBIs</th>\n",
       "      <th>Runs</th>\n",
       "      <th>Stolen_Bases</th>\n",
       "      <th>Strike_Outs</th>\n",
       "      <th>Home_Runs</th>\n",
       "      <th>...</th>\n",
       "      <th>bats</th>\n",
       "      <th>throws</th>\n",
       "      <th>finalGame</th>\n",
       "      <th>yearid</th>\n",
       "      <th>inducted</th>\n",
       "      <th>Total_Games</th>\n",
       "      <th>Games_Started</th>\n",
       "      <th>primary_position</th>\n",
       "      <th>years_since_final_game</th>\n",
       "      <th>eligible_for_hall</th>\n",
       "    </tr>\n",
       "  </thead>\n",
       "  <tbody>\n",
       "    <tr>\n",
       "      <th>0</th>\n",
       "      <td>aaronha01</td>\n",
       "      <td>Hank</td>\n",
       "      <td>Aaron</td>\n",
       "      <td>23</td>\n",
       "      <td>3771</td>\n",
       "      <td>2297.0</td>\n",
       "      <td>2174</td>\n",
       "      <td>240.0</td>\n",
       "      <td>1383.0</td>\n",
       "      <td>755</td>\n",
       "      <td>...</td>\n",
       "      <td>R</td>\n",
       "      <td>R</td>\n",
       "      <td>1976-10-03</td>\n",
       "      <td>1982.0</td>\n",
       "      <td>Y</td>\n",
       "      <td>3298</td>\n",
       "      <td>3173.0</td>\n",
       "      <td>Out_Field</td>\n",
       "      <td>43.126027</td>\n",
       "      <td>eligible</td>\n",
       "    </tr>\n",
       "    <tr>\n",
       "      <th>1</th>\n",
       "      <td>aaronto01</td>\n",
       "      <td>Tommie</td>\n",
       "      <td>Aaron</td>\n",
       "      <td>7</td>\n",
       "      <td>216</td>\n",
       "      <td>94.0</td>\n",
       "      <td>102</td>\n",
       "      <td>9.0</td>\n",
       "      <td>145.0</td>\n",
       "      <td>13</td>\n",
       "      <td>...</td>\n",
       "      <td>R</td>\n",
       "      <td>R</td>\n",
       "      <td>1971-09-26</td>\n",
       "      <td>0.0</td>\n",
       "      <td>N</td>\n",
       "      <td>437</td>\n",
       "      <td>206.0</td>\n",
       "      <td>First_Base</td>\n",
       "      <td>48.150685</td>\n",
       "      <td>not_eligible</td>\n",
       "    </tr>\n",
       "    <tr>\n",
       "      <th>2</th>\n",
       "      <td>abadan01</td>\n",
       "      <td>Andy</td>\n",
       "      <td>Abad</td>\n",
       "      <td>3</td>\n",
       "      <td>2</td>\n",
       "      <td>0.0</td>\n",
       "      <td>1</td>\n",
       "      <td>0.0</td>\n",
       "      <td>5.0</td>\n",
       "      <td>0</td>\n",
       "      <td>...</td>\n",
       "      <td>L</td>\n",
       "      <td>L</td>\n",
       "      <td>2006-04-13</td>\n",
       "      <td>0.0</td>\n",
       "      <td>N</td>\n",
       "      <td>15</td>\n",
       "      <td>4.0</td>\n",
       "      <td>First_Base</td>\n",
       "      <td>13.580822</td>\n",
       "      <td>not_eligible</td>\n",
       "    </tr>\n",
       "    <tr>\n",
       "      <th>3</th>\n",
       "      <td>abadijo01</td>\n",
       "      <td>John</td>\n",
       "      <td>Abadie</td>\n",
       "      <td>2</td>\n",
       "      <td>11</td>\n",
       "      <td>5.0</td>\n",
       "      <td>4</td>\n",
       "      <td>1.0</td>\n",
       "      <td>3.0</td>\n",
       "      <td>0</td>\n",
       "      <td>...</td>\n",
       "      <td>R</td>\n",
       "      <td>R</td>\n",
       "      <td>1875-06-10</td>\n",
       "      <td>0.0</td>\n",
       "      <td>N</td>\n",
       "      <td>12</td>\n",
       "      <td>0.0</td>\n",
       "      <td>First_Base</td>\n",
       "      <td>144.509589</td>\n",
       "      <td>not_eligible</td>\n",
       "    </tr>\n",
       "    <tr>\n",
       "      <th>4</th>\n",
       "      <td>abbated01</td>\n",
       "      <td>Ed</td>\n",
       "      <td>Abbaticchio</td>\n",
       "      <td>10</td>\n",
       "      <td>772</td>\n",
       "      <td>324.0</td>\n",
       "      <td>355</td>\n",
       "      <td>142.0</td>\n",
       "      <td>283.0</td>\n",
       "      <td>11</td>\n",
       "      <td>...</td>\n",
       "      <td>R</td>\n",
       "      <td>R</td>\n",
       "      <td>1910-09-15</td>\n",
       "      <td>0.0</td>\n",
       "      <td>N</td>\n",
       "      <td>857</td>\n",
       "      <td>357.0</td>\n",
       "      <td>Second_Base</td>\n",
       "      <td>109.221918</td>\n",
       "      <td>eligible</td>\n",
       "    </tr>\n",
       "  </tbody>\n",
       "</table>\n",
       "<p>5 rows × 33 columns</p>\n",
       "</div>"
      ],
      "text/plain": [
       "    playerID nameFirst     nameLast  Seasons  Hits    RBIs  Runs  \\\n",
       "0  aaronha01      Hank        Aaron       23  3771  2297.0  2174   \n",
       "1  aaronto01    Tommie        Aaron        7   216    94.0   102   \n",
       "2   abadan01      Andy         Abad        3     2     0.0     1   \n",
       "3  abadijo01      John       Abadie        2    11     5.0     4   \n",
       "4  abbated01        Ed  Abbaticchio       10   772   324.0   355   \n",
       "\n",
       "   Stolen_Bases  Strike_Outs  Home_Runs  ...  bats  throws   finalGame  \\\n",
       "0         240.0       1383.0        755  ...     R       R  1976-10-03   \n",
       "1           9.0        145.0         13  ...     R       R  1971-09-26   \n",
       "2           0.0          5.0          0  ...     L       L  2006-04-13   \n",
       "3           1.0          3.0          0  ...     R       R  1875-06-10   \n",
       "4         142.0        283.0         11  ...     R       R  1910-09-15   \n",
       "\n",
       "   yearid  inducted  Total_Games  Games_Started  primary_position  \\\n",
       "0  1982.0         Y         3298         3173.0         Out_Field   \n",
       "1     0.0         N          437          206.0        First_Base   \n",
       "2     0.0         N           15            4.0        First_Base   \n",
       "3     0.0         N           12            0.0        First_Base   \n",
       "4     0.0         N          857          357.0       Second_Base   \n",
       "\n",
       "   years_since_final_game  eligible_for_hall  \n",
       "0               43.126027           eligible  \n",
       "1               48.150685       not_eligible  \n",
       "2               13.580822       not_eligible  \n",
       "3              144.509589       not_eligible  \n",
       "4              109.221918           eligible  \n",
       "\n",
       "[5 rows x 33 columns]"
      ]
     },
     "execution_count": 104,
     "metadata": {},
     "output_type": "execute_result"
    }
   ],
   "source": [
    "position_player_df = pd.read_csv('Data/position_players_complete.csv')\n",
    "position_player_df.head()"
   ]
  },
  {
   "cell_type": "code",
   "execution_count": 105,
   "metadata": {},
   "outputs": [
    {
     "data": {
      "text/plain": [
       "N    2067\n",
       "Y     157\n",
       "Name: inducted, dtype: int64"
      ]
     },
     "execution_count": 105,
     "metadata": {},
     "output_type": "execute_result"
    }
   ],
   "source": [
    "position_player_df[position_player_df['eligible_for_hall']=='eligible'].inducted.value_counts()"
   ]
  },
  {
   "cell_type": "code",
   "execution_count": 106,
   "metadata": {},
   "outputs": [
    {
     "data": {
      "text/plain": [
       "Index(['playerID', 'nameFirst', 'nameLast', 'Seasons', 'Hits', 'RBIs', 'Runs',\n",
       "       'Stolen_Bases', 'Strike_Outs', 'Home_Runs', 'Walks', 'Games', 'Triples',\n",
       "       'Doubles', 'Caught_Stealing', 'At_Bats', 'Intentional_Walks',\n",
       "       'Hit_By_Pitch', 'Sacrifice_Hits', 'Sacrifice_Flies',\n",
       "       'Ground_Into_Double_Plays', 'weight', 'height', 'bats', 'throws',\n",
       "       'finalGame', 'yearid', 'inducted', 'Total_Games', 'Games_Started',\n",
       "       'primary_position', 'years_since_final_game', 'eligible_for_hall'],\n",
       "      dtype='object')"
      ]
     },
     "execution_count": 106,
     "metadata": {},
     "output_type": "execute_result"
    }
   ],
   "source": [
    "position_player_df.columns"
   ]
  },
  {
   "cell_type": "code",
   "execution_count": null,
   "metadata": {},
   "outputs": [],
   "source": [
    "Machine Learning Model - Balanced Random Forest Classifier"
   ]
  },
  {
   "cell_type": "code",
   "execution_count": 107,
   "metadata": {},
   "outputs": [
    {
     "data": {
      "text/plain": [
       "(10248, 20)"
      ]
     },
     "execution_count": 107,
     "metadata": {},
     "output_type": "execute_result"
    }
   ],
   "source": [
    "data = position_player_df.drop(['inducted', 'playerID', 'nameFirst', 'nameLast', 'finalGame','bats', \n",
    "                                'throws','weight', 'height','yearid','primary_position','years_since_final_game', \n",
    "                                'eligible_for_hall'], axis=1)\n",
    "data.fillna(0, inplace=True)\n",
    "data.shape"
   ]
  },
  {
   "cell_type": "code",
   "execution_count": 108,
   "metadata": {},
   "outputs": [
    {
     "data": {
      "text/plain": [
       "N    10089\n",
       "Y      159\n",
       "Name: inducted, dtype: int64"
      ]
     },
     "execution_count": 108,
     "metadata": {},
     "output_type": "execute_result"
    }
   ],
   "source": [
    "target = position_player_df['inducted']\n",
    "target = target.replace(to_replace='0', \n",
    "                 value =\"N\") \n",
    "target.value_counts()"
   ]
  },
  {
   "cell_type": "code",
   "execution_count": 109,
   "metadata": {},
   "outputs": [
    {
     "data": {
      "text/plain": [
       "Index(['Seasons', 'Hits', 'RBIs', 'Runs', 'Stolen_Bases', 'Strike_Outs',\n",
       "       'Home_Runs', 'Walks', 'Games', 'Triples', 'Doubles', 'Caught_Stealing',\n",
       "       'At_Bats', 'Intentional_Walks', 'Hit_By_Pitch', 'Sacrifice_Hits',\n",
       "       'Sacrifice_Flies', 'Ground_Into_Double_Plays', 'Total_Games',\n",
       "       'Games_Started'],\n",
       "      dtype='object')"
      ]
     },
     "execution_count": 109,
     "metadata": {},
     "output_type": "execute_result"
    }
   ],
   "source": [
    "feature_names = data.columns\n",
    "feature_names"
   ]
  },
  {
   "cell_type": "code",
   "execution_count": 110,
   "metadata": {},
   "outputs": [
    {
     "name": "stderr",
     "output_type": "stream",
     "text": [
      "/Users/chris.marchetti/anaconda3/lib/python3.7/site-packages/sklearn/preprocessing/data.py:645: DataConversionWarning: Data with input dtype int64, float64 were all converted to float64 by StandardScaler.\n",
      "  return self.partial_fit(X, y)\n",
      "/Users/chris.marchetti/anaconda3/lib/python3.7/site-packages/ipykernel_launcher.py:6: DataConversionWarning: Data with input dtype int64, float64 were all converted to float64 by StandardScaler.\n",
      "  \n",
      "/Users/chris.marchetti/anaconda3/lib/python3.7/site-packages/ipykernel_launcher.py:7: DataConversionWarning: Data with input dtype int64, float64 were all converted to float64 by StandardScaler.\n",
      "  import sys\n"
     ]
    }
   ],
   "source": [
    "from sklearn.model_selection import train_test_split\n",
    "from sklearn.preprocessing import StandardScaler\n",
    "\n",
    "X_train, X_test, y_train, y_test = train_test_split(data, target, random_state=42)\n",
    "X_scaler = StandardScaler().fit(X_train)\n",
    "X_train_scaled = X_scaler.transform(X_train)\n",
    "X_test_scaled = X_scaler.transform(X_test)"
   ]
  },
  {
   "cell_type": "code",
   "execution_count": 111,
   "metadata": {},
   "outputs": [
    {
     "data": {
      "text/plain": [
       "0.9309133489461359"
      ]
     },
     "execution_count": 111,
     "metadata": {},
     "output_type": "execute_result"
    }
   ],
   "source": [
    "clf = BalancedRandomForestClassifier(random_state=0)\n",
    "clf = clf.fit(X_train_scaled, y_train)\n",
    "clf.score(X_test_scaled, y_test)"
   ]
  },
  {
   "cell_type": "code",
   "execution_count": 112,
   "metadata": {},
   "outputs": [
    {
     "data": {
      "text/plain": [
       "0.9428831641946396"
      ]
     },
     "execution_count": 112,
     "metadata": {},
     "output_type": "execute_result"
    }
   ],
   "source": [
    "clf.score(X_train_scaled, y_train)"
   ]
  },
  {
   "cell_type": "code",
   "execution_count": 113,
   "metadata": {},
   "outputs": [
    {
     "data": {
      "image/svg+xml": [
       "<?xml version=\"1.0\" encoding=\"UTF-8\" standalone=\"no\"?>\n",
       "<!DOCTYPE svg PUBLIC \"-//W3C//DTD SVG 1.1//EN\"\n",
       " \"http://www.w3.org/Graphics/SVG/1.1/DTD/svg11.dtd\">\n",
       "<!-- Generated by graphviz version 2.40.1 (20161225.0304)\n",
       " -->\n",
       "<!-- Title: Tree Pages: 1 -->\n",
       "<svg width=\"728pt\" height=\"790pt\"\n",
       " viewBox=\"0.00 0.00 727.50 790.00\" xmlns=\"http://www.w3.org/2000/svg\" xmlns:xlink=\"http://www.w3.org/1999/xlink\">\n",
       "<g id=\"graph0\" class=\"graph\" transform=\"scale(1 1) rotate(0) translate(4 786)\">\n",
       "<title>Tree</title>\n",
       "<polygon fill=\"#ffffff\" stroke=\"transparent\" points=\"-4,4 -4,-786 723.5,-786 723.5,4 -4,4\"/>\n",
       "<!-- 0 -->\n",
       "<g id=\"node1\" class=\"node\">\n",
       "<title>0</title>\n",
       "<polygon fill=\"#e58139\" fill-opacity=\"0.015686\" stroke=\"#000000\" points=\"290.5,-782 170.5,-782 170.5,-699 290.5,-699 290.5,-782\"/>\n",
       "<text text-anchor=\"middle\" x=\"230.5\" y=\"-766.8\" font-family=\"Times,serif\" font-size=\"14.00\" fill=\"#000000\">RBIs &lt;= 1.309</text>\n",
       "<text text-anchor=\"middle\" x=\"230.5\" y=\"-751.8\" font-family=\"Times,serif\" font-size=\"14.00\" fill=\"#000000\">gini = 0.5</text>\n",
       "<text text-anchor=\"middle\" x=\"230.5\" y=\"-736.8\" font-family=\"Times,serif\" font-size=\"14.00\" fill=\"#000000\">samples = 151</text>\n",
       "<text text-anchor=\"middle\" x=\"230.5\" y=\"-721.8\" font-family=\"Times,serif\" font-size=\"14.00\" fill=\"#000000\">value = [117, 115]</text>\n",
       "<text text-anchor=\"middle\" x=\"230.5\" y=\"-706.8\" font-family=\"Times,serif\" font-size=\"14.00\" fill=\"#000000\">class = N</text>\n",
       "</g>\n",
       "<!-- 1 -->\n",
       "<g id=\"node2\" class=\"node\">\n",
       "<title>1</title>\n",
       "<polygon fill=\"#e58139\" fill-opacity=\"0.980392\" stroke=\"#000000\" points=\"217,-663 110,-663 110,-580 217,-580 217,-663\"/>\n",
       "<text text-anchor=\"middle\" x=\"163.5\" y=\"-647.8\" font-family=\"Times,serif\" font-size=\"14.00\" fill=\"#000000\">Walks &lt;= 0.859</text>\n",
       "<text text-anchor=\"middle\" x=\"163.5\" y=\"-632.8\" font-family=\"Times,serif\" font-size=\"14.00\" fill=\"#000000\">gini = 0.04</text>\n",
       "<text text-anchor=\"middle\" x=\"163.5\" y=\"-617.8\" font-family=\"Times,serif\" font-size=\"14.00\" fill=\"#000000\">samples = 64</text>\n",
       "<text text-anchor=\"middle\" x=\"163.5\" y=\"-602.8\" font-family=\"Times,serif\" font-size=\"14.00\" fill=\"#000000\">value = [97, 2]</text>\n",
       "<text text-anchor=\"middle\" x=\"163.5\" y=\"-587.8\" font-family=\"Times,serif\" font-size=\"14.00\" fill=\"#000000\">class = N</text>\n",
       "</g>\n",
       "<!-- 0&#45;&gt;1 -->\n",
       "<g id=\"edge1\" class=\"edge\">\n",
       "<title>0&#45;&gt;1</title>\n",
       "<path fill=\"none\" stroke=\"#000000\" d=\"M207.0667,-698.8796C202.1987,-690.2335 197.0181,-681.0322 191.9914,-672.1042\"/>\n",
       "<polygon fill=\"#000000\" stroke=\"#000000\" points=\"194.9893,-670.2947 187.0334,-663.2981 188.8897,-673.729 194.9893,-670.2947\"/>\n",
       "<text text-anchor=\"middle\" x=\"180.3022\" y=\"-683.6749\" font-family=\"Times,serif\" font-size=\"14.00\" fill=\"#000000\">True</text>\n",
       "</g>\n",
       "<!-- 4 -->\n",
       "<g id=\"node5\" class=\"node\">\n",
       "<title>4</title>\n",
       "<polygon fill=\"#399de5\" fill-opacity=\"0.823529\" stroke=\"#000000\" points=\"355,-663 242,-663 242,-580 355,-580 355,-663\"/>\n",
       "<text text-anchor=\"middle\" x=\"298.5\" y=\"-647.8\" font-family=\"Times,serif\" font-size=\"14.00\" fill=\"#000000\">Hits &lt;= 2.877</text>\n",
       "<text text-anchor=\"middle\" x=\"298.5\" y=\"-632.8\" font-family=\"Times,serif\" font-size=\"14.00\" fill=\"#000000\">gini = 0.256</text>\n",
       "<text text-anchor=\"middle\" x=\"298.5\" y=\"-617.8\" font-family=\"Times,serif\" font-size=\"14.00\" fill=\"#000000\">samples = 87</text>\n",
       "<text text-anchor=\"middle\" x=\"298.5\" y=\"-602.8\" font-family=\"Times,serif\" font-size=\"14.00\" fill=\"#000000\">value = [20, 113]</text>\n",
       "<text text-anchor=\"middle\" x=\"298.5\" y=\"-587.8\" font-family=\"Times,serif\" font-size=\"14.00\" fill=\"#000000\">class = Y</text>\n",
       "</g>\n",
       "<!-- 0&#45;&gt;4 -->\n",
       "<g id=\"edge4\" class=\"edge\">\n",
       "<title>0&#45;&gt;4</title>\n",
       "<path fill=\"none\" stroke=\"#000000\" d=\"M254.2831,-698.8796C259.2237,-690.2335 264.4816,-681.0322 269.5833,-672.1042\"/>\n",
       "<polygon fill=\"#000000\" stroke=\"#000000\" points=\"272.6928,-673.717 274.6154,-663.2981 266.6151,-670.244 272.6928,-673.717\"/>\n",
       "<text text-anchor=\"middle\" x=\"281.1933\" y=\"-683.7172\" font-family=\"Times,serif\" font-size=\"14.00\" fill=\"#000000\">False</text>\n",
       "</g>\n",
       "<!-- 2 -->\n",
       "<g id=\"node3\" class=\"node\">\n",
       "<title>2</title>\n",
       "<polygon fill=\"#e58139\" stroke=\"#000000\" points=\"99,-536.5 0,-536.5 0,-468.5 99,-468.5 99,-536.5\"/>\n",
       "<text text-anchor=\"middle\" x=\"49.5\" y=\"-521.3\" font-family=\"Times,serif\" font-size=\"14.00\" fill=\"#000000\">gini = 0.0</text>\n",
       "<text text-anchor=\"middle\" x=\"49.5\" y=\"-506.3\" font-family=\"Times,serif\" font-size=\"14.00\" fill=\"#000000\">samples = 61</text>\n",
       "<text text-anchor=\"middle\" x=\"49.5\" y=\"-491.3\" font-family=\"Times,serif\" font-size=\"14.00\" fill=\"#000000\">value = [95, 0]</text>\n",
       "<text text-anchor=\"middle\" x=\"49.5\" y=\"-476.3\" font-family=\"Times,serif\" font-size=\"14.00\" fill=\"#000000\">class = N</text>\n",
       "</g>\n",
       "<!-- 1&#45;&gt;2 -->\n",
       "<g id=\"edge2\" class=\"edge\">\n",
       "<title>1&#45;&gt;2</title>\n",
       "<path fill=\"none\" stroke=\"#000000\" d=\"M123.6283,-579.8796C112.5676,-568.3337 100.5582,-555.7976 89.4906,-544.2446\"/>\n",
       "<polygon fill=\"#000000\" stroke=\"#000000\" points=\"91.8183,-541.6149 82.3731,-536.8149 86.7635,-546.4573 91.8183,-541.6149\"/>\n",
       "</g>\n",
       "<!-- 3 -->\n",
       "<g id=\"node4\" class=\"node\">\n",
       "<title>3</title>\n",
       "<polygon fill=\"transparent\" stroke=\"#000000\" points=\"209.5,-536.5 117.5,-536.5 117.5,-468.5 209.5,-468.5 209.5,-536.5\"/>\n",
       "<text text-anchor=\"middle\" x=\"163.5\" y=\"-521.3\" font-family=\"Times,serif\" font-size=\"14.00\" fill=\"#000000\">gini = 0.5</text>\n",
       "<text text-anchor=\"middle\" x=\"163.5\" y=\"-506.3\" font-family=\"Times,serif\" font-size=\"14.00\" fill=\"#000000\">samples = 3</text>\n",
       "<text text-anchor=\"middle\" x=\"163.5\" y=\"-491.3\" font-family=\"Times,serif\" font-size=\"14.00\" fill=\"#000000\">value = [2, 2]</text>\n",
       "<text text-anchor=\"middle\" x=\"163.5\" y=\"-476.3\" font-family=\"Times,serif\" font-size=\"14.00\" fill=\"#000000\">class = N</text>\n",
       "</g>\n",
       "<!-- 1&#45;&gt;3 -->\n",
       "<g id=\"edge3\" class=\"edge\">\n",
       "<title>1&#45;&gt;3</title>\n",
       "<path fill=\"none\" stroke=\"#000000\" d=\"M163.5,-579.8796C163.5,-569.2134 163.5,-557.7021 163.5,-546.9015\"/>\n",
       "<polygon fill=\"#000000\" stroke=\"#000000\" points=\"167.0001,-546.8149 163.5,-536.8149 160.0001,-546.815 167.0001,-546.8149\"/>\n",
       "</g>\n",
       "<!-- 5 -->\n",
       "<g id=\"node6\" class=\"node\">\n",
       "<title>5</title>\n",
       "<polygon fill=\"#399de5\" fill-opacity=\"0.090196\" stroke=\"#000000\" points=\"369,-544 228,-544 228,-461 369,-461 369,-544\"/>\n",
       "<text text-anchor=\"middle\" x=\"298.5\" y=\"-528.8\" font-family=\"Times,serif\" font-size=\"14.00\" fill=\"#000000\">Home_Runs &lt;= 1.833</text>\n",
       "<text text-anchor=\"middle\" x=\"298.5\" y=\"-513.8\" font-family=\"Times,serif\" font-size=\"14.00\" fill=\"#000000\">gini = 0.499</text>\n",
       "<text text-anchor=\"middle\" x=\"298.5\" y=\"-498.8\" font-family=\"Times,serif\" font-size=\"14.00\" fill=\"#000000\">samples = 30</text>\n",
       "<text text-anchor=\"middle\" x=\"298.5\" y=\"-483.8\" font-family=\"Times,serif\" font-size=\"14.00\" fill=\"#000000\">value = [20, 22]</text>\n",
       "<text text-anchor=\"middle\" x=\"298.5\" y=\"-468.8\" font-family=\"Times,serif\" font-size=\"14.00\" fill=\"#000000\">class = Y</text>\n",
       "</g>\n",
       "<!-- 4&#45;&gt;5 -->\n",
       "<g id=\"edge5\" class=\"edge\">\n",
       "<title>4&#45;&gt;5</title>\n",
       "<path fill=\"none\" stroke=\"#000000\" d=\"M298.5,-579.8796C298.5,-571.6838 298.5,-562.9891 298.5,-554.5013\"/>\n",
       "<polygon fill=\"#000000\" stroke=\"#000000\" points=\"302.0001,-554.298 298.5,-544.2981 295.0001,-554.2981 302.0001,-554.298\"/>\n",
       "</g>\n",
       "<!-- 20 -->\n",
       "<g id=\"node21\" class=\"node\">\n",
       "<title>20</title>\n",
       "<polygon fill=\"#399de5\" stroke=\"#000000\" points=\"486,-536.5 387,-536.5 387,-468.5 486,-468.5 486,-536.5\"/>\n",
       "<text text-anchor=\"middle\" x=\"436.5\" y=\"-521.3\" font-family=\"Times,serif\" font-size=\"14.00\" fill=\"#000000\">gini = 0.0</text>\n",
       "<text text-anchor=\"middle\" x=\"436.5\" y=\"-506.3\" font-family=\"Times,serif\" font-size=\"14.00\" fill=\"#000000\">samples = 57</text>\n",
       "<text text-anchor=\"middle\" x=\"436.5\" y=\"-491.3\" font-family=\"Times,serif\" font-size=\"14.00\" fill=\"#000000\">value = [0, 91]</text>\n",
       "<text text-anchor=\"middle\" x=\"436.5\" y=\"-476.3\" font-family=\"Times,serif\" font-size=\"14.00\" fill=\"#000000\">class = Y</text>\n",
       "</g>\n",
       "<!-- 4&#45;&gt;20 -->\n",
       "<g id=\"edge20\" class=\"edge\">\n",
       "<title>4&#45;&gt;20</title>\n",
       "<path fill=\"none\" stroke=\"#000000\" d=\"M346.7657,-579.8796C360.4101,-568.1138 375.2469,-555.3197 388.8546,-543.5855\"/>\n",
       "<polygon fill=\"#000000\" stroke=\"#000000\" points=\"391.4187,-545.9961 396.7062,-536.8149 386.8473,-540.6948 391.4187,-545.9961\"/>\n",
       "</g>\n",
       "<!-- 6 -->\n",
       "<g id=\"node7\" class=\"node\">\n",
       "<title>6</title>\n",
       "<polygon fill=\"#399de5\" fill-opacity=\"0.623529\" stroke=\"#000000\" points=\"282.5,-425 144.5,-425 144.5,-342 282.5,-342 282.5,-425\"/>\n",
       "<text text-anchor=\"middle\" x=\"213.5\" y=\"-409.8\" font-family=\"Times,serif\" font-size=\"14.00\" fill=\"#000000\">Strike_Outs &lt;= 0.482</text>\n",
       "<text text-anchor=\"middle\" x=\"213.5\" y=\"-394.8\" font-family=\"Times,serif\" font-size=\"14.00\" fill=\"#000000\">gini = 0.397</text>\n",
       "<text text-anchor=\"middle\" x=\"213.5\" y=\"-379.8\" font-family=\"Times,serif\" font-size=\"14.00\" fill=\"#000000\">samples = 17</text>\n",
       "<text text-anchor=\"middle\" x=\"213.5\" y=\"-364.8\" font-family=\"Times,serif\" font-size=\"14.00\" fill=\"#000000\">value = [6, 16]</text>\n",
       "<text text-anchor=\"middle\" x=\"213.5\" y=\"-349.8\" font-family=\"Times,serif\" font-size=\"14.00\" fill=\"#000000\">class = Y</text>\n",
       "</g>\n",
       "<!-- 5&#45;&gt;6 -->\n",
       "<g id=\"edge6\" class=\"edge\">\n",
       "<title>5&#45;&gt;6</title>\n",
       "<path fill=\"none\" stroke=\"#000000\" d=\"M268.7711,-460.8796C262.4667,-452.0534 255.749,-442.6485 249.2476,-433.5466\"/>\n",
       "<polygon fill=\"#000000\" stroke=\"#000000\" points=\"252.0163,-431.4011 243.3558,-425.2981 246.3201,-435.4698 252.0163,-431.4011\"/>\n",
       "</g>\n",
       "<!-- 13 -->\n",
       "<g id=\"node14\" class=\"node\">\n",
       "<title>13</title>\n",
       "<polygon fill=\"#e58139\" fill-opacity=\"0.572549\" stroke=\"#000000\" points=\"456.5,-425 310.5,-425 310.5,-342 456.5,-342 456.5,-425\"/>\n",
       "<text text-anchor=\"middle\" x=\"383.5\" y=\"-409.8\" font-family=\"Times,serif\" font-size=\"14.00\" fill=\"#000000\">Stolen_Bases &lt;= 0.438</text>\n",
       "<text text-anchor=\"middle\" x=\"383.5\" y=\"-394.8\" font-family=\"Times,serif\" font-size=\"14.00\" fill=\"#000000\">gini = 0.42</text>\n",
       "<text text-anchor=\"middle\" x=\"383.5\" y=\"-379.8\" font-family=\"Times,serif\" font-size=\"14.00\" fill=\"#000000\">samples = 13</text>\n",
       "<text text-anchor=\"middle\" x=\"383.5\" y=\"-364.8\" font-family=\"Times,serif\" font-size=\"14.00\" fill=\"#000000\">value = [14, 6]</text>\n",
       "<text text-anchor=\"middle\" x=\"383.5\" y=\"-349.8\" font-family=\"Times,serif\" font-size=\"14.00\" fill=\"#000000\">class = N</text>\n",
       "</g>\n",
       "<!-- 5&#45;&gt;13 -->\n",
       "<g id=\"edge13\" class=\"edge\">\n",
       "<title>5&#45;&gt;13</title>\n",
       "<path fill=\"none\" stroke=\"#000000\" d=\"M328.2289,-460.8796C334.5333,-452.0534 341.251,-442.6485 347.7524,-433.5466\"/>\n",
       "<polygon fill=\"#000000\" stroke=\"#000000\" points=\"350.6799,-435.4698 353.6442,-425.2981 344.9837,-431.4011 350.6799,-435.4698\"/>\n",
       "</g>\n",
       "<!-- 7 -->\n",
       "<g id=\"node8\" class=\"node\">\n",
       "<title>7</title>\n",
       "<polygon fill=\"#399de5\" stroke=\"#000000\" points=\"120,-298.5 21,-298.5 21,-230.5 120,-230.5 120,-298.5\"/>\n",
       "<text text-anchor=\"middle\" x=\"70.5\" y=\"-283.3\" font-family=\"Times,serif\" font-size=\"14.00\" fill=\"#000000\">gini = 0.0</text>\n",
       "<text text-anchor=\"middle\" x=\"70.5\" y=\"-268.3\" font-family=\"Times,serif\" font-size=\"14.00\" fill=\"#000000\">samples = 8</text>\n",
       "<text text-anchor=\"middle\" x=\"70.5\" y=\"-253.3\" font-family=\"Times,serif\" font-size=\"14.00\" fill=\"#000000\">value = [0, 10]</text>\n",
       "<text text-anchor=\"middle\" x=\"70.5\" y=\"-238.3\" font-family=\"Times,serif\" font-size=\"14.00\" fill=\"#000000\">class = Y</text>\n",
       "</g>\n",
       "<!-- 6&#45;&gt;7 -->\n",
       "<g id=\"edge7\" class=\"edge\">\n",
       "<title>6&#45;&gt;7</title>\n",
       "<path fill=\"none\" stroke=\"#000000\" d=\"M163.4855,-341.8796C149.2147,-330.0038 133.6849,-317.0804 119.4767,-305.2568\"/>\n",
       "<polygon fill=\"#000000\" stroke=\"#000000\" points=\"121.661,-302.5212 111.7356,-298.8149 117.1834,-307.9019 121.661,-302.5212\"/>\n",
       "</g>\n",
       "<!-- 8 -->\n",
       "<g id=\"node9\" class=\"node\">\n",
       "<title>8</title>\n",
       "<polygon fill=\"transparent\" stroke=\"#000000\" points=\"288.5,-306 138.5,-306 138.5,-223 288.5,-223 288.5,-306\"/>\n",
       "<text text-anchor=\"middle\" x=\"213.5\" y=\"-290.8\" font-family=\"Times,serif\" font-size=\"14.00\" fill=\"#000000\">Sacrifice_Hits &lt;= 1.982</text>\n",
       "<text text-anchor=\"middle\" x=\"213.5\" y=\"-275.8\" font-family=\"Times,serif\" font-size=\"14.00\" fill=\"#000000\">gini = 0.5</text>\n",
       "<text text-anchor=\"middle\" x=\"213.5\" y=\"-260.8\" font-family=\"Times,serif\" font-size=\"14.00\" fill=\"#000000\">samples = 9</text>\n",
       "<text text-anchor=\"middle\" x=\"213.5\" y=\"-245.8\" font-family=\"Times,serif\" font-size=\"14.00\" fill=\"#000000\">value = [6, 6]</text>\n",
       "<text text-anchor=\"middle\" x=\"213.5\" y=\"-230.8\" font-family=\"Times,serif\" font-size=\"14.00\" fill=\"#000000\">class = N</text>\n",
       "</g>\n",
       "<!-- 6&#45;&gt;8 -->\n",
       "<g id=\"edge8\" class=\"edge\">\n",
       "<title>6&#45;&gt;8</title>\n",
       "<path fill=\"none\" stroke=\"#000000\" d=\"M213.5,-341.8796C213.5,-333.6838 213.5,-324.9891 213.5,-316.5013\"/>\n",
       "<polygon fill=\"#000000\" stroke=\"#000000\" points=\"217.0001,-316.298 213.5,-306.2981 210.0001,-316.2981 217.0001,-316.298\"/>\n",
       "</g>\n",
       "<!-- 9 -->\n",
       "<g id=\"node10\" class=\"node\">\n",
       "<title>9</title>\n",
       "<polygon fill=\"#e58139\" stroke=\"#000000\" points=\"137.5,-179.5 45.5,-179.5 45.5,-111.5 137.5,-111.5 137.5,-179.5\"/>\n",
       "<text text-anchor=\"middle\" x=\"91.5\" y=\"-164.3\" font-family=\"Times,serif\" font-size=\"14.00\" fill=\"#000000\">gini = 0.0</text>\n",
       "<text text-anchor=\"middle\" x=\"91.5\" y=\"-149.3\" font-family=\"Times,serif\" font-size=\"14.00\" fill=\"#000000\">samples = 2</text>\n",
       "<text text-anchor=\"middle\" x=\"91.5\" y=\"-134.3\" font-family=\"Times,serif\" font-size=\"14.00\" fill=\"#000000\">value = [3, 0]</text>\n",
       "<text text-anchor=\"middle\" x=\"91.5\" y=\"-119.3\" font-family=\"Times,serif\" font-size=\"14.00\" fill=\"#000000\">class = N</text>\n",
       "</g>\n",
       "<!-- 8&#45;&gt;9 -->\n",
       "<g id=\"edge9\" class=\"edge\">\n",
       "<title>8&#45;&gt;9</title>\n",
       "<path fill=\"none\" stroke=\"#000000\" d=\"M170.8303,-222.8796C158.8806,-211.2237 145.8963,-198.5587 133.9589,-186.9148\"/>\n",
       "<polygon fill=\"#000000\" stroke=\"#000000\" points=\"136.2825,-184.292 126.68,-179.8149 131.3947,-189.303 136.2825,-184.292\"/>\n",
       "</g>\n",
       "<!-- 10 -->\n",
       "<g id=\"node11\" class=\"node\">\n",
       "<title>10</title>\n",
       "<polygon fill=\"#399de5\" fill-opacity=\"0.498039\" stroke=\"#000000\" points=\"273,-187 156,-187 156,-104 273,-104 273,-187\"/>\n",
       "<text text-anchor=\"middle\" x=\"214.5\" y=\"-171.8\" font-family=\"Times,serif\" font-size=\"14.00\" fill=\"#000000\">Doubles &lt;= 2.377</text>\n",
       "<text text-anchor=\"middle\" x=\"214.5\" y=\"-156.8\" font-family=\"Times,serif\" font-size=\"14.00\" fill=\"#000000\">gini = 0.444</text>\n",
       "<text text-anchor=\"middle\" x=\"214.5\" y=\"-141.8\" font-family=\"Times,serif\" font-size=\"14.00\" fill=\"#000000\">samples = 7</text>\n",
       "<text text-anchor=\"middle\" x=\"214.5\" y=\"-126.8\" font-family=\"Times,serif\" font-size=\"14.00\" fill=\"#000000\">value = [3, 6]</text>\n",
       "<text text-anchor=\"middle\" x=\"214.5\" y=\"-111.8\" font-family=\"Times,serif\" font-size=\"14.00\" fill=\"#000000\">class = Y</text>\n",
       "</g>\n",
       "<!-- 8&#45;&gt;10 -->\n",
       "<g id=\"edge10\" class=\"edge\">\n",
       "<title>8&#45;&gt;10</title>\n",
       "<path fill=\"none\" stroke=\"#000000\" d=\"M213.8498,-222.8796C213.9186,-214.6838 213.9917,-205.9891 214.063,-197.5013\"/>\n",
       "<polygon fill=\"#000000\" stroke=\"#000000\" points=\"217.5645,-197.3272 214.1488,-187.2981 210.5648,-197.2683 217.5645,-197.3272\"/>\n",
       "</g>\n",
       "<!-- 11 -->\n",
       "<g id=\"node12\" class=\"node\">\n",
       "<title>11</title>\n",
       "<polygon fill=\"#399de5\" stroke=\"#000000\" points=\"205.5,-68 113.5,-68 113.5,0 205.5,0 205.5,-68\"/>\n",
       "<text text-anchor=\"middle\" x=\"159.5\" y=\"-52.8\" font-family=\"Times,serif\" font-size=\"14.00\" fill=\"#000000\">gini = 0.0</text>\n",
       "<text text-anchor=\"middle\" x=\"159.5\" y=\"-37.8\" font-family=\"Times,serif\" font-size=\"14.00\" fill=\"#000000\">samples = 5</text>\n",
       "<text text-anchor=\"middle\" x=\"159.5\" y=\"-22.8\" font-family=\"Times,serif\" font-size=\"14.00\" fill=\"#000000\">value = [0, 6]</text>\n",
       "<text text-anchor=\"middle\" x=\"159.5\" y=\"-7.8\" font-family=\"Times,serif\" font-size=\"14.00\" fill=\"#000000\">class = Y</text>\n",
       "</g>\n",
       "<!-- 10&#45;&gt;11 -->\n",
       "<g id=\"edge11\" class=\"edge\">\n",
       "<title>10&#45;&gt;11</title>\n",
       "<path fill=\"none\" stroke=\"#000000\" d=\"M194.02,-103.9815C189.7585,-95.3423 185.256,-86.2144 180.9603,-77.5059\"/>\n",
       "<polygon fill=\"#000000\" stroke=\"#000000\" points=\"183.9641,-75.6836 176.4014,-68.2637 177.6863,-78.7803 183.9641,-75.6836\"/>\n",
       "</g>\n",
       "<!-- 12 -->\n",
       "<g id=\"node13\" class=\"node\">\n",
       "<title>12</title>\n",
       "<polygon fill=\"#e58139\" stroke=\"#000000\" points=\"315.5,-68 223.5,-68 223.5,0 315.5,0 315.5,-68\"/>\n",
       "<text text-anchor=\"middle\" x=\"269.5\" y=\"-52.8\" font-family=\"Times,serif\" font-size=\"14.00\" fill=\"#000000\">gini = 0.0</text>\n",
       "<text text-anchor=\"middle\" x=\"269.5\" y=\"-37.8\" font-family=\"Times,serif\" font-size=\"14.00\" fill=\"#000000\">samples = 2</text>\n",
       "<text text-anchor=\"middle\" x=\"269.5\" y=\"-22.8\" font-family=\"Times,serif\" font-size=\"14.00\" fill=\"#000000\">value = [3, 0]</text>\n",
       "<text text-anchor=\"middle\" x=\"269.5\" y=\"-7.8\" font-family=\"Times,serif\" font-size=\"14.00\" fill=\"#000000\">class = N</text>\n",
       "</g>\n",
       "<!-- 10&#45;&gt;12 -->\n",
       "<g id=\"edge12\" class=\"edge\">\n",
       "<title>10&#45;&gt;12</title>\n",
       "<path fill=\"none\" stroke=\"#000000\" d=\"M234.98,-103.9815C239.2415,-95.3423 243.744,-86.2144 248.0397,-77.5059\"/>\n",
       "<polygon fill=\"#000000\" stroke=\"#000000\" points=\"251.3137,-78.7803 252.5986,-68.2637 245.0359,-75.6836 251.3137,-78.7803\"/>\n",
       "</g>\n",
       "<!-- 14 -->\n",
       "<g id=\"node15\" class=\"node\">\n",
       "<title>14</title>\n",
       "<polygon fill=\"#399de5\" fill-opacity=\"0.200000\" stroke=\"#000000\" points=\"460.5,-306 306.5,-306 306.5,-223 460.5,-223 460.5,-306\"/>\n",
       "<text text-anchor=\"middle\" x=\"383.5\" y=\"-290.8\" font-family=\"Times,serif\" font-size=\"14.00\" fill=\"#000000\">Sacrifice_Flies &lt;= 0.239</text>\n",
       "<text text-anchor=\"middle\" x=\"383.5\" y=\"-275.8\" font-family=\"Times,serif\" font-size=\"14.00\" fill=\"#000000\">gini = 0.494</text>\n",
       "<text text-anchor=\"middle\" x=\"383.5\" y=\"-260.8\" font-family=\"Times,serif\" font-size=\"14.00\" fill=\"#000000\">samples = 6</text>\n",
       "<text text-anchor=\"middle\" x=\"383.5\" y=\"-245.8\" font-family=\"Times,serif\" font-size=\"14.00\" fill=\"#000000\">value = [4, 5]</text>\n",
       "<text text-anchor=\"middle\" x=\"383.5\" y=\"-230.8\" font-family=\"Times,serif\" font-size=\"14.00\" fill=\"#000000\">class = Y</text>\n",
       "</g>\n",
       "<!-- 13&#45;&gt;14 -->\n",
       "<g id=\"edge14\" class=\"edge\">\n",
       "<title>13&#45;&gt;14</title>\n",
       "<path fill=\"none\" stroke=\"#000000\" d=\"M383.5,-341.8796C383.5,-333.6838 383.5,-324.9891 383.5,-316.5013\"/>\n",
       "<polygon fill=\"#000000\" stroke=\"#000000\" points=\"387.0001,-316.298 383.5,-306.2981 380.0001,-316.2981 387.0001,-316.298\"/>\n",
       "</g>\n",
       "<!-- 17 -->\n",
       "<g id=\"node18\" class=\"node\">\n",
       "<title>17</title>\n",
       "<polygon fill=\"#e58139\" fill-opacity=\"0.901961\" stroke=\"#000000\" points=\"652.5,-306 478.5,-306 478.5,-223 652.5,-223 652.5,-306\"/>\n",
       "<text text-anchor=\"middle\" x=\"565.5\" y=\"-290.8\" font-family=\"Times,serif\" font-size=\"14.00\" fill=\"#000000\">Intentional_Walks &lt;= 1.381</text>\n",
       "<text text-anchor=\"middle\" x=\"565.5\" y=\"-275.8\" font-family=\"Times,serif\" font-size=\"14.00\" fill=\"#000000\">gini = 0.165</text>\n",
       "<text text-anchor=\"middle\" x=\"565.5\" y=\"-260.8\" font-family=\"Times,serif\" font-size=\"14.00\" fill=\"#000000\">samples = 7</text>\n",
       "<text text-anchor=\"middle\" x=\"565.5\" y=\"-245.8\" font-family=\"Times,serif\" font-size=\"14.00\" fill=\"#000000\">value = [10, 1]</text>\n",
       "<text text-anchor=\"middle\" x=\"565.5\" y=\"-230.8\" font-family=\"Times,serif\" font-size=\"14.00\" fill=\"#000000\">class = N</text>\n",
       "</g>\n",
       "<!-- 13&#45;&gt;17 -->\n",
       "<g id=\"edge17\" class=\"edge\">\n",
       "<title>13&#45;&gt;17</title>\n",
       "<path fill=\"none\" stroke=\"#000000\" d=\"M447.1548,-341.8796C462.1176,-332.0962 478.1677,-321.6019 493.4691,-311.5971\"/>\n",
       "<polygon fill=\"#000000\" stroke=\"#000000\" points=\"495.4269,-314.4989 501.8812,-306.0969 491.5961,-308.6401 495.4269,-314.4989\"/>\n",
       "</g>\n",
       "<!-- 15 -->\n",
       "<g id=\"node16\" class=\"node\">\n",
       "<title>15</title>\n",
       "<polygon fill=\"#399de5\" stroke=\"#000000\" points=\"387.5,-179.5 295.5,-179.5 295.5,-111.5 387.5,-111.5 387.5,-179.5\"/>\n",
       "<text text-anchor=\"middle\" x=\"341.5\" y=\"-164.3\" font-family=\"Times,serif\" font-size=\"14.00\" fill=\"#000000\">gini = 0.0</text>\n",
       "<text text-anchor=\"middle\" x=\"341.5\" y=\"-149.3\" font-family=\"Times,serif\" font-size=\"14.00\" fill=\"#000000\">samples = 4</text>\n",
       "<text text-anchor=\"middle\" x=\"341.5\" y=\"-134.3\" font-family=\"Times,serif\" font-size=\"14.00\" fill=\"#000000\">value = [0, 5]</text>\n",
       "<text text-anchor=\"middle\" x=\"341.5\" y=\"-119.3\" font-family=\"Times,serif\" font-size=\"14.00\" fill=\"#000000\">class = Y</text>\n",
       "</g>\n",
       "<!-- 14&#45;&gt;15 -->\n",
       "<g id=\"edge15\" class=\"edge\">\n",
       "<title>14&#45;&gt;15</title>\n",
       "<path fill=\"none\" stroke=\"#000000\" d=\"M368.8104,-222.8796C365.0071,-212.1034 360.8993,-200.4647 357.0533,-189.5677\"/>\n",
       "<polygon fill=\"#000000\" stroke=\"#000000\" points=\"360.2399,-188.08 353.6112,-179.8149 353.639,-190.4097 360.2399,-188.08\"/>\n",
       "</g>\n",
       "<!-- 16 -->\n",
       "<g id=\"node17\" class=\"node\">\n",
       "<title>16</title>\n",
       "<polygon fill=\"#e58139\" stroke=\"#000000\" points=\"497.5,-179.5 405.5,-179.5 405.5,-111.5 497.5,-111.5 497.5,-179.5\"/>\n",
       "<text text-anchor=\"middle\" x=\"451.5\" y=\"-164.3\" font-family=\"Times,serif\" font-size=\"14.00\" fill=\"#000000\">gini = 0.0</text>\n",
       "<text text-anchor=\"middle\" x=\"451.5\" y=\"-149.3\" font-family=\"Times,serif\" font-size=\"14.00\" fill=\"#000000\">samples = 2</text>\n",
       "<text text-anchor=\"middle\" x=\"451.5\" y=\"-134.3\" font-family=\"Times,serif\" font-size=\"14.00\" fill=\"#000000\">value = [4, 0]</text>\n",
       "<text text-anchor=\"middle\" x=\"451.5\" y=\"-119.3\" font-family=\"Times,serif\" font-size=\"14.00\" fill=\"#000000\">class = N</text>\n",
       "</g>\n",
       "<!-- 14&#45;&gt;16 -->\n",
       "<g id=\"edge16\" class=\"edge\">\n",
       "<title>14&#45;&gt;16</title>\n",
       "<path fill=\"none\" stroke=\"#000000\" d=\"M407.2831,-222.8796C413.6294,-211.7735 420.4993,-199.7513 426.8891,-188.5691\"/>\n",
       "<polygon fill=\"#000000\" stroke=\"#000000\" points=\"429.9689,-190.2339 431.8915,-179.8149 423.8912,-186.7609 429.9689,-190.2339\"/>\n",
       "</g>\n",
       "<!-- 18 -->\n",
       "<g id=\"node19\" class=\"node\">\n",
       "<title>18</title>\n",
       "<polygon fill=\"#e58139\" fill-opacity=\"0.498039\" stroke=\"#000000\" points=\"609.5,-179.5 517.5,-179.5 517.5,-111.5 609.5,-111.5 609.5,-179.5\"/>\n",
       "<text text-anchor=\"middle\" x=\"563.5\" y=\"-164.3\" font-family=\"Times,serif\" font-size=\"14.00\" fill=\"#000000\">gini = 0.444</text>\n",
       "<text text-anchor=\"middle\" x=\"563.5\" y=\"-149.3\" font-family=\"Times,serif\" font-size=\"14.00\" fill=\"#000000\">samples = 2</text>\n",
       "<text text-anchor=\"middle\" x=\"563.5\" y=\"-134.3\" font-family=\"Times,serif\" font-size=\"14.00\" fill=\"#000000\">value = [2, 1]</text>\n",
       "<text text-anchor=\"middle\" x=\"563.5\" y=\"-119.3\" font-family=\"Times,serif\" font-size=\"14.00\" fill=\"#000000\">class = N</text>\n",
       "</g>\n",
       "<!-- 17&#45;&gt;18 -->\n",
       "<g id=\"edge18\" class=\"edge\">\n",
       "<title>17&#45;&gt;18</title>\n",
       "<path fill=\"none\" stroke=\"#000000\" d=\"M564.8005,-222.8796C564.6212,-212.2134 564.4278,-200.7021 564.2462,-189.9015\"/>\n",
       "<polygon fill=\"#000000\" stroke=\"#000000\" points=\"567.7444,-189.7547 564.0767,-179.8149 560.7454,-189.8724 567.7444,-189.7547\"/>\n",
       "</g>\n",
       "<!-- 19 -->\n",
       "<g id=\"node20\" class=\"node\">\n",
       "<title>19</title>\n",
       "<polygon fill=\"#e58139\" stroke=\"#000000\" points=\"719.5,-179.5 627.5,-179.5 627.5,-111.5 719.5,-111.5 719.5,-179.5\"/>\n",
       "<text text-anchor=\"middle\" x=\"673.5\" y=\"-164.3\" font-family=\"Times,serif\" font-size=\"14.00\" fill=\"#000000\">gini = 0.0</text>\n",
       "<text text-anchor=\"middle\" x=\"673.5\" y=\"-149.3\" font-family=\"Times,serif\" font-size=\"14.00\" fill=\"#000000\">samples = 5</text>\n",
       "<text text-anchor=\"middle\" x=\"673.5\" y=\"-134.3\" font-family=\"Times,serif\" font-size=\"14.00\" fill=\"#000000\">value = [8, 0]</text>\n",
       "<text text-anchor=\"middle\" x=\"673.5\" y=\"-119.3\" font-family=\"Times,serif\" font-size=\"14.00\" fill=\"#000000\">class = N</text>\n",
       "</g>\n",
       "<!-- 17&#45;&gt;19 -->\n",
       "<g id=\"edge19\" class=\"edge\">\n",
       "<title>17&#45;&gt;19</title>\n",
       "<path fill=\"none\" stroke=\"#000000\" d=\"M603.2732,-222.8796C613.7518,-211.3337 625.1291,-198.7976 635.6141,-187.2446\"/>\n",
       "<polygon fill=\"#000000\" stroke=\"#000000\" points=\"638.2282,-189.5722 642.357,-179.8149 633.0447,-184.8678 638.2282,-189.5722\"/>\n",
       "</g>\n",
       "</g>\n",
       "</svg>\n"
      ],
      "text/plain": [
       "<graphviz.files.Source at 0x1a41fcdd30>"
      ]
     },
     "execution_count": 113,
     "metadata": {},
     "output_type": "execute_result"
    }
   ],
   "source": [
    "from sklearn import tree\n",
    "import graphviz\n",
    "dot_data = tree.export_graphviz(clf.estimators_[0], \n",
    "                                feature_names = feature_names, \n",
    "                                class_names=['N', 'Y'] , #y_train.columns,\n",
    "                                filled = True\n",
    "#,\n",
    "#                                 proportion = True,\n",
    "#                                 leaves_parallel=True\n",
    "                               )\n",
    "graph = graphviz.Source(dot_data)\n",
    "graph"
   ]
  },
  {
   "cell_type": "code",
   "execution_count": 114,
   "metadata": {},
   "outputs": [
    {
     "name": "stdout",
     "output_type": "stream",
     "text": [
      "[[2343  176]\n",
      " [   1   42]]\n",
      "Y    42\n",
      "N     1\n",
      "Name: predicted, dtype: int64\n",
      "score for yesses, 0.9767441860465116\n",
      "The score is the fraction of yesses, you predicted 0.9767441860465116\n",
      "              precision    recall  f1-score   support\n",
      "\n",
      "           N       1.00      0.93      0.96      2519\n",
      "           Y       0.19      0.98      0.32        43\n",
      "\n",
      "   micro avg       0.93      0.93      0.93      2562\n",
      "   macro avg       0.60      0.95      0.64      2562\n",
      "weighted avg       0.99      0.93      0.95      2562\n",
      "\n"
     ]
    },
    {
     "data": {
      "image/png": "[encoded data removed]",
      "text/plain": [
       "<Figure size 432x288 with 1 Axes>"
      ]
     },
     "metadata": {},
     "output_type": "display_data"
    }
   ],
   "source": [
    "y_predicted = clf.predict(X_test_scaled)\n",
    "from sklearn.metrics import confusion_matrix\n",
    "print(confusion_matrix(y_test, y_predicted))\n",
    "\n",
    "predictions_df = pd.concat([pd.DataFrame(X_test_scaled),\n",
    "#                            .copy().assign(\n",
    "                           pd.DataFrame(dict(\n",
    "    predicted= y_predicted,\n",
    "    actual=y_test\n",
    ")).reset_index(drop=True)\n",
    "                           ], axis=1)\n",
    "# pd.Series(y_test).value_counts()#[:20]\n",
    "actual_inductees = predictions_df.loc[predictions_df.actual=='Y']\n",
    "predictions_for_actual_inductees = actual_inductees.predicted.value_counts()\n",
    "print(predictions_for_actual_inductees)\n",
    "predictions_for_actual_inductees.plot(kind='pie', title='predictions_for_actual_inductees',  labels=predictions_for_actual_inductees.values)\n",
    "\n",
    "print(f\"score for yesses, {clf.score(actual_inductees.drop(['predicted', 'actual'],axis=1),actual_inductees .actual)}\")\n",
    "print('The score is the fraction of yesses, you predicted',  42/(1+42))\n",
    "from sklearn.metrics import classification_report\n",
    "print(classification_report(y_test, y_predicted))"
   ]
  },
  {
   "cell_type": "code",
   "execution_count": 115,
   "metadata": {},
   "outputs": [
    {
     "name": "stdout",
     "output_type": "stream",
     "text": [
      "[0.02500883 0.15441204 0.14425392 0.1068096  0.00875195 0.0040366\n",
      " 0.01020108 0.05873662 0.12035807 0.07643227 0.12155407 0.00160435\n",
      " 0.06743917 0.00489091 0.00283759 0.00698434 0.00640377 0.0049019\n",
      " 0.06909007 0.00529286]\n"
     ]
    }
   ],
   "source": [
    "print(clf.feature_importances_)"
   ]
  },
  {
   "cell_type": "code",
   "execution_count": 116,
   "metadata": {},
   "outputs": [
    {
     "data": {
      "text/plain": [
       "Index(['Seasons', 'Hits', 'RBIs', 'Runs', 'Stolen_Bases', 'Strike_Outs',\n",
       "       'Home_Runs', 'Walks', 'Games', 'Triples', 'Doubles', 'Caught_Stealing',\n",
       "       'At_Bats', 'Intentional_Walks', 'Hit_By_Pitch', 'Sacrifice_Hits',\n",
       "       'Sacrifice_Flies', 'Ground_Into_Double_Plays', 'Total_Games',\n",
       "       'Games_Started'],\n",
       "      dtype='object')"
      ]
     },
     "execution_count": 116,
     "metadata": {},
     "output_type": "execute_result"
    }
   ],
   "source": [
    "feature_names"
   ]
  },
  {
   "cell_type": "markdown",
   "metadata": {},
   "source": [
    "Machine Learning Model - xgboost"
   ]
  },
  {
   "cell_type": "code",
   "execution_count": 117,
   "metadata": {},
   "outputs": [],
   "source": [
    "import os\n",
    "os.environ['KMP_DUPLICATE_LIB_OK']='True'\n",
    "from xgboost import XGBClassifier\n",
    "from sklearn.metrics import accuracy_score"
   ]
  },
  {
   "cell_type": "code",
   "execution_count": 118,
   "metadata": {},
   "outputs": [
    {
     "name": "stdout",
     "output_type": "stream",
     "text": [
      "XGBClassifier(base_score=0.5, booster='gbtree', colsample_bylevel=1,\n",
      "       colsample_bynode=1, colsample_bytree=1, gamma=0, learning_rate=0.1,\n",
      "       max_delta_step=0, max_depth=3, min_child_weight=1, missing=None,\n",
      "       n_estimators=100, n_jobs=1, nthread=None,\n",
      "       objective='binary:logistic', random_state=0, reg_alpha=0,\n",
      "       reg_lambda=1, scale_pos_weight=1, seed=None, silent=None,\n",
      "       subsample=1, verbosity=1)\n"
     ]
    }
   ],
   "source": [
    "# fit model no training data\n",
    "model = XGBClassifier(scale_pos_weight=1)\n",
    "model.fit(X_train_scaled, y_train)\n",
    "print(model)"
   ]
  },
  {
   "cell_type": "code",
   "execution_count": 119,
   "metadata": {},
   "outputs": [
    {
     "data": {
      "text/plain": [
       "2562"
      ]
     },
     "execution_count": 119,
     "metadata": {},
     "output_type": "execute_result"
    }
   ],
   "source": [
    "y_pred = model.predict(X_test_scaled)\n",
    "len(y_pred)"
   ]
  },
  {
   "cell_type": "code",
   "execution_count": 120,
   "metadata": {},
   "outputs": [],
   "source": [
    "# pd.concat([pd.Series(y_pred), pd.Series(y_pred)], axis=1)"
   ]
  },
  {
   "cell_type": "code",
   "execution_count": 121,
   "metadata": {},
   "outputs": [
    {
     "data": {
      "text/plain": [
       "0.9976580796252927"
      ]
     },
     "execution_count": 121,
     "metadata": {},
     "output_type": "execute_result"
    }
   ],
   "source": [
    "model.score(X_train_scaled, y_train)"
   ]
  },
  {
   "cell_type": "code",
   "execution_count": 122,
   "metadata": {},
   "outputs": [
    {
     "name": "stdout",
     "output_type": "stream",
     "text": [
      "Accuracy: 98.63%\n"
     ]
    }
   ],
   "source": [
    "accuracy = accuracy_score(y_test, y_pred)\n",
    "print(\"Accuracy: %.2f%%\" % (accuracy * 100.0))"
   ]
  },
  {
   "cell_type": "code",
   "execution_count": 123,
   "metadata": {},
   "outputs": [
    {
     "data": {
      "text/plain": [
       "0.9863387978142076"
      ]
     },
     "execution_count": 123,
     "metadata": {},
     "output_type": "execute_result"
    }
   ],
   "source": [
    "model.score(X_test_scaled, y_test)"
   ]
  },
  {
   "cell_type": "code",
   "execution_count": 124,
   "metadata": {},
   "outputs": [
    {
     "name": "stdout",
     "output_type": "stream",
     "text": [
      "[[2502   17]\n",
      " [  18   25]]\n",
      "Y    25\n",
      "N    18\n",
      "Name: predicted, dtype: int64\n",
      "The score is the fraction of yesses, you predicted 0.5813953488372093\n",
      "              precision    recall  f1-score   support\n",
      "\n",
      "           N       0.99      0.99      0.99      2519\n",
      "           Y       0.60      0.58      0.59        43\n",
      "\n",
      "   micro avg       0.99      0.99      0.99      2562\n",
      "   macro avg       0.79      0.79      0.79      2562\n",
      "weighted avg       0.99      0.99      0.99      2562\n",
      "\n"
     ]
    },
    {
     "data": {
      "image/png": "[encoded data removed]",
      "text/plain": [
       "<Figure size 432x288 with 1 Axes>"
      ]
     },
     "metadata": {},
     "output_type": "display_data"
    }
   ],
   "source": [
    "\n",
    "from sklearn.metrics import confusion_matrix\n",
    "print(confusion_matrix(y_test, y_pred))\n",
    "predictions_df = pd.concat([pd.DataFrame(X_test_scaled),\n",
    "#                            .copy().assign(\n",
    "                           pd.DataFrame(dict(\n",
    "    predicted= y_pred,\n",
    "    actual=y_test\n",
    ")).reset_index(drop=True)\n",
    "                           ], axis=1)\n",
    "# pd.Series(y_test).value_counts()#[:20]\n",
    "actual_inductees = predictions_df.loc[predictions_df.actual=='Y']\n",
    "predictions_for_actual_inductees = actual_inductees.predicted.value_counts()\n",
    "print(predictions_for_actual_inductees)\n",
    "predictions_for_actual_inductees.plot(kind='pie', title='predictions_for_actual_inductees',  labels=predictions_for_actual_inductees.values)\n",
    "\n",
    "# print(f\"score for yesses, {model.score(actual_inductees.drop(['predicted', 'actual'],axis=1),actual_inductees .actual)}\")\n",
    "print('The score is the fraction of yesses, you predicted',  25/(18+25))\n",
    "print(classification_report(y_test, y_pred))"
   ]
  },
  {
   "cell_type": "code",
   "execution_count": 125,
   "metadata": {},
   "outputs": [
    {
     "name": "stdout",
     "output_type": "stream",
     "text": [
      "[0.01996314 0.129307   0.1479063  0.24332312 0.03118645 0.03661241\n",
      " 0.03500444 0.0242803  0.01923649 0.05763521 0.01845419 0.01828944\n",
      " 0.04762429 0.         0.02476779 0.03252998 0.05060827 0.01925583\n",
      " 0.01710613 0.02690919]\n"
     ]
    }
   ],
   "source": [
    "print(model.feature_importances_)"
   ]
  },
  {
   "cell_type": "code",
   "execution_count": 126,
   "metadata": {},
   "outputs": [
    {
     "name": "stdout",
     "output_type": "stream",
     "text": [
      "Index(['Seasons', 'Hits', 'RBIs', 'Runs', 'Stolen_Bases', 'Strike_Outs',\n",
      "       'Home_Runs', 'Walks', 'Games', 'Triples', 'Doubles', 'Caught_Stealing',\n",
      "       'At_Bats', 'Intentional_Walks', 'Hit_By_Pitch', 'Sacrifice_Hits',\n",
      "       'Sacrifice_Flies', 'Ground_Into_Double_Plays', 'Total_Games',\n",
      "       'Games_Started'],\n",
      "      dtype='object')\n"
     ]
    }
   ],
   "source": [
    "print(feature_names)"
   ]
  },
  {
   "cell_type": "code",
   "execution_count": 127,
   "metadata": {},
   "outputs": [
    {
     "name": "stderr",
     "output_type": "stream",
     "text": [
      "/Users/chris.marchetti/anaconda3/lib/python3.7/site-packages/sklearn/preprocessing/data.py:645: DataConversionWarning: Data with input dtype int64, float64 were all converted to float64 by StandardScaler.\n",
      "  return self.partial_fit(X, y)\n",
      "/Users/chris.marchetti/anaconda3/lib/python3.7/site-packages/ipykernel_launcher.py:6: DataConversionWarning: Data with input dtype int64, float64 were all converted to float64 by StandardScaler.\n",
      "  \n"
     ]
    }
   ],
   "source": [
    "data_total = position_player_df.drop(['inducted', 'playerID', 'nameFirst', 'nameLast', 'finalGame','bats', \n",
    "                                'throws','weight', 'height','yearid','primary_position','years_since_final_game', \n",
    "                                'eligible_for_hall'], axis=1)\n",
    "data_total.fillna(0, inplace=True)\n",
    "data_total_scaler = StandardScaler().fit(data_total)\n",
    "data_total_scaled = data_total_scaler.transform(data_total)\n",
    "data_total_predicted = model.predict(data_total_scaled)"
   ]
  },
  {
   "cell_type": "code",
   "execution_count": 128,
   "metadata": {},
   "outputs": [
    {
     "data": {
      "text/html": [
       "<div>\n",
       "<style scoped>\n",
       "    .dataframe tbody tr th:only-of-type {\n",
       "        vertical-align: middle;\n",
       "    }\n",
       "\n",
       "    .dataframe tbody tr th {\n",
       "        vertical-align: top;\n",
       "    }\n",
       "\n",
       "    .dataframe thead th {\n",
       "        text-align: right;\n",
       "    }\n",
       "</style>\n",
       "<table border=\"1\" class=\"dataframe\">\n",
       "  <thead>\n",
       "    <tr style=\"text-align: right;\">\n",
       "      <th></th>\n",
       "      <th>playerID</th>\n",
       "      <th>nameFirst</th>\n",
       "      <th>nameLast</th>\n",
       "      <th>Seasons</th>\n",
       "      <th>Hits</th>\n",
       "      <th>RBIs</th>\n",
       "      <th>Runs</th>\n",
       "      <th>Stolen_Bases</th>\n",
       "      <th>Strike_Outs</th>\n",
       "      <th>Home_Runs</th>\n",
       "      <th>...</th>\n",
       "      <th>throws</th>\n",
       "      <th>finalGame</th>\n",
       "      <th>yearid</th>\n",
       "      <th>inducted</th>\n",
       "      <th>Total_Games</th>\n",
       "      <th>Games_Started</th>\n",
       "      <th>primary_position</th>\n",
       "      <th>years_since_final_game</th>\n",
       "      <th>eligible_for_hall</th>\n",
       "      <th>model_predict</th>\n",
       "    </tr>\n",
       "  </thead>\n",
       "  <tbody>\n",
       "    <tr>\n",
       "      <th>0</th>\n",
       "      <td>aaronha01</td>\n",
       "      <td>Hank</td>\n",
       "      <td>Aaron</td>\n",
       "      <td>23</td>\n",
       "      <td>3771</td>\n",
       "      <td>2297.0</td>\n",
       "      <td>2174</td>\n",
       "      <td>240.0</td>\n",
       "      <td>1383.0</td>\n",
       "      <td>755</td>\n",
       "      <td>...</td>\n",
       "      <td>R</td>\n",
       "      <td>1976-10-03</td>\n",
       "      <td>1982.0</td>\n",
       "      <td>Y</td>\n",
       "      <td>3298</td>\n",
       "      <td>3173.0</td>\n",
       "      <td>Out_Field</td>\n",
       "      <td>43.126027</td>\n",
       "      <td>eligible</td>\n",
       "      <td>Y</td>\n",
       "    </tr>\n",
       "    <tr>\n",
       "      <th>1</th>\n",
       "      <td>aaronto01</td>\n",
       "      <td>Tommie</td>\n",
       "      <td>Aaron</td>\n",
       "      <td>7</td>\n",
       "      <td>216</td>\n",
       "      <td>94.0</td>\n",
       "      <td>102</td>\n",
       "      <td>9.0</td>\n",
       "      <td>145.0</td>\n",
       "      <td>13</td>\n",
       "      <td>...</td>\n",
       "      <td>R</td>\n",
       "      <td>1971-09-26</td>\n",
       "      <td>0.0</td>\n",
       "      <td>N</td>\n",
       "      <td>437</td>\n",
       "      <td>206.0</td>\n",
       "      <td>First_Base</td>\n",
       "      <td>48.150685</td>\n",
       "      <td>not_eligible</td>\n",
       "      <td>N</td>\n",
       "    </tr>\n",
       "    <tr>\n",
       "      <th>2</th>\n",
       "      <td>abadan01</td>\n",
       "      <td>Andy</td>\n",
       "      <td>Abad</td>\n",
       "      <td>3</td>\n",
       "      <td>2</td>\n",
       "      <td>0.0</td>\n",
       "      <td>1</td>\n",
       "      <td>0.0</td>\n",
       "      <td>5.0</td>\n",
       "      <td>0</td>\n",
       "      <td>...</td>\n",
       "      <td>L</td>\n",
       "      <td>2006-04-13</td>\n",
       "      <td>0.0</td>\n",
       "      <td>N</td>\n",
       "      <td>15</td>\n",
       "      <td>4.0</td>\n",
       "      <td>First_Base</td>\n",
       "      <td>13.580822</td>\n",
       "      <td>not_eligible</td>\n",
       "      <td>N</td>\n",
       "    </tr>\n",
       "    <tr>\n",
       "      <th>3</th>\n",
       "      <td>abadijo01</td>\n",
       "      <td>John</td>\n",
       "      <td>Abadie</td>\n",
       "      <td>2</td>\n",
       "      <td>11</td>\n",
       "      <td>5.0</td>\n",
       "      <td>4</td>\n",
       "      <td>1.0</td>\n",
       "      <td>3.0</td>\n",
       "      <td>0</td>\n",
       "      <td>...</td>\n",
       "      <td>R</td>\n",
       "      <td>1875-06-10</td>\n",
       "      <td>0.0</td>\n",
       "      <td>N</td>\n",
       "      <td>12</td>\n",
       "      <td>0.0</td>\n",
       "      <td>First_Base</td>\n",
       "      <td>144.509589</td>\n",
       "      <td>not_eligible</td>\n",
       "      <td>N</td>\n",
       "    </tr>\n",
       "    <tr>\n",
       "      <th>4</th>\n",
       "      <td>abbated01</td>\n",
       "      <td>Ed</td>\n",
       "      <td>Abbaticchio</td>\n",
       "      <td>10</td>\n",
       "      <td>772</td>\n",
       "      <td>324.0</td>\n",
       "      <td>355</td>\n",
       "      <td>142.0</td>\n",
       "      <td>283.0</td>\n",
       "      <td>11</td>\n",
       "      <td>...</td>\n",
       "      <td>R</td>\n",
       "      <td>1910-09-15</td>\n",
       "      <td>0.0</td>\n",
       "      <td>N</td>\n",
       "      <td>857</td>\n",
       "      <td>357.0</td>\n",
       "      <td>Second_Base</td>\n",
       "      <td>109.221918</td>\n",
       "      <td>eligible</td>\n",
       "      <td>N</td>\n",
       "    </tr>\n",
       "  </tbody>\n",
       "</table>\n",
       "<p>5 rows × 34 columns</p>\n",
       "</div>"
      ],
      "text/plain": [
       "    playerID nameFirst     nameLast  Seasons  Hits    RBIs  Runs  \\\n",
       "0  aaronha01      Hank        Aaron       23  3771  2297.0  2174   \n",
       "1  aaronto01    Tommie        Aaron        7   216    94.0   102   \n",
       "2   abadan01      Andy         Abad        3     2     0.0     1   \n",
       "3  abadijo01      John       Abadie        2    11     5.0     4   \n",
       "4  abbated01        Ed  Abbaticchio       10   772   324.0   355   \n",
       "\n",
       "   Stolen_Bases  Strike_Outs  Home_Runs  ...  throws   finalGame  yearid  \\\n",
       "0         240.0       1383.0        755  ...       R  1976-10-03  1982.0   \n",
       "1           9.0        145.0         13  ...       R  1971-09-26     0.0   \n",
       "2           0.0          5.0          0  ...       L  2006-04-13     0.0   \n",
       "3           1.0          3.0          0  ...       R  1875-06-10     0.0   \n",
       "4         142.0        283.0         11  ...       R  1910-09-15     0.0   \n",
       "\n",
       "   inducted  Total_Games  Games_Started  primary_position  \\\n",
       "0         Y         3298         3173.0         Out_Field   \n",
       "1         N          437          206.0        First_Base   \n",
       "2         N           15            4.0        First_Base   \n",
       "3         N           12            0.0        First_Base   \n",
       "4         N          857          357.0       Second_Base   \n",
       "\n",
       "   years_since_final_game  eligible_for_hall  model_predict  \n",
       "0               43.126027           eligible              Y  \n",
       "1               48.150685       not_eligible              N  \n",
       "2               13.580822       not_eligible              N  \n",
       "3              144.509589       not_eligible              N  \n",
       "4              109.221918           eligible              N  \n",
       "\n",
       "[5 rows x 34 columns]"
      ]
     },
     "execution_count": 128,
     "metadata": {},
     "output_type": "execute_result"
    }
   ],
   "source": [
    "position_player_predicted = pd.concat([position_player_df, pd.Series(data_total_predicted)], axis=1)\n",
    "position_player_predicted.rename(columns={0:\"model_predict\"}, inplace=True)\n",
    "position_player_predicted.head()"
   ]
  },
  {
   "cell_type": "code",
   "execution_count": 129,
   "metadata": {},
   "outputs": [
    {
     "data": {
      "text/html": [
       "<div>\n",
       "<style scoped>\n",
       "    .dataframe tbody tr th:only-of-type {\n",
       "        vertical-align: middle;\n",
       "    }\n",
       "\n",
       "    .dataframe tbody tr th {\n",
       "        vertical-align: top;\n",
       "    }\n",
       "\n",
       "    .dataframe thead th {\n",
       "        text-align: right;\n",
       "    }\n",
       "</style>\n",
       "<table border=\"1\" class=\"dataframe\">\n",
       "  <thead>\n",
       "    <tr style=\"text-align: right;\">\n",
       "      <th></th>\n",
       "      <th>playerID</th>\n",
       "      <th>nameFirst</th>\n",
       "      <th>nameLast</th>\n",
       "      <th>Seasons</th>\n",
       "      <th>Hits</th>\n",
       "      <th>RBIs</th>\n",
       "      <th>Runs</th>\n",
       "      <th>Stolen_Bases</th>\n",
       "      <th>Strike_Outs</th>\n",
       "      <th>Home_Runs</th>\n",
       "      <th>...</th>\n",
       "      <th>finalGame</th>\n",
       "      <th>yearid</th>\n",
       "      <th>inducted</th>\n",
       "      <th>Total_Games</th>\n",
       "      <th>Games_Started</th>\n",
       "      <th>primary_position</th>\n",
       "      <th>years_since_final_game</th>\n",
       "      <th>eligible_for_hall</th>\n",
       "      <th>model_predict</th>\n",
       "      <th>Comparison</th>\n",
       "    </tr>\n",
       "  </thead>\n",
       "  <tbody>\n",
       "    <tr>\n",
       "      <th>0</th>\n",
       "      <td>aaronha01</td>\n",
       "      <td>Hank</td>\n",
       "      <td>Aaron</td>\n",
       "      <td>23</td>\n",
       "      <td>3771</td>\n",
       "      <td>2297.0</td>\n",
       "      <td>2174</td>\n",
       "      <td>240.0</td>\n",
       "      <td>1383.0</td>\n",
       "      <td>755</td>\n",
       "      <td>...</td>\n",
       "      <td>1976-10-03</td>\n",
       "      <td>1982.0</td>\n",
       "      <td>Y</td>\n",
       "      <td>3298</td>\n",
       "      <td>3173.0</td>\n",
       "      <td>Out_Field</td>\n",
       "      <td>43.126027</td>\n",
       "      <td>eligible</td>\n",
       "      <td>Y</td>\n",
       "      <td>True</td>\n",
       "    </tr>\n",
       "    <tr>\n",
       "      <th>1</th>\n",
       "      <td>aaronto01</td>\n",
       "      <td>Tommie</td>\n",
       "      <td>Aaron</td>\n",
       "      <td>7</td>\n",
       "      <td>216</td>\n",
       "      <td>94.0</td>\n",
       "      <td>102</td>\n",
       "      <td>9.0</td>\n",
       "      <td>145.0</td>\n",
       "      <td>13</td>\n",
       "      <td>...</td>\n",
       "      <td>1971-09-26</td>\n",
       "      <td>0.0</td>\n",
       "      <td>N</td>\n",
       "      <td>437</td>\n",
       "      <td>206.0</td>\n",
       "      <td>First_Base</td>\n",
       "      <td>48.150685</td>\n",
       "      <td>not_eligible</td>\n",
       "      <td>N</td>\n",
       "      <td>True</td>\n",
       "    </tr>\n",
       "    <tr>\n",
       "      <th>2</th>\n",
       "      <td>abadan01</td>\n",
       "      <td>Andy</td>\n",
       "      <td>Abad</td>\n",
       "      <td>3</td>\n",
       "      <td>2</td>\n",
       "      <td>0.0</td>\n",
       "      <td>1</td>\n",
       "      <td>0.0</td>\n",
       "      <td>5.0</td>\n",
       "      <td>0</td>\n",
       "      <td>...</td>\n",
       "      <td>2006-04-13</td>\n",
       "      <td>0.0</td>\n",
       "      <td>N</td>\n",
       "      <td>15</td>\n",
       "      <td>4.0</td>\n",
       "      <td>First_Base</td>\n",
       "      <td>13.580822</td>\n",
       "      <td>not_eligible</td>\n",
       "      <td>N</td>\n",
       "      <td>True</td>\n",
       "    </tr>\n",
       "    <tr>\n",
       "      <th>3</th>\n",
       "      <td>abadijo01</td>\n",
       "      <td>John</td>\n",
       "      <td>Abadie</td>\n",
       "      <td>2</td>\n",
       "      <td>11</td>\n",
       "      <td>5.0</td>\n",
       "      <td>4</td>\n",
       "      <td>1.0</td>\n",
       "      <td>3.0</td>\n",
       "      <td>0</td>\n",
       "      <td>...</td>\n",
       "      <td>1875-06-10</td>\n",
       "      <td>0.0</td>\n",
       "      <td>N</td>\n",
       "      <td>12</td>\n",
       "      <td>0.0</td>\n",
       "      <td>First_Base</td>\n",
       "      <td>144.509589</td>\n",
       "      <td>not_eligible</td>\n",
       "      <td>N</td>\n",
       "      <td>True</td>\n",
       "    </tr>\n",
       "    <tr>\n",
       "      <th>4</th>\n",
       "      <td>abbated01</td>\n",
       "      <td>Ed</td>\n",
       "      <td>Abbaticchio</td>\n",
       "      <td>10</td>\n",
       "      <td>772</td>\n",
       "      <td>324.0</td>\n",
       "      <td>355</td>\n",
       "      <td>142.0</td>\n",
       "      <td>283.0</td>\n",
       "      <td>11</td>\n",
       "      <td>...</td>\n",
       "      <td>1910-09-15</td>\n",
       "      <td>0.0</td>\n",
       "      <td>N</td>\n",
       "      <td>857</td>\n",
       "      <td>357.0</td>\n",
       "      <td>Second_Base</td>\n",
       "      <td>109.221918</td>\n",
       "      <td>eligible</td>\n",
       "      <td>N</td>\n",
       "      <td>True</td>\n",
       "    </tr>\n",
       "  </tbody>\n",
       "</table>\n",
       "<p>5 rows × 35 columns</p>\n",
       "</div>"
      ],
      "text/plain": [
       "    playerID nameFirst     nameLast  Seasons  Hits    RBIs  Runs  \\\n",
       "0  aaronha01      Hank        Aaron       23  3771  2297.0  2174   \n",
       "1  aaronto01    Tommie        Aaron        7   216    94.0   102   \n",
       "2   abadan01      Andy         Abad        3     2     0.0     1   \n",
       "3  abadijo01      John       Abadie        2    11     5.0     4   \n",
       "4  abbated01        Ed  Abbaticchio       10   772   324.0   355   \n",
       "\n",
       "   Stolen_Bases  Strike_Outs  Home_Runs  ...   finalGame  yearid  inducted  \\\n",
       "0         240.0       1383.0        755  ...  1976-10-03  1982.0         Y   \n",
       "1           9.0        145.0         13  ...  1971-09-26     0.0         N   \n",
       "2           0.0          5.0          0  ...  2006-04-13     0.0         N   \n",
       "3           1.0          3.0          0  ...  1875-06-10     0.0         N   \n",
       "4         142.0        283.0         11  ...  1910-09-15     0.0         N   \n",
       "\n",
       "   Total_Games  Games_Started  primary_position  years_since_final_game  \\\n",
       "0         3298         3173.0         Out_Field               43.126027   \n",
       "1          437          206.0        First_Base               48.150685   \n",
       "2           15            4.0        First_Base               13.580822   \n",
       "3           12            0.0        First_Base              144.509589   \n",
       "4          857          357.0       Second_Base              109.221918   \n",
       "\n",
       "   eligible_for_hall  model_predict  Comparison  \n",
       "0           eligible              Y        True  \n",
       "1       not_eligible              N        True  \n",
       "2       not_eligible              N        True  \n",
       "3       not_eligible              N        True  \n",
       "4           eligible              N        True  \n",
       "\n",
       "[5 rows x 35 columns]"
      ]
     },
     "execution_count": 129,
     "metadata": {},
     "output_type": "execute_result"
    }
   ],
   "source": [
    "position_player_predicted['Comparison']=position_player_predicted['inducted']==position_player_predicted['model_predict']\n",
    "position_player_predicted.head()"
   ]
  },
  {
   "cell_type": "code",
   "execution_count": 130,
   "metadata": {},
   "outputs": [
    {
     "data": {
      "text/plain": [
       "True     111\n",
       "False     48\n",
       "Name: Comparison, dtype: int64"
      ]
     },
     "execution_count": 130,
     "metadata": {},
     "output_type": "execute_result"
    }
   ],
   "source": [
    "position_player_predicted[position_player_predicted['inducted']=='Y'].Comparison.value_counts()"
   ]
  },
  {
   "cell_type": "code",
   "execution_count": 131,
   "metadata": {},
   "outputs": [],
   "source": [
    "position_player_predicted['yearid'] = position_player_predicted['yearid'].astype('int').replace(0.0, 'N/A')\n"
   ]
  },
  {
   "cell_type": "code",
   "execution_count": 132,
   "metadata": {},
   "outputs": [],
   "source": [
    "position_player_predicted.to_csv('Data/position_players_predicted.csv', index=False)"
   ]
  },
  {
   "cell_type": "code",
   "execution_count": null,
   "metadata": {},
   "outputs": [],
   "source": []
  }
 ],
 "metadata": {
  "kernelspec": {
   "display_name": "Python 3",
   "language": "python",
   "name": "python3"
  },
  "language_info": {
   "codemirror_mode": {
    "name": "ipython",
    "version": 3
   },
   "file_extension": ".py",
   "mimetype": "text/x-python",
   "name": "python",
   "nbconvert_exporter": "python",
   "pygments_lexer": "ipython3",
   "version": "3.7.3"
  }
 },
 "nbformat": 4,
 "nbformat_minor": 2
}
