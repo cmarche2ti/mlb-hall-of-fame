{
 "cells": [
  {
   "cell_type": "code",
   "execution_count": 3,
   "metadata": {},
   "outputs": [],
   "source": [
    "from imblearn.ensemble import BalancedRandomForestClassifier\n",
    "import pandas as pd\n",
    "import matplotlib.pyplot as plt\n"
   ]
  },
  {
   "cell_type": "code",
   "execution_count": 4,
   "metadata": {},
   "outputs": [
    {
     "data": {
      "text/html": [
       "<div>\n",
       "<style scoped>\n",
       "    .dataframe tbody tr th:only-of-type {\n",
       "        vertical-align: middle;\n",
       "    }\n",
       "\n",
       "    .dataframe tbody tr th {\n",
       "        vertical-align: top;\n",
       "    }\n",
       "\n",
       "    .dataframe thead th {\n",
       "        text-align: right;\n",
       "    }\n",
       "</style>\n",
       "<table border=\"1\" class=\"dataframe\">\n",
       "  <thead>\n",
       "    <tr style=\"text-align: right;\">\n",
       "      <th></th>\n",
       "      <th>playerID</th>\n",
       "      <th>nameFirst</th>\n",
       "      <th>nameLast</th>\n",
       "      <th>Seasons</th>\n",
       "      <th>Hits</th>\n",
       "      <th>RBIs</th>\n",
       "      <th>Runs</th>\n",
       "      <th>Stolen_Bases</th>\n",
       "      <th>Strike_Outs</th>\n",
       "      <th>Home_Runs</th>\n",
       "      <th>...</th>\n",
       "      <th>bats</th>\n",
       "      <th>throws</th>\n",
       "      <th>finalGame</th>\n",
       "      <th>yearid</th>\n",
       "      <th>inducted</th>\n",
       "      <th>Total_Games</th>\n",
       "      <th>Games_Started</th>\n",
       "      <th>primary_position</th>\n",
       "      <th>years_since_final_game</th>\n",
       "      <th>eligible_for_hall</th>\n",
       "    </tr>\n",
       "  </thead>\n",
       "  <tbody>\n",
       "    <tr>\n",
       "      <th>0</th>\n",
       "      <td>aaronha01</td>\n",
       "      <td>Hank</td>\n",
       "      <td>Aaron</td>\n",
       "      <td>23</td>\n",
       "      <td>3771</td>\n",
       "      <td>2297</td>\n",
       "      <td>2174</td>\n",
       "      <td>240</td>\n",
       "      <td>1383</td>\n",
       "      <td>755</td>\n",
       "      <td>...</td>\n",
       "      <td>R</td>\n",
       "      <td>R</td>\n",
       "      <td>10/3/76</td>\n",
       "      <td>1982</td>\n",
       "      <td>Y</td>\n",
       "      <td>3298</td>\n",
       "      <td>3173</td>\n",
       "      <td>Out_Field</td>\n",
       "      <td>43.136986</td>\n",
       "      <td>eligible</td>\n",
       "    </tr>\n",
       "    <tr>\n",
       "      <th>1</th>\n",
       "      <td>aaronto01</td>\n",
       "      <td>Tommie</td>\n",
       "      <td>Aaron</td>\n",
       "      <td>7</td>\n",
       "      <td>216</td>\n",
       "      <td>94</td>\n",
       "      <td>102</td>\n",
       "      <td>9</td>\n",
       "      <td>145</td>\n",
       "      <td>13</td>\n",
       "      <td>...</td>\n",
       "      <td>R</td>\n",
       "      <td>R</td>\n",
       "      <td>9/26/71</td>\n",
       "      <td>0</td>\n",
       "      <td>N</td>\n",
       "      <td>437</td>\n",
       "      <td>206</td>\n",
       "      <td>First_Base</td>\n",
       "      <td>48.161644</td>\n",
       "      <td>not_eligible</td>\n",
       "    </tr>\n",
       "    <tr>\n",
       "      <th>2</th>\n",
       "      <td>abadan01</td>\n",
       "      <td>Andy</td>\n",
       "      <td>Abad</td>\n",
       "      <td>3</td>\n",
       "      <td>2</td>\n",
       "      <td>0</td>\n",
       "      <td>1</td>\n",
       "      <td>0</td>\n",
       "      <td>5</td>\n",
       "      <td>0</td>\n",
       "      <td>...</td>\n",
       "      <td>L</td>\n",
       "      <td>L</td>\n",
       "      <td>4/13/06</td>\n",
       "      <td>0</td>\n",
       "      <td>N</td>\n",
       "      <td>15</td>\n",
       "      <td>4</td>\n",
       "      <td>First_Base</td>\n",
       "      <td>13.591781</td>\n",
       "      <td>not_eligible</td>\n",
       "    </tr>\n",
       "    <tr>\n",
       "      <th>3</th>\n",
       "      <td>abadijo01</td>\n",
       "      <td>John</td>\n",
       "      <td>Abadie</td>\n",
       "      <td>2</td>\n",
       "      <td>11</td>\n",
       "      <td>5</td>\n",
       "      <td>4</td>\n",
       "      <td>1</td>\n",
       "      <td>3</td>\n",
       "      <td>0</td>\n",
       "      <td>...</td>\n",
       "      <td>R</td>\n",
       "      <td>R</td>\n",
       "      <td>1875-06-10</td>\n",
       "      <td>0</td>\n",
       "      <td>N</td>\n",
       "      <td>12</td>\n",
       "      <td>0</td>\n",
       "      <td>First_Base</td>\n",
       "      <td>144.520548</td>\n",
       "      <td>not_eligible</td>\n",
       "    </tr>\n",
       "    <tr>\n",
       "      <th>4</th>\n",
       "      <td>abbated01</td>\n",
       "      <td>Ed</td>\n",
       "      <td>Abbaticchio</td>\n",
       "      <td>10</td>\n",
       "      <td>772</td>\n",
       "      <td>324</td>\n",
       "      <td>355</td>\n",
       "      <td>142</td>\n",
       "      <td>283</td>\n",
       "      <td>11</td>\n",
       "      <td>...</td>\n",
       "      <td>R</td>\n",
       "      <td>R</td>\n",
       "      <td>9/15/10</td>\n",
       "      <td>0</td>\n",
       "      <td>N</td>\n",
       "      <td>857</td>\n",
       "      <td>357</td>\n",
       "      <td>Second_Base</td>\n",
       "      <td>109.232877</td>\n",
       "      <td>eligible</td>\n",
       "    </tr>\n",
       "  </tbody>\n",
       "</table>\n",
       "<p>5 rows × 33 columns</p>\n",
       "</div>"
      ],
      "text/plain": [
       "    playerID nameFirst     nameLast  Seasons  Hits  RBIs  Runs  Stolen_Bases  \\\n",
       "0  aaronha01      Hank        Aaron       23  3771  2297  2174           240   \n",
       "1  aaronto01    Tommie        Aaron        7   216    94   102             9   \n",
       "2   abadan01      Andy         Abad        3     2     0     1             0   \n",
       "3  abadijo01      John       Abadie        2    11     5     4             1   \n",
       "4  abbated01        Ed  Abbaticchio       10   772   324   355           142   \n",
       "\n",
       "   Strike_Outs  Home_Runs  ...  bats  throws   finalGame  yearid  inducted  \\\n",
       "0         1383        755  ...     R       R     10/3/76    1982         Y   \n",
       "1          145         13  ...     R       R     9/26/71       0         N   \n",
       "2            5          0  ...     L       L     4/13/06       0         N   \n",
       "3            3          0  ...     R       R  1875-06-10       0         N   \n",
       "4          283         11  ...     R       R     9/15/10       0         N   \n",
       "\n",
       "   Total_Games  Games_Started  primary_position  years_since_final_game  \\\n",
       "0         3298           3173         Out_Field               43.136986   \n",
       "1          437            206        First_Base               48.161644   \n",
       "2           15              4        First_Base               13.591781   \n",
       "3           12              0        First_Base              144.520548   \n",
       "4          857            357       Second_Base              109.232877   \n",
       "\n",
       "   eligible_for_hall  \n",
       "0           eligible  \n",
       "1       not_eligible  \n",
       "2       not_eligible  \n",
       "3       not_eligible  \n",
       "4           eligible  \n",
       "\n",
       "[5 rows x 33 columns]"
      ]
     },
     "execution_count": 4,
     "metadata": {},
     "output_type": "execute_result"
    }
   ],
   "source": [
    "position_player_df = pd.read_csv('Data/position_players_complete.csv')\n",
    "position_player_df.head()"
   ]
  },
  {
   "cell_type": "code",
   "execution_count": 5,
   "metadata": {},
   "outputs": [
    {
     "data": {
      "text/plain": [
       "N    2066\n",
       "Y     158\n",
       "Name: inducted, dtype: int64"
      ]
     },
     "execution_count": 5,
     "metadata": {},
     "output_type": "execute_result"
    }
   ],
   "source": [
    "position_player_df[position_player_df['eligible_for_hall']=='eligible'].inducted.value_counts()"
   ]
  },
  {
   "cell_type": "code",
   "execution_count": 6,
   "metadata": {},
   "outputs": [
    {
     "data": {
      "text/plain": [
       "Index(['playerID', 'nameFirst', 'nameLast', 'Seasons', 'Hits', 'RBIs', 'Runs',\n",
       "       'Stolen_Bases', 'Strike_Outs', 'Home_Runs', 'Walks', 'Games', 'Triples',\n",
       "       'Doubles', 'Caught_Stealing', 'At_Bats', 'Intentional_Walks',\n",
       "       'Hit_By_Pitch', 'Sacrifice_Hits', 'Sacrifice_Flies',\n",
       "       'Ground_Into_Double_Plays', 'weight', 'height', 'bats', 'throws',\n",
       "       'finalGame', 'yearid', 'inducted', 'Total_Games', 'Games_Started',\n",
       "       'primary_position', 'years_since_final_game', 'eligible_for_hall'],\n",
       "      dtype='object')"
      ]
     },
     "execution_count": 6,
     "metadata": {},
     "output_type": "execute_result"
    }
   ],
   "source": [
    "position_player_df.columns"
   ]
  },
  {
   "cell_type": "markdown",
   "metadata": {},
   "source": [
    "Machine Learning Model - Balanced Random Forest Classifier"
   ]
  },
  {
   "cell_type": "code",
   "execution_count": 7,
   "metadata": {},
   "outputs": [
    {
     "data": {
      "text/plain": [
       "(10248, 20)"
      ]
     },
     "execution_count": 7,
     "metadata": {},
     "output_type": "execute_result"
    }
   ],
   "source": [
    "data = position_player_df.drop(['inducted', 'playerID', 'nameFirst', 'nameLast', 'finalGame','bats', \n",
    "                                'throws','weight', 'height','yearid','primary_position','years_since_final_game', \n",
    "                                'eligible_for_hall'], axis=1)\n",
    "data.fillna(0, inplace=True)\n",
    "data.shape"
   ]
  },
  {
   "cell_type": "code",
   "execution_count": 8,
   "metadata": {},
   "outputs": [
    {
     "data": {
      "text/plain": [
       "N    10088\n",
       "Y      160\n",
       "Name: inducted, dtype: int64"
      ]
     },
     "execution_count": 8,
     "metadata": {},
     "output_type": "execute_result"
    }
   ],
   "source": [
    "target = position_player_df['inducted']\n",
    "target = target.replace(to_replace='0', \n",
    "                 value =\"N\") \n",
    "target.value_counts()"
   ]
  },
  {
   "cell_type": "code",
   "execution_count": 9,
   "metadata": {},
   "outputs": [
    {
     "data": {
      "text/plain": [
       "Index(['Seasons', 'Hits', 'RBIs', 'Runs', 'Stolen_Bases', 'Strike_Outs',\n",
       "       'Home_Runs', 'Walks', 'Games', 'Triples', 'Doubles', 'Caught_Stealing',\n",
       "       'At_Bats', 'Intentional_Walks', 'Hit_By_Pitch', 'Sacrifice_Hits',\n",
       "       'Sacrifice_Flies', 'Ground_Into_Double_Plays', 'Total_Games',\n",
       "       'Games_Started'],\n",
       "      dtype='object')"
      ]
     },
     "execution_count": 9,
     "metadata": {},
     "output_type": "execute_result"
    }
   ],
   "source": [
    "feature_names = data.columns\n",
    "feature_names"
   ]
  },
  {
   "cell_type": "code",
   "execution_count": 10,
   "metadata": {},
   "outputs": [
    {
     "name": "stderr",
     "output_type": "stream",
     "text": [
      "/Users/chris.marchetti/anaconda3/lib/python3.7/site-packages/sklearn/preprocessing/data.py:645: DataConversionWarning: Data with input dtype int64 were all converted to float64 by StandardScaler.\n",
      "  return self.partial_fit(X, y)\n",
      "/Users/chris.marchetti/anaconda3/lib/python3.7/site-packages/ipykernel_launcher.py:6: DataConversionWarning: Data with input dtype int64 were all converted to float64 by StandardScaler.\n",
      "  \n",
      "/Users/chris.marchetti/anaconda3/lib/python3.7/site-packages/ipykernel_launcher.py:7: DataConversionWarning: Data with input dtype int64 were all converted to float64 by StandardScaler.\n",
      "  import sys\n"
     ]
    }
   ],
   "source": [
    "from sklearn.model_selection import train_test_split\n",
    "from sklearn.preprocessing import StandardScaler\n",
    "\n",
    "X_train, X_test, y_train, y_test = train_test_split(data, target, random_state=42)\n",
    "X_scaler = StandardScaler().fit(X_train)\n",
    "X_train_scaled = X_scaler.transform(X_train)\n",
    "X_test_scaled = X_scaler.transform(X_test)"
   ]
  },
  {
   "cell_type": "code",
   "execution_count": 11,
   "metadata": {},
   "outputs": [
    {
     "data": {
      "text/plain": [
       "0.9301327088212334"
      ]
     },
     "execution_count": 11,
     "metadata": {},
     "output_type": "execute_result"
    }
   ],
   "source": [
    "clf = BalancedRandomForestClassifier(random_state=0)\n",
    "clf = clf.fit(X_train_scaled, y_train)\n",
    "clf.score(X_test_scaled, y_test)"
   ]
  },
  {
   "cell_type": "code",
   "execution_count": 12,
   "metadata": {},
   "outputs": [
    {
     "data": {
      "text/plain": [
       "0.9434035909445746"
      ]
     },
     "execution_count": 12,
     "metadata": {},
     "output_type": "execute_result"
    }
   ],
   "source": [
    "clf.score(X_train_scaled, y_train)"
   ]
  },
  {
   "cell_type": "code",
   "execution_count": 13,
   "metadata": {},
   "outputs": [
    {
     "data": {
      "image/svg+xml": [
       "<?xml version=\"1.0\" encoding=\"UTF-8\" standalone=\"no\"?>\n",
       "<!DOCTYPE svg PUBLIC \"-//W3C//DTD SVG 1.1//EN\"\n",
       " \"http://www.w3.org/Graphics/SVG/1.1/DTD/svg11.dtd\">\n",
       "<!-- Generated by graphviz version 2.40.1 (20161225.0304)\n",
       " -->\n",
       "<!-- Title: Tree Pages: 1 -->\n",
       "<svg width=\"782pt\" height=\"671pt\"\n",
       " viewBox=\"0.00 0.00 781.50 671.00\" xmlns=\"http://www.w3.org/2000/svg\" xmlns:xlink=\"http://www.w3.org/1999/xlink\">\n",
       "<g id=\"graph0\" class=\"graph\" transform=\"scale(1 1) rotate(0) translate(4 667)\">\n",
       "<title>Tree</title>\n",
       "<polygon fill=\"#ffffff\" stroke=\"transparent\" points=\"-4,4 -4,-667 777.5,-667 777.5,4 -4,4\"/>\n",
       "<!-- 0 -->\n",
       "<g id=\"node1\" class=\"node\">\n",
       "<title>0</title>\n",
       "<polygon fill=\"#e58139\" fill-opacity=\"0.015686\" stroke=\"#000000\" points=\"392,-663 272,-663 272,-580 392,-580 392,-663\"/>\n",
       "<text text-anchor=\"middle\" x=\"332\" y=\"-647.8\" font-family=\"Times,serif\" font-size=\"14.00\" fill=\"#000000\">RBIs &lt;= 1.293</text>\n",
       "<text text-anchor=\"middle\" x=\"332\" y=\"-632.8\" font-family=\"Times,serif\" font-size=\"14.00\" fill=\"#000000\">gini = 0.5</text>\n",
       "<text text-anchor=\"middle\" x=\"332\" y=\"-617.8\" font-family=\"Times,serif\" font-size=\"14.00\" fill=\"#000000\">samples = 152</text>\n",
       "<text text-anchor=\"middle\" x=\"332\" y=\"-602.8\" font-family=\"Times,serif\" font-size=\"14.00\" fill=\"#000000\">value = [118, 116]</text>\n",
       "<text text-anchor=\"middle\" x=\"332\" y=\"-587.8\" font-family=\"Times,serif\" font-size=\"14.00\" fill=\"#000000\">class = N</text>\n",
       "</g>\n",
       "<!-- 1 -->\n",
       "<g id=\"node2\" class=\"node\">\n",
       "<title>1</title>\n",
       "<polygon fill=\"#e58139\" fill-opacity=\"0.980392\" stroke=\"#000000\" points=\"314.5,-544 203.5,-544 203.5,-461 314.5,-461 314.5,-544\"/>\n",
       "<text text-anchor=\"middle\" x=\"259\" y=\"-528.8\" font-family=\"Times,serif\" font-size=\"14.00\" fill=\"#000000\">Walks &lt;= &#45;0.573</text>\n",
       "<text text-anchor=\"middle\" x=\"259\" y=\"-513.8\" font-family=\"Times,serif\" font-size=\"14.00\" fill=\"#000000\">gini = 0.035</text>\n",
       "<text text-anchor=\"middle\" x=\"259\" y=\"-498.8\" font-family=\"Times,serif\" font-size=\"14.00\" fill=\"#000000\">samples = 72</text>\n",
       "<text text-anchor=\"middle\" x=\"259\" y=\"-483.8\" font-family=\"Times,serif\" font-size=\"14.00\" fill=\"#000000\">value = [111, 2]</text>\n",
       "<text text-anchor=\"middle\" x=\"259\" y=\"-468.8\" font-family=\"Times,serif\" font-size=\"14.00\" fill=\"#000000\">class = N</text>\n",
       "</g>\n",
       "<!-- 0&#45;&gt;1 -->\n",
       "<g id=\"edge1\" class=\"edge\">\n",
       "<title>0&#45;&gt;1</title>\n",
       "<path fill=\"none\" stroke=\"#000000\" d=\"M306.4681,-579.8796C301.109,-571.1434 295.4021,-561.8404 289.8718,-552.8253\"/>\n",
       "<polygon fill=\"#000000\" stroke=\"#000000\" points=\"292.8533,-550.9919 284.6408,-544.2981 286.8865,-554.6522 292.8533,-550.9919\"/>\n",
       "<text text-anchor=\"middle\" x=\"278.8161\" y=\"-564.9101\" font-family=\"Times,serif\" font-size=\"14.00\" fill=\"#000000\">True</text>\n",
       "</g>\n",
       "<!-- 6 -->\n",
       "<g id=\"node7\" class=\"node\">\n",
       "<title>6</title>\n",
       "<polygon fill=\"#399de5\" fill-opacity=\"0.937255\" stroke=\"#000000\" points=\"477.5,-544 332.5,-544 332.5,-461 477.5,-461 477.5,-544\"/>\n",
       "<text text-anchor=\"middle\" x=\"405\" y=\"-528.8\" font-family=\"Times,serif\" font-size=\"14.00\" fill=\"#000000\">Home_Runs &lt;= &#45;0.008</text>\n",
       "<text text-anchor=\"middle\" x=\"405\" y=\"-513.8\" font-family=\"Times,serif\" font-size=\"14.00\" fill=\"#000000\">gini = 0.109</text>\n",
       "<text text-anchor=\"middle\" x=\"405\" y=\"-498.8\" font-family=\"Times,serif\" font-size=\"14.00\" fill=\"#000000\">samples = 80</text>\n",
       "<text text-anchor=\"middle\" x=\"405\" y=\"-483.8\" font-family=\"Times,serif\" font-size=\"14.00\" fill=\"#000000\">value = [7, 114]</text>\n",
       "<text text-anchor=\"middle\" x=\"405\" y=\"-468.8\" font-family=\"Times,serif\" font-size=\"14.00\" fill=\"#000000\">class = Y</text>\n",
       "</g>\n",
       "<!-- 0&#45;&gt;6 -->\n",
       "<g id=\"edge6\" class=\"edge\">\n",
       "<title>0&#45;&gt;6</title>\n",
       "<path fill=\"none\" stroke=\"#000000\" d=\"M357.5319,-579.8796C362.891,-571.1434 368.5979,-561.8404 374.1282,-552.8253\"/>\n",
       "<polygon fill=\"#000000\" stroke=\"#000000\" points=\"377.1135,-554.6522 379.3592,-544.2981 371.1467,-550.9919 377.1135,-554.6522\"/>\n",
       "<text text-anchor=\"middle\" x=\"385.1839\" y=\"-564.9101\" font-family=\"Times,serif\" font-size=\"14.00\" fill=\"#000000\">False</text>\n",
       "</g>\n",
       "<!-- 2 -->\n",
       "<g id=\"node3\" class=\"node\">\n",
       "<title>2</title>\n",
       "<polygon fill=\"#e58139\" fill-opacity=\"0.800000\" stroke=\"#000000\" points=\"189.5,-425 90.5,-425 90.5,-342 189.5,-342 189.5,-425\"/>\n",
       "<text text-anchor=\"middle\" x=\"140\" y=\"-409.8\" font-family=\"Times,serif\" font-size=\"14.00\" fill=\"#000000\">Hits &lt;= &#45;0.632</text>\n",
       "<text text-anchor=\"middle\" x=\"140\" y=\"-394.8\" font-family=\"Times,serif\" font-size=\"14.00\" fill=\"#000000\">gini = 0.278</text>\n",
       "<text text-anchor=\"middle\" x=\"140\" y=\"-379.8\" font-family=\"Times,serif\" font-size=\"14.00\" fill=\"#000000\">samples = 9</text>\n",
       "<text text-anchor=\"middle\" x=\"140\" y=\"-364.8\" font-family=\"Times,serif\" font-size=\"14.00\" fill=\"#000000\">value = [10, 2]</text>\n",
       "<text text-anchor=\"middle\" x=\"140\" y=\"-349.8\" font-family=\"Times,serif\" font-size=\"14.00\" fill=\"#000000\">class = N</text>\n",
       "</g>\n",
       "<!-- 1&#45;&gt;2 -->\n",
       "<g id=\"edge2\" class=\"edge\">\n",
       "<title>1&#45;&gt;2</title>\n",
       "<path fill=\"none\" stroke=\"#000000\" d=\"M217.3796,-460.8796C208.1931,-451.6931 198.3798,-441.8798 188.9336,-432.4336\"/>\n",
       "<polygon fill=\"#000000\" stroke=\"#000000\" points=\"191.3441,-429.8943 181.7981,-425.2981 186.3943,-434.8441 191.3441,-429.8943\"/>\n",
       "</g>\n",
       "<!-- 5 -->\n",
       "<g id=\"node6\" class=\"node\">\n",
       "<title>5</title>\n",
       "<polygon fill=\"#e58139\" stroke=\"#000000\" points=\"314,-417.5 208,-417.5 208,-349.5 314,-349.5 314,-417.5\"/>\n",
       "<text text-anchor=\"middle\" x=\"261\" y=\"-402.3\" font-family=\"Times,serif\" font-size=\"14.00\" fill=\"#000000\">gini = 0.0</text>\n",
       "<text text-anchor=\"middle\" x=\"261\" y=\"-387.3\" font-family=\"Times,serif\" font-size=\"14.00\" fill=\"#000000\">samples = 63</text>\n",
       "<text text-anchor=\"middle\" x=\"261\" y=\"-372.3\" font-family=\"Times,serif\" font-size=\"14.00\" fill=\"#000000\">value = [101, 0]</text>\n",
       "<text text-anchor=\"middle\" x=\"261\" y=\"-357.3\" font-family=\"Times,serif\" font-size=\"14.00\" fill=\"#000000\">class = N</text>\n",
       "</g>\n",
       "<!-- 1&#45;&gt;5 -->\n",
       "<g id=\"edge5\" class=\"edge\">\n",
       "<title>1&#45;&gt;5</title>\n",
       "<path fill=\"none\" stroke=\"#000000\" d=\"M259.6995,-460.8796C259.8788,-450.2134 260.0722,-438.7021 260.2538,-427.9015\"/>\n",
       "<polygon fill=\"#000000\" stroke=\"#000000\" points=\"263.7546,-427.8724 260.4233,-417.8149 256.7556,-427.7547 263.7546,-427.8724\"/>\n",
       "</g>\n",
       "<!-- 3 -->\n",
       "<g id=\"node4\" class=\"node\">\n",
       "<title>3</title>\n",
       "<polygon fill=\"#e58139\" stroke=\"#000000\" points=\"92,-298.5 0,-298.5 0,-230.5 92,-230.5 92,-298.5\"/>\n",
       "<text text-anchor=\"middle\" x=\"46\" y=\"-283.3\" font-family=\"Times,serif\" font-size=\"14.00\" fill=\"#000000\">gini = 0.0</text>\n",
       "<text text-anchor=\"middle\" x=\"46\" y=\"-268.3\" font-family=\"Times,serif\" font-size=\"14.00\" fill=\"#000000\">samples = 7</text>\n",
       "<text text-anchor=\"middle\" x=\"46\" y=\"-253.3\" font-family=\"Times,serif\" font-size=\"14.00\" fill=\"#000000\">value = [9, 0]</text>\n",
       "<text text-anchor=\"middle\" x=\"46\" y=\"-238.3\" font-family=\"Times,serif\" font-size=\"14.00\" fill=\"#000000\">class = N</text>\n",
       "</g>\n",
       "<!-- 2&#45;&gt;3 -->\n",
       "<g id=\"edge3\" class=\"edge\">\n",
       "<title>2&#45;&gt;3</title>\n",
       "<path fill=\"none\" stroke=\"#000000\" d=\"M107.1234,-341.8796C98.1768,-330.5536 88.4776,-318.2748 79.4971,-306.9058\"/>\n",
       "<polygon fill=\"#000000\" stroke=\"#000000\" points=\"82.051,-304.4926 73.1059,-298.8149 76.558,-308.8316 82.051,-304.4926\"/>\n",
       "</g>\n",
       "<!-- 4 -->\n",
       "<g id=\"node5\" class=\"node\">\n",
       "<title>4</title>\n",
       "<polygon fill=\"#399de5\" fill-opacity=\"0.498039\" stroke=\"#000000\" points=\"202,-298.5 110,-298.5 110,-230.5 202,-230.5 202,-298.5\"/>\n",
       "<text text-anchor=\"middle\" x=\"156\" y=\"-283.3\" font-family=\"Times,serif\" font-size=\"14.00\" fill=\"#000000\">gini = 0.444</text>\n",
       "<text text-anchor=\"middle\" x=\"156\" y=\"-268.3\" font-family=\"Times,serif\" font-size=\"14.00\" fill=\"#000000\">samples = 2</text>\n",
       "<text text-anchor=\"middle\" x=\"156\" y=\"-253.3\" font-family=\"Times,serif\" font-size=\"14.00\" fill=\"#000000\">value = [1, 2]</text>\n",
       "<text text-anchor=\"middle\" x=\"156\" y=\"-238.3\" font-family=\"Times,serif\" font-size=\"14.00\" fill=\"#000000\">class = Y</text>\n",
       "</g>\n",
       "<!-- 2&#45;&gt;4 -->\n",
       "<g id=\"edge4\" class=\"edge\">\n",
       "<title>2&#45;&gt;4</title>\n",
       "<path fill=\"none\" stroke=\"#000000\" d=\"M145.596,-341.8796C147.0301,-331.2134 148.5779,-319.7021 150.03,-308.9015\"/>\n",
       "<polygon fill=\"#000000\" stroke=\"#000000\" points=\"153.5224,-309.1922 151.3862,-298.8149 146.5848,-308.2593 153.5224,-309.1922\"/>\n",
       "</g>\n",
       "<!-- 7 -->\n",
       "<g id=\"node8\" class=\"node\">\n",
       "<title>7</title>\n",
       "<polygon fill=\"#399de5\" fill-opacity=\"0.498039\" stroke=\"#000000\" points=\"473,-425 335,-425 335,-342 473,-342 473,-425\"/>\n",
       "<text text-anchor=\"middle\" x=\"404\" y=\"-409.8\" font-family=\"Times,serif\" font-size=\"14.00\" fill=\"#000000\">Strike_Outs &lt;= 0.343</text>\n",
       "<text text-anchor=\"middle\" x=\"404\" y=\"-394.8\" font-family=\"Times,serif\" font-size=\"14.00\" fill=\"#000000\">gini = 0.444</text>\n",
       "<text text-anchor=\"middle\" x=\"404\" y=\"-379.8\" font-family=\"Times,serif\" font-size=\"14.00\" fill=\"#000000\">samples = 5</text>\n",
       "<text text-anchor=\"middle\" x=\"404\" y=\"-364.8\" font-family=\"Times,serif\" font-size=\"14.00\" fill=\"#000000\">value = [2, 4]</text>\n",
       "<text text-anchor=\"middle\" x=\"404\" y=\"-349.8\" font-family=\"Times,serif\" font-size=\"14.00\" fill=\"#000000\">class = Y</text>\n",
       "</g>\n",
       "<!-- 6&#45;&gt;7 -->\n",
       "<g id=\"edge7\" class=\"edge\">\n",
       "<title>6&#45;&gt;7</title>\n",
       "<path fill=\"none\" stroke=\"#000000\" d=\"M404.6502,-460.8796C404.5814,-452.6838 404.5083,-443.9891 404.437,-435.5013\"/>\n",
       "<polygon fill=\"#000000\" stroke=\"#000000\" points=\"407.9352,-435.2683 404.3512,-425.2981 400.9355,-435.3272 407.9352,-435.2683\"/>\n",
       "</g>\n",
       "<!-- 10 -->\n",
       "<g id=\"node11\" class=\"node\">\n",
       "<title>10</title>\n",
       "<polygon fill=\"#399de5\" fill-opacity=\"0.952941\" stroke=\"#000000\" points=\"601,-425 491,-425 491,-342 601,-342 601,-425\"/>\n",
       "<text text-anchor=\"middle\" x=\"546\" y=\"-409.8\" font-family=\"Times,serif\" font-size=\"14.00\" fill=\"#000000\">Triples &lt;= 0.562</text>\n",
       "<text text-anchor=\"middle\" x=\"546\" y=\"-394.8\" font-family=\"Times,serif\" font-size=\"14.00\" fill=\"#000000\">gini = 0.083</text>\n",
       "<text text-anchor=\"middle\" x=\"546\" y=\"-379.8\" font-family=\"Times,serif\" font-size=\"14.00\" fill=\"#000000\">samples = 75</text>\n",
       "<text text-anchor=\"middle\" x=\"546\" y=\"-364.8\" font-family=\"Times,serif\" font-size=\"14.00\" fill=\"#000000\">value = [5, 110]</text>\n",
       "<text text-anchor=\"middle\" x=\"546\" y=\"-349.8\" font-family=\"Times,serif\" font-size=\"14.00\" fill=\"#000000\">class = Y</text>\n",
       "</g>\n",
       "<!-- 6&#45;&gt;10 -->\n",
       "<g id=\"edge10\" class=\"edge\">\n",
       "<title>6&#45;&gt;10</title>\n",
       "<path fill=\"none\" stroke=\"#000000\" d=\"M454.315,-460.8796C465.4132,-451.513 477.2835,-441.4948 488.6777,-431.8784\"/>\n",
       "<polygon fill=\"#000000\" stroke=\"#000000\" points=\"491.0899,-434.4225 496.4746,-425.2981 486.575,-429.0731 491.0899,-434.4225\"/>\n",
       "</g>\n",
       "<!-- 8 -->\n",
       "<g id=\"node9\" class=\"node\">\n",
       "<title>8</title>\n",
       "<polygon fill=\"#e58139\" fill-opacity=\"0.498039\" stroke=\"#000000\" points=\"348,-298.5 256,-298.5 256,-230.5 348,-230.5 348,-298.5\"/>\n",
       "<text text-anchor=\"middle\" x=\"302\" y=\"-283.3\" font-family=\"Times,serif\" font-size=\"14.00\" fill=\"#000000\">gini = 0.444</text>\n",
       "<text text-anchor=\"middle\" x=\"302\" y=\"-268.3\" font-family=\"Times,serif\" font-size=\"14.00\" fill=\"#000000\">samples = 2</text>\n",
       "<text text-anchor=\"middle\" x=\"302\" y=\"-253.3\" font-family=\"Times,serif\" font-size=\"14.00\" fill=\"#000000\">value = [2, 1]</text>\n",
       "<text text-anchor=\"middle\" x=\"302\" y=\"-238.3\" font-family=\"Times,serif\" font-size=\"14.00\" fill=\"#000000\">class = N</text>\n",
       "</g>\n",
       "<!-- 7&#45;&gt;8 -->\n",
       "<g id=\"edge8\" class=\"edge\">\n",
       "<title>7&#45;&gt;8</title>\n",
       "<path fill=\"none\" stroke=\"#000000\" d=\"M368.3253,-341.8796C358.5231,-330.4436 347.8882,-318.0363 338.0643,-306.575\"/>\n",
       "<polygon fill=\"#000000\" stroke=\"#000000\" points=\"340.5782,-304.1297 331.4128,-298.8149 335.2633,-308.6853 340.5782,-304.1297\"/>\n",
       "</g>\n",
       "<!-- 9 -->\n",
       "<g id=\"node10\" class=\"node\">\n",
       "<title>9</title>\n",
       "<polygon fill=\"#399de5\" stroke=\"#000000\" points=\"458,-298.5 366,-298.5 366,-230.5 458,-230.5 458,-298.5\"/>\n",
       "<text text-anchor=\"middle\" x=\"412\" y=\"-283.3\" font-family=\"Times,serif\" font-size=\"14.00\" fill=\"#000000\">gini = 0.0</text>\n",
       "<text text-anchor=\"middle\" x=\"412\" y=\"-268.3\" font-family=\"Times,serif\" font-size=\"14.00\" fill=\"#000000\">samples = 3</text>\n",
       "<text text-anchor=\"middle\" x=\"412\" y=\"-253.3\" font-family=\"Times,serif\" font-size=\"14.00\" fill=\"#000000\">value = [0, 3]</text>\n",
       "<text text-anchor=\"middle\" x=\"412\" y=\"-238.3\" font-family=\"Times,serif\" font-size=\"14.00\" fill=\"#000000\">class = Y</text>\n",
       "</g>\n",
       "<!-- 7&#45;&gt;9 -->\n",
       "<g id=\"edge9\" class=\"edge\">\n",
       "<title>7&#45;&gt;9</title>\n",
       "<path fill=\"none\" stroke=\"#000000\" d=\"M406.798,-341.8796C407.5151,-331.2134 408.2889,-319.7021 409.015,-308.9015\"/>\n",
       "<polygon fill=\"#000000\" stroke=\"#000000\" points=\"412.5144,-309.0272 409.6931,-298.8149 405.5301,-308.5576 412.5144,-309.0272\"/>\n",
       "</g>\n",
       "<!-- 11 -->\n",
       "<g id=\"node12\" class=\"node\">\n",
       "<title>11</title>\n",
       "<polygon fill=\"#e58139\" stroke=\"#000000\" points=\"584,-298.5 492,-298.5 492,-230.5 584,-230.5 584,-298.5\"/>\n",
       "<text text-anchor=\"middle\" x=\"538\" y=\"-283.3\" font-family=\"Times,serif\" font-size=\"14.00\" fill=\"#000000\">gini = 0.0</text>\n",
       "<text text-anchor=\"middle\" x=\"538\" y=\"-268.3\" font-family=\"Times,serif\" font-size=\"14.00\" fill=\"#000000\">samples = 3</text>\n",
       "<text text-anchor=\"middle\" x=\"538\" y=\"-253.3\" font-family=\"Times,serif\" font-size=\"14.00\" fill=\"#000000\">value = [4, 0]</text>\n",
       "<text text-anchor=\"middle\" x=\"538\" y=\"-238.3\" font-family=\"Times,serif\" font-size=\"14.00\" fill=\"#000000\">class = N</text>\n",
       "</g>\n",
       "<!-- 10&#45;&gt;11 -->\n",
       "<g id=\"edge11\" class=\"edge\">\n",
       "<title>10&#45;&gt;11</title>\n",
       "<path fill=\"none\" stroke=\"#000000\" d=\"M543.202,-341.8796C542.4849,-331.2134 541.7111,-319.7021 540.985,-308.9015\"/>\n",
       "<polygon fill=\"#000000\" stroke=\"#000000\" points=\"544.4699,-308.5576 540.3069,-298.8149 537.4856,-309.0272 544.4699,-308.5576\"/>\n",
       "</g>\n",
       "<!-- 12 -->\n",
       "<g id=\"node13\" class=\"node\">\n",
       "<title>12</title>\n",
       "<polygon fill=\"#399de5\" fill-opacity=\"0.992157\" stroke=\"#000000\" points=\"719.5,-306 602.5,-306 602.5,-223 719.5,-223 719.5,-306\"/>\n",
       "<text text-anchor=\"middle\" x=\"661\" y=\"-290.8\" font-family=\"Times,serif\" font-size=\"14.00\" fill=\"#000000\">Doubles &lt;= 2.262</text>\n",
       "<text text-anchor=\"middle\" x=\"661\" y=\"-275.8\" font-family=\"Times,serif\" font-size=\"14.00\" fill=\"#000000\">gini = 0.018</text>\n",
       "<text text-anchor=\"middle\" x=\"661\" y=\"-260.8\" font-family=\"Times,serif\" font-size=\"14.00\" fill=\"#000000\">samples = 72</text>\n",
       "<text text-anchor=\"middle\" x=\"661\" y=\"-245.8\" font-family=\"Times,serif\" font-size=\"14.00\" fill=\"#000000\">value = [1, 110]</text>\n",
       "<text text-anchor=\"middle\" x=\"661\" y=\"-230.8\" font-family=\"Times,serif\" font-size=\"14.00\" fill=\"#000000\">class = Y</text>\n",
       "</g>\n",
       "<!-- 10&#45;&gt;12 -->\n",
       "<g id=\"edge12\" class=\"edge\">\n",
       "<title>10&#45;&gt;12</title>\n",
       "<path fill=\"none\" stroke=\"#000000\" d=\"M586.2214,-341.8796C595.012,-332.7832 604.3966,-323.0722 613.4426,-313.7116\"/>\n",
       "<polygon fill=\"#000000\" stroke=\"#000000\" points=\"616.1745,-315.9212 620.6069,-306.2981 611.1409,-311.0568 616.1745,-315.9212\"/>\n",
       "</g>\n",
       "<!-- 13 -->\n",
       "<g id=\"node14\" class=\"node\">\n",
       "<title>13</title>\n",
       "<polygon fill=\"#399de5\" fill-opacity=\"0.949020\" stroke=\"#000000\" points=\"656.5,-187 539.5,-187 539.5,-104 656.5,-104 656.5,-187\"/>\n",
       "<text text-anchor=\"middle\" x=\"598\" y=\"-171.8\" font-family=\"Times,serif\" font-size=\"14.00\" fill=\"#000000\">At_Bats &lt;= 2.494</text>\n",
       "<text text-anchor=\"middle\" x=\"598\" y=\"-156.8\" font-family=\"Times,serif\" font-size=\"14.00\" fill=\"#000000\">gini = 0.091</text>\n",
       "<text text-anchor=\"middle\" x=\"598\" y=\"-141.8\" font-family=\"Times,serif\" font-size=\"14.00\" fill=\"#000000\">samples = 11</text>\n",
       "<text text-anchor=\"middle\" x=\"598\" y=\"-126.8\" font-family=\"Times,serif\" font-size=\"14.00\" fill=\"#000000\">value = [1, 20]</text>\n",
       "<text text-anchor=\"middle\" x=\"598\" y=\"-111.8\" font-family=\"Times,serif\" font-size=\"14.00\" fill=\"#000000\">class = Y</text>\n",
       "</g>\n",
       "<!-- 12&#45;&gt;13 -->\n",
       "<g id=\"edge13\" class=\"edge\">\n",
       "<title>12&#45;&gt;13</title>\n",
       "<path fill=\"none\" stroke=\"#000000\" d=\"M638.9657,-222.8796C634.436,-214.3236 629.6185,-205.2238 624.9382,-196.3833\"/>\n",
       "<polygon fill=\"#000000\" stroke=\"#000000\" points=\"627.9006,-194.4983 620.1284,-187.2981 621.7141,-197.7736 627.9006,-194.4983\"/>\n",
       "</g>\n",
       "<!-- 16 -->\n",
       "<g id=\"node17\" class=\"node\">\n",
       "<title>16</title>\n",
       "<polygon fill=\"#399de5\" stroke=\"#000000\" points=\"773.5,-179.5 674.5,-179.5 674.5,-111.5 773.5,-111.5 773.5,-179.5\"/>\n",
       "<text text-anchor=\"middle\" x=\"724\" y=\"-164.3\" font-family=\"Times,serif\" font-size=\"14.00\" fill=\"#000000\">gini = 0.0</text>\n",
       "<text text-anchor=\"middle\" x=\"724\" y=\"-149.3\" font-family=\"Times,serif\" font-size=\"14.00\" fill=\"#000000\">samples = 61</text>\n",
       "<text text-anchor=\"middle\" x=\"724\" y=\"-134.3\" font-family=\"Times,serif\" font-size=\"14.00\" fill=\"#000000\">value = [0, 90]</text>\n",
       "<text text-anchor=\"middle\" x=\"724\" y=\"-119.3\" font-family=\"Times,serif\" font-size=\"14.00\" fill=\"#000000\">class = Y</text>\n",
       "</g>\n",
       "<!-- 12&#45;&gt;16 -->\n",
       "<g id=\"edge16\" class=\"edge\">\n",
       "<title>12&#45;&gt;16</title>\n",
       "<path fill=\"none\" stroke=\"#000000\" d=\"M683.0343,-222.8796C688.8558,-211.8835 695.1527,-199.9893 701.0227,-188.9015\"/>\n",
       "<polygon fill=\"#000000\" stroke=\"#000000\" points=\"704.2476,-190.2905 705.8333,-179.8149 698.0611,-187.0152 704.2476,-190.2905\"/>\n",
       "</g>\n",
       "<!-- 14 -->\n",
       "<g id=\"node15\" class=\"node\">\n",
       "<title>14</title>\n",
       "<polygon fill=\"#399de5\" stroke=\"#000000\" points=\"590.5,-68 491.5,-68 491.5,0 590.5,0 590.5,-68\"/>\n",
       "<text text-anchor=\"middle\" x=\"541\" y=\"-52.8\" font-family=\"Times,serif\" font-size=\"14.00\" fill=\"#000000\">gini = 0.0</text>\n",
       "<text text-anchor=\"middle\" x=\"541\" y=\"-37.8\" font-family=\"Times,serif\" font-size=\"14.00\" fill=\"#000000\">samples = 9</text>\n",
       "<text text-anchor=\"middle\" x=\"541\" y=\"-22.8\" font-family=\"Times,serif\" font-size=\"14.00\" fill=\"#000000\">value = [0, 18]</text>\n",
       "<text text-anchor=\"middle\" x=\"541\" y=\"-7.8\" font-family=\"Times,serif\" font-size=\"14.00\" fill=\"#000000\">class = Y</text>\n",
       "</g>\n",
       "<!-- 13&#45;&gt;14 -->\n",
       "<g id=\"edge14\" class=\"edge\">\n",
       "<title>13&#45;&gt;14</title>\n",
       "<path fill=\"none\" stroke=\"#000000\" d=\"M576.7753,-103.9815C572.3119,-95.2504 567.5933,-86.0202 563.0987,-77.2281\"/>\n",
       "<polygon fill=\"#000000\" stroke=\"#000000\" points=\"566.1842,-75.5745 558.516,-68.2637 559.9514,-78.7608 566.1842,-75.5745\"/>\n",
       "</g>\n",
       "<!-- 15 -->\n",
       "<g id=\"node16\" class=\"node\">\n",
       "<title>15</title>\n",
       "<polygon fill=\"#399de5\" fill-opacity=\"0.498039\" stroke=\"#000000\" points=\"701,-68 609,-68 609,0 701,0 701,-68\"/>\n",
       "<text text-anchor=\"middle\" x=\"655\" y=\"-52.8\" font-family=\"Times,serif\" font-size=\"14.00\" fill=\"#000000\">gini = 0.444</text>\n",
       "<text text-anchor=\"middle\" x=\"655\" y=\"-37.8\" font-family=\"Times,serif\" font-size=\"14.00\" fill=\"#000000\">samples = 2</text>\n",
       "<text text-anchor=\"middle\" x=\"655\" y=\"-22.8\" font-family=\"Times,serif\" font-size=\"14.00\" fill=\"#000000\">value = [1, 2]</text>\n",
       "<text text-anchor=\"middle\" x=\"655\" y=\"-7.8\" font-family=\"Times,serif\" font-size=\"14.00\" fill=\"#000000\">class = Y</text>\n",
       "</g>\n",
       "<!-- 13&#45;&gt;15 -->\n",
       "<g id=\"edge15\" class=\"edge\">\n",
       "<title>13&#45;&gt;15</title>\n",
       "<path fill=\"none\" stroke=\"#000000\" d=\"M619.2247,-103.9815C623.6881,-95.2504 628.4067,-86.0202 632.9013,-77.2281\"/>\n",
       "<polygon fill=\"#000000\" stroke=\"#000000\" points=\"636.0486,-78.7608 637.484,-68.2637 629.8158,-75.5745 636.0486,-78.7608\"/>\n",
       "</g>\n",
       "</g>\n",
       "</svg>\n"
      ],
      "text/plain": [
       "<graphviz.files.Source at 0x10b3b42e8>"
      ]
     },
     "execution_count": 13,
     "metadata": {},
     "output_type": "execute_result"
    }
   ],
   "source": [
    "from sklearn import tree\n",
    "import graphviz\n",
    "dot_data = tree.export_graphviz(clf.estimators_[0], \n",
    "                                feature_names = feature_names, \n",
    "                                class_names=['N', 'Y'] , #y_train.columns,\n",
    "                                filled = True\n",
    "#,\n",
    "#                                 proportion = True,\n",
    "#                                 leaves_parallel=True\n",
    "                               )\n",
    "graph = graphviz.Source(dot_data)\n",
    "graph"
   ]
  },
  {
   "cell_type": "code",
   "execution_count": 14,
   "metadata": {},
   "outputs": [
    {
     "name": "stdout",
     "output_type": "stream",
     "text": [
      "[[2341  178]\n",
      " [   1   42]]\n",
      "Y    42\n",
      "N     1\n",
      "Name: predicted, dtype: int64\n",
      "score for yesses, 0.9767441860465116\n",
      "The score is the fraction of yesses, you predicted 0.9767441860465116\n",
      "              precision    recall  f1-score   support\n",
      "\n",
      "           N       1.00      0.93      0.96      2519\n",
      "           Y       0.19      0.98      0.32        43\n",
      "\n",
      "   micro avg       0.93      0.93      0.93      2562\n",
      "   macro avg       0.60      0.95      0.64      2562\n",
      "weighted avg       0.99      0.93      0.95      2562\n",
      "\n"
     ]
    },
    {
     "data": {
      "image/png": "[encoded data removed]",
      "text/plain": [
       "<Figure size 432x288 with 1 Axes>"
      ]
     },
     "metadata": {},
     "output_type": "display_data"
    }
   ],
   "source": [
    "y_predicted = clf.predict(X_test_scaled)\n",
    "from sklearn.metrics import confusion_matrix\n",
    "print(confusion_matrix(y_test, y_predicted))\n",
    "\n",
    "predictions_df = pd.concat([pd.DataFrame(X_test_scaled),\n",
    "#                            .copy().assign(\n",
    "                           pd.DataFrame(dict(\n",
    "    predicted= y_predicted,\n",
    "    actual=y_test\n",
    ")).reset_index(drop=True)\n",
    "                           ], axis=1)\n",
    "# pd.Series(y_test).value_counts()#[:20]\n",
    "actual_inductees = predictions_df.loc[predictions_df.actual=='Y']\n",
    "predictions_for_actual_inductees = actual_inductees.predicted.value_counts()\n",
    "print(predictions_for_actual_inductees)\n",
    "predictions_for_actual_inductees.plot(kind='pie', title='predictions_for_actual_inductees',  labels=predictions_for_actual_inductees.values)\n",
    "\n",
    "print(f\"score for yesses, {clf.score(actual_inductees.drop(['predicted', 'actual'],axis=1),actual_inductees .actual)}\")\n",
    "print('The score is the fraction of yesses, you predicted',  42/(1+42))\n",
    "from sklearn.metrics import classification_report\n",
    "print(classification_report(y_test, y_predicted))"
   ]
  },
  {
   "cell_type": "code",
   "execution_count": 15,
   "metadata": {},
   "outputs": [
    {
     "name": "stdout",
     "output_type": "stream",
     "text": [
      "[0.03032381 0.17742865 0.12438682 0.11137164 0.01167691 0.00550712\n",
      " 0.0100642  0.04945134 0.10351793 0.07384057 0.11882455 0.0032838\n",
      " 0.0966456  0.00414315 0.00293524 0.00594515 0.00404553 0.00353633\n",
      " 0.05780086 0.0052708 ]\n"
     ]
    }
   ],
   "source": [
    "print(clf.feature_importances_)"
   ]
  },
  {
   "cell_type": "code",
   "execution_count": 16,
   "metadata": {},
   "outputs": [
    {
     "data": {
      "text/plain": [
       "Index(['Seasons', 'Hits', 'RBIs', 'Runs', 'Stolen_Bases', 'Strike_Outs',\n",
       "       'Home_Runs', 'Walks', 'Games', 'Triples', 'Doubles', 'Caught_Stealing',\n",
       "       'At_Bats', 'Intentional_Walks', 'Hit_By_Pitch', 'Sacrifice_Hits',\n",
       "       'Sacrifice_Flies', 'Ground_Into_Double_Plays', 'Total_Games',\n",
       "       'Games_Started'],\n",
       "      dtype='object')"
      ]
     },
     "execution_count": 16,
     "metadata": {},
     "output_type": "execute_result"
    }
   ],
   "source": [
    "feature_names"
   ]
  },
  {
   "cell_type": "markdown",
   "metadata": {},
   "source": [
    "Machine Learning Model - xgboost"
   ]
  },
  {
   "cell_type": "code",
   "execution_count": 17,
   "metadata": {},
   "outputs": [],
   "source": [
    "import os\n",
    "os.environ['KMP_DUPLICATE_LIB_OK']='True'\n",
    "from xgboost import XGBClassifier\n",
    "from sklearn.metrics import accuracy_score"
   ]
  },
  {
   "cell_type": "code",
   "execution_count": 18,
   "metadata": {},
   "outputs": [
    {
     "name": "stdout",
     "output_type": "stream",
     "text": [
      "XGBClassifier(base_score=0.5, booster='gbtree', colsample_bylevel=1,\n",
      "       colsample_bynode=1, colsample_bytree=1, gamma=0, learning_rate=0.1,\n",
      "       max_delta_step=0, max_depth=3, min_child_weight=1, missing=None,\n",
      "       n_estimators=100, n_jobs=1, nthread=None,\n",
      "       objective='binary:logistic', random_state=0, reg_alpha=0,\n",
      "       reg_lambda=1, scale_pos_weight=1, seed=None, silent=None,\n",
      "       subsample=1, verbosity=1)\n"
     ]
    }
   ],
   "source": [
    "# fit model no training data\n",
    "model = XGBClassifier(scale_pos_weight=1)\n",
    "model.fit(X_train_scaled, y_train)\n",
    "print(model)"
   ]
  },
  {
   "cell_type": "code",
   "execution_count": 19,
   "metadata": {},
   "outputs": [
    {
     "data": {
      "text/plain": [
       "2562"
      ]
     },
     "execution_count": 19,
     "metadata": {},
     "output_type": "execute_result"
    }
   ],
   "source": [
    "y_pred = model.predict(X_test_scaled)\n",
    "len(y_pred)"
   ]
  },
  {
   "cell_type": "code",
   "execution_count": 20,
   "metadata": {},
   "outputs": [
    {
     "data": {
      "text/plain": [
       "0.997527972937809"
      ]
     },
     "execution_count": 20,
     "metadata": {},
     "output_type": "execute_result"
    }
   ],
   "source": [
    "model.score(X_train_scaled, y_train)"
   ]
  },
  {
   "cell_type": "code",
   "execution_count": 21,
   "metadata": {},
   "outputs": [
    {
     "name": "stdout",
     "output_type": "stream",
     "text": [
      "Accuracy: 98.59%\n"
     ]
    }
   ],
   "source": [
    "accuracy = accuracy_score(y_test, y_pred)\n",
    "print(\"Accuracy: %.2f%%\" % (accuracy * 100.0))"
   ]
  },
  {
   "cell_type": "code",
   "execution_count": 22,
   "metadata": {},
   "outputs": [
    {
     "name": "stdout",
     "output_type": "stream",
     "text": [
      "[[2500   19]\n",
      " [  17   26]]\n",
      "Y    26\n",
      "N    17\n",
      "Name: predicted, dtype: int64\n",
      "The score is the fraction of yesses, you predicted 0.5813953488372093\n",
      "              precision    recall  f1-score   support\n",
      "\n",
      "           N       0.99      0.99      0.99      2519\n",
      "           Y       0.58      0.60      0.59        43\n",
      "\n",
      "   micro avg       0.99      0.99      0.99      2562\n",
      "   macro avg       0.79      0.80      0.79      2562\n",
      "weighted avg       0.99      0.99      0.99      2562\n",
      "\n"
     ]
    },
    {
     "data": {
      "image/png": "[encoded data removed]",
      "text/plain": [
       "<Figure size 432x288 with 1 Axes>"
      ]
     },
     "metadata": {},
     "output_type": "display_data"
    }
   ],
   "source": [
    "\n",
    "from sklearn.metrics import confusion_matrix\n",
    "print(confusion_matrix(y_test, y_pred))\n",
    "predictions_df = pd.concat([pd.DataFrame(X_test_scaled),\n",
    "#                            .copy().assign(\n",
    "                           pd.DataFrame(dict(\n",
    "    predicted= y_pred,\n",
    "    actual=y_test\n",
    ")).reset_index(drop=True)\n",
    "                           ], axis=1)\n",
    "# pd.Series(y_test).value_counts()#[:20]\n",
    "actual_inductees = predictions_df.loc[predictions_df.actual=='Y']\n",
    "predictions_for_actual_inductees = actual_inductees.predicted.value_counts()\n",
    "print(predictions_for_actual_inductees)\n",
    "predictions_for_actual_inductees.plot(kind='pie', title='predictions_for_actual_inductees',  labels=predictions_for_actual_inductees.values)\n",
    "\n",
    "# print(f\"score for yesses, {model.score(actual_inductees.drop(['predicted', 'actual'],axis=1),actual_inductees .actual)}\")\n",
    "print('The score is the fraction of yesses, you predicted',  25/(18+25))\n",
    "print(classification_report(y_test, y_pred))"
   ]
  },
  {
   "cell_type": "code",
   "execution_count": 23,
   "metadata": {},
   "outputs": [
    {
     "name": "stdout",
     "output_type": "stream",
     "text": [
      "[0.01627176 0.1865134  0.14543843 0.18748589 0.03108197 0.03787776\n",
      " 0.03071428 0.02408629 0.02912375 0.05711363 0.01873825 0.01953726\n",
      " 0.04044038 0.00153801 0.02320046 0.03130458 0.04913309 0.02147188\n",
      " 0.01379363 0.03513525]\n"
     ]
    }
   ],
   "source": [
    "print(model.feature_importances_)"
   ]
  },
  {
   "cell_type": "code",
   "execution_count": 24,
   "metadata": {},
   "outputs": [
    {
     "name": "stdout",
     "output_type": "stream",
     "text": [
      "Index(['Seasons', 'Hits', 'RBIs', 'Runs', 'Stolen_Bases', 'Strike_Outs',\n",
      "       'Home_Runs', 'Walks', 'Games', 'Triples', 'Doubles', 'Caught_Stealing',\n",
      "       'At_Bats', 'Intentional_Walks', 'Hit_By_Pitch', 'Sacrifice_Hits',\n",
      "       'Sacrifice_Flies', 'Ground_Into_Double_Plays', 'Total_Games',\n",
      "       'Games_Started'],\n",
      "      dtype='object')\n"
     ]
    }
   ],
   "source": [
    "print(feature_names)"
   ]
  },
  {
   "cell_type": "code",
   "execution_count": 25,
   "metadata": {},
   "outputs": [
    {
     "data": {
      "text/plain": [
       "Text(0, 0.5, 'Features')"
      ]
     },
     "execution_count": 25,
     "metadata": {},
     "output_type": "execute_result"
    },
    {
     "data": {
      "image/png": "[encoded data removed]",
      "text/plain": [
       "<Figure size 432x288 with 1 Axes>"
      ]
     },
     "metadata": {
      "needs_background": "light"
     },
     "output_type": "display_data"
    }
   ],
   "source": [
    "plt.barh(feature_names, model.feature_importances_)\n",
    "plt.ylabel('Features')\n"
   ]
  },
  {
   "cell_type": "code",
   "execution_count": 26,
   "metadata": {},
   "outputs": [
    {
     "name": "stderr",
     "output_type": "stream",
     "text": [
      "/Users/chris.marchetti/anaconda3/lib/python3.7/site-packages/sklearn/preprocessing/data.py:645: DataConversionWarning: Data with input dtype int64 were all converted to float64 by StandardScaler.\n",
      "  return self.partial_fit(X, y)\n",
      "/Users/chris.marchetti/anaconda3/lib/python3.7/site-packages/ipykernel_launcher.py:9: DataConversionWarning: Data with input dtype int64 were all converted to float64 by StandardScaler.\n",
      "  if __name__ == '__main__':\n"
     ]
    }
   ],
   "source": [
    "# Preprocessing the entire position player data set for use on the website\n",
    "# Run all of the data through the xgboost model\n",
    "\n",
    "data_total = position_player_df.drop(['inducted', 'playerID', 'nameFirst', 'nameLast', 'finalGame','bats', \n",
    "                                'throws','weight', 'height','yearid','primary_position','years_since_final_game', \n",
    "                                'eligible_for_hall'], axis=1)\n",
    "data_total.fillna(0, inplace=True)\n",
    "data_total_scaler = StandardScaler().fit(data_total)\n",
    "data_total_scaled = data_total_scaler.transform(data_total)\n",
    "data_total_predicted = model.predict(data_total_scaled)"
   ]
  },
  {
   "cell_type": "code",
   "execution_count": 27,
   "metadata": {},
   "outputs": [
    {
     "data": {
      "text/html": [
       "<div>\n",
       "<style scoped>\n",
       "    .dataframe tbody tr th:only-of-type {\n",
       "        vertical-align: middle;\n",
       "    }\n",
       "\n",
       "    .dataframe tbody tr th {\n",
       "        vertical-align: top;\n",
       "    }\n",
       "\n",
       "    .dataframe thead th {\n",
       "        text-align: right;\n",
       "    }\n",
       "</style>\n",
       "<table border=\"1\" class=\"dataframe\">\n",
       "  <thead>\n",
       "    <tr style=\"text-align: right;\">\n",
       "      <th></th>\n",
       "      <th>playerID</th>\n",
       "      <th>nameFirst</th>\n",
       "      <th>nameLast</th>\n",
       "      <th>Seasons</th>\n",
       "      <th>Hits</th>\n",
       "      <th>RBIs</th>\n",
       "      <th>Runs</th>\n",
       "      <th>Stolen_Bases</th>\n",
       "      <th>Strike_Outs</th>\n",
       "      <th>Home_Runs</th>\n",
       "      <th>...</th>\n",
       "      <th>finalGame</th>\n",
       "      <th>yearid</th>\n",
       "      <th>inducted</th>\n",
       "      <th>Total_Games</th>\n",
       "      <th>Games_Started</th>\n",
       "      <th>primary_position</th>\n",
       "      <th>years_since_final_game</th>\n",
       "      <th>eligible_for_hall</th>\n",
       "      <th>model_predict</th>\n",
       "      <th>Comparison</th>\n",
       "    </tr>\n",
       "  </thead>\n",
       "  <tbody>\n",
       "    <tr>\n",
       "      <th>0</th>\n",
       "      <td>aaronha01</td>\n",
       "      <td>Hank</td>\n",
       "      <td>Aaron</td>\n",
       "      <td>23</td>\n",
       "      <td>3771</td>\n",
       "      <td>2297</td>\n",
       "      <td>2174</td>\n",
       "      <td>240</td>\n",
       "      <td>1383</td>\n",
       "      <td>755</td>\n",
       "      <td>...</td>\n",
       "      <td>10/3/76</td>\n",
       "      <td>1982</td>\n",
       "      <td>Y</td>\n",
       "      <td>3298</td>\n",
       "      <td>3173</td>\n",
       "      <td>Out_Field</td>\n",
       "      <td>43.136986</td>\n",
       "      <td>eligible</td>\n",
       "      <td>Y</td>\n",
       "      <td>True</td>\n",
       "    </tr>\n",
       "    <tr>\n",
       "      <th>1</th>\n",
       "      <td>aaronto01</td>\n",
       "      <td>Tommie</td>\n",
       "      <td>Aaron</td>\n",
       "      <td>7</td>\n",
       "      <td>216</td>\n",
       "      <td>94</td>\n",
       "      <td>102</td>\n",
       "      <td>9</td>\n",
       "      <td>145</td>\n",
       "      <td>13</td>\n",
       "      <td>...</td>\n",
       "      <td>9/26/71</td>\n",
       "      <td>N/A</td>\n",
       "      <td>N</td>\n",
       "      <td>437</td>\n",
       "      <td>206</td>\n",
       "      <td>First_Base</td>\n",
       "      <td>48.161644</td>\n",
       "      <td>not_eligible</td>\n",
       "      <td>N</td>\n",
       "      <td>True</td>\n",
       "    </tr>\n",
       "    <tr>\n",
       "      <th>2</th>\n",
       "      <td>abadan01</td>\n",
       "      <td>Andy</td>\n",
       "      <td>Abad</td>\n",
       "      <td>3</td>\n",
       "      <td>2</td>\n",
       "      <td>0</td>\n",
       "      <td>1</td>\n",
       "      <td>0</td>\n",
       "      <td>5</td>\n",
       "      <td>0</td>\n",
       "      <td>...</td>\n",
       "      <td>4/13/06</td>\n",
       "      <td>N/A</td>\n",
       "      <td>N</td>\n",
       "      <td>15</td>\n",
       "      <td>4</td>\n",
       "      <td>First_Base</td>\n",
       "      <td>13.591781</td>\n",
       "      <td>not_eligible</td>\n",
       "      <td>N</td>\n",
       "      <td>True</td>\n",
       "    </tr>\n",
       "    <tr>\n",
       "      <th>3</th>\n",
       "      <td>abadijo01</td>\n",
       "      <td>John</td>\n",
       "      <td>Abadie</td>\n",
       "      <td>2</td>\n",
       "      <td>11</td>\n",
       "      <td>5</td>\n",
       "      <td>4</td>\n",
       "      <td>1</td>\n",
       "      <td>3</td>\n",
       "      <td>0</td>\n",
       "      <td>...</td>\n",
       "      <td>1875-06-10</td>\n",
       "      <td>N/A</td>\n",
       "      <td>N</td>\n",
       "      <td>12</td>\n",
       "      <td>0</td>\n",
       "      <td>First_Base</td>\n",
       "      <td>144.520548</td>\n",
       "      <td>not_eligible</td>\n",
       "      <td>N</td>\n",
       "      <td>True</td>\n",
       "    </tr>\n",
       "    <tr>\n",
       "      <th>4</th>\n",
       "      <td>abbated01</td>\n",
       "      <td>Ed</td>\n",
       "      <td>Abbaticchio</td>\n",
       "      <td>10</td>\n",
       "      <td>772</td>\n",
       "      <td>324</td>\n",
       "      <td>355</td>\n",
       "      <td>142</td>\n",
       "      <td>283</td>\n",
       "      <td>11</td>\n",
       "      <td>...</td>\n",
       "      <td>9/15/10</td>\n",
       "      <td>N/A</td>\n",
       "      <td>N</td>\n",
       "      <td>857</td>\n",
       "      <td>357</td>\n",
       "      <td>Second_Base</td>\n",
       "      <td>109.232877</td>\n",
       "      <td>eligible</td>\n",
       "      <td>N</td>\n",
       "      <td>True</td>\n",
       "    </tr>\n",
       "  </tbody>\n",
       "</table>\n",
       "<p>5 rows × 35 columns</p>\n",
       "</div>"
      ],
      "text/plain": [
       "    playerID nameFirst     nameLast  Seasons  Hits  RBIs  Runs  Stolen_Bases  \\\n",
       "0  aaronha01      Hank        Aaron       23  3771  2297  2174           240   \n",
       "1  aaronto01    Tommie        Aaron        7   216    94   102             9   \n",
       "2   abadan01      Andy         Abad        3     2     0     1             0   \n",
       "3  abadijo01      John       Abadie        2    11     5     4             1   \n",
       "4  abbated01        Ed  Abbaticchio       10   772   324   355           142   \n",
       "\n",
       "   Strike_Outs  Home_Runs  ...   finalGame  yearid  inducted  Total_Games  \\\n",
       "0         1383        755  ...     10/3/76    1982         Y         3298   \n",
       "1          145         13  ...     9/26/71     N/A         N          437   \n",
       "2            5          0  ...     4/13/06     N/A         N           15   \n",
       "3            3          0  ...  1875-06-10     N/A         N           12   \n",
       "4          283         11  ...     9/15/10     N/A         N          857   \n",
       "\n",
       "   Games_Started  primary_position  years_since_final_game  eligible_for_hall  \\\n",
       "0           3173         Out_Field               43.136986           eligible   \n",
       "1            206        First_Base               48.161644       not_eligible   \n",
       "2              4        First_Base               13.591781       not_eligible   \n",
       "3              0        First_Base              144.520548       not_eligible   \n",
       "4            357       Second_Base              109.232877           eligible   \n",
       "\n",
       "   model_predict  Comparison  \n",
       "0              Y        True  \n",
       "1              N        True  \n",
       "2              N        True  \n",
       "3              N        True  \n",
       "4              N        True  \n",
       "\n",
       "[5 rows x 35 columns]"
      ]
     },
     "execution_count": 27,
     "metadata": {},
     "output_type": "execute_result"
    }
   ],
   "source": [
    "# add column to original data frame for model's prediction and further cleanup\n",
    "position_player_predicted = pd.concat([position_player_df, pd.Series(data_total_predicted)], axis=1)\n",
    "position_player_predicted.rename(columns={0:\"model_predict\"}, inplace=True)\n",
    "position_player_predicted['Comparison']=position_player_predicted['inducted']==position_player_predicted['model_predict']\n",
    "position_player_predicted['yearid'] = position_player_predicted['yearid'].astype('int').replace(0.0, 'N/A')\n",
    "position_player_predicted.head()"
   ]
  },
  {
   "cell_type": "code",
   "execution_count": 28,
   "metadata": {},
   "outputs": [],
   "source": [
    "# Write out the complete Position Player dataset to csv\n",
    "position_player_predicted.to_csv('Data/position_players_predicted.csv', index=False)"
   ]
  }
 ],
 "metadata": {
  "kernelspec": {
   "display_name": "Python 3",
   "language": "python",
   "name": "python3"
  },
  "language_info": {
   "codemirror_mode": {
    "name": "ipython",
    "version": 3
   },
   "file_extension": ".py",
   "mimetype": "text/x-python",
   "name": "python",
   "nbconvert_exporter": "python",
   "pygments_lexer": "ipython3",
   "version": "3.7.3"
  }
 },
 "nbformat": 4,
 "nbformat_minor": 2
}
