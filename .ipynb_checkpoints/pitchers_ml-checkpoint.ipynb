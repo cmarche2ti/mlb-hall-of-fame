{
 "cells": [
  {
   "cell_type": "code",
   "execution_count": 1,
   "metadata": {},
   "outputs": [],
   "source": [
    "from sklearn.ensemble import RandomForestClassifier\n",
    "import pandas as pd"
   ]
  },
  {
   "cell_type": "code",
   "execution_count": 2,
   "metadata": {},
   "outputs": [],
   "source": [
    "pitchers_df = pd.read_csv('Data/pitchers_complete.csv')"
   ]
  },
  {
   "cell_type": "code",
   "execution_count": 3,
   "metadata": {},
   "outputs": [
    {
     "data": {
      "text/plain": [
       "(8987, 25)"
      ]
     },
     "execution_count": 3,
     "metadata": {},
     "output_type": "execute_result"
    }
   ],
   "source": [
    "pitchers_df.shape"
   ]
  },
  {
   "cell_type": "code",
   "execution_count": 8,
   "metadata": {},
   "outputs": [
    {
     "data": {
      "text/html": [
       "<div>\n",
       "<style scoped>\n",
       "    .dataframe tbody tr th:only-of-type {\n",
       "        vertical-align: middle;\n",
       "    }\n",
       "\n",
       "    .dataframe tbody tr th {\n",
       "        vertical-align: top;\n",
       "    }\n",
       "\n",
       "    .dataframe thead th {\n",
       "        text-align: right;\n",
       "    }\n",
       "</style>\n",
       "<table border=\"1\" class=\"dataframe\">\n",
       "  <thead>\n",
       "    <tr style=\"text-align: right;\">\n",
       "      <th></th>\n",
       "      <th>Seasons</th>\n",
       "      <th>Wins</th>\n",
       "      <th>Loses</th>\n",
       "      <th>Games</th>\n",
       "      <th>Games_Started</th>\n",
       "      <th>Complete_Games</th>\n",
       "      <th>Shut_Outs</th>\n",
       "      <th>Earned_Runs</th>\n",
       "      <th>Strike_Outs</th>\n",
       "      <th>Walks</th>\n",
       "      <th>Games_Finished</th>\n",
       "      <th>Runs_Allowed</th>\n",
       "      <th>Batters_Faced</th>\n",
       "      <th>years_since_final_game</th>\n",
       "    </tr>\n",
       "  </thead>\n",
       "  <tbody>\n",
       "    <tr>\n",
       "      <th>0</th>\n",
       "      <td>9</td>\n",
       "      <td>16</td>\n",
       "      <td>18</td>\n",
       "      <td>331</td>\n",
       "      <td>0</td>\n",
       "      <td>0</td>\n",
       "      <td>0</td>\n",
       "      <td>160</td>\n",
       "      <td>340</td>\n",
       "      <td>183</td>\n",
       "      <td>141</td>\n",
       "      <td>169</td>\n",
       "      <td>1475.0</td>\n",
       "      <td>4.224658</td>\n",
       "    </tr>\n",
       "    <tr>\n",
       "      <th>1</th>\n",
       "      <td>13</td>\n",
       "      <td>66</td>\n",
       "      <td>60</td>\n",
       "      <td>448</td>\n",
       "      <td>91</td>\n",
       "      <td>22</td>\n",
       "      <td>5</td>\n",
       "      <td>468</td>\n",
       "      <td>641</td>\n",
       "      <td>457</td>\n",
       "      <td>235</td>\n",
       "      <td>503</td>\n",
       "      <td>4730.0</td>\n",
       "      <td>29.128767</td>\n",
       "    </tr>\n",
       "    <tr>\n",
       "      <th>2</th>\n",
       "      <td>9</td>\n",
       "      <td>8</td>\n",
       "      <td>27</td>\n",
       "      <td>363</td>\n",
       "      <td>6</td>\n",
       "      <td>0</td>\n",
       "      <td>0</td>\n",
       "      <td>129</td>\n",
       "      <td>271</td>\n",
       "      <td>113</td>\n",
       "      <td>96</td>\n",
       "      <td>137</td>\n",
       "      <td>1350.0</td>\n",
       "      <td>2.115068</td>\n",
       "    </tr>\n",
       "    <tr>\n",
       "      <th>3</th>\n",
       "      <td>6</td>\n",
       "      <td>22</td>\n",
       "      <td>40</td>\n",
       "      <td>79</td>\n",
       "      <td>65</td>\n",
       "      <td>52</td>\n",
       "      <td>0</td>\n",
       "      <td>285</td>\n",
       "      <td>161</td>\n",
       "      <td>192</td>\n",
       "      <td>14</td>\n",
       "      <td>442</td>\n",
       "      <td>2568.0</td>\n",
       "      <td>123.216438</td>\n",
       "    </tr>\n",
       "    <tr>\n",
       "      <th>4</th>\n",
       "      <td>1</td>\n",
       "      <td>0</td>\n",
       "      <td>2</td>\n",
       "      <td>3</td>\n",
       "      <td>1</td>\n",
       "      <td>1</td>\n",
       "      <td>0</td>\n",
       "      <td>9</td>\n",
       "      <td>1</td>\n",
       "      <td>8</td>\n",
       "      <td>2</td>\n",
       "      <td>14</td>\n",
       "      <td>67.0</td>\n",
       "      <td>129.558904</td>\n",
       "    </tr>\n",
       "  </tbody>\n",
       "</table>\n",
       "</div>"
      ],
      "text/plain": [
       "   Seasons  Wins  Loses  Games  Games_Started  Complete_Games  Shut_Outs  \\\n",
       "0        9    16     18    331              0               0          0   \n",
       "1       13    66     60    448             91              22          5   \n",
       "2        9     8     27    363              6               0          0   \n",
       "3        6    22     40     79             65              52          0   \n",
       "4        1     0      2      3              1               1          0   \n",
       "\n",
       "   Earned_Runs  Strike_Outs  Walks  Games_Finished  Runs_Allowed  \\\n",
       "0          160          340    183             141           169   \n",
       "1          468          641    457             235           503   \n",
       "2          129          271    113              96           137   \n",
       "3          285          161    192              14           442   \n",
       "4            9            1      8               2            14   \n",
       "\n",
       "   Batters_Faced  years_since_final_game  \n",
       "0         1475.0                4.224658  \n",
       "1         4730.0               29.128767  \n",
       "2         1350.0                2.115068  \n",
       "3         2568.0              123.216438  \n",
       "4           67.0              129.558904  "
      ]
     },
     "execution_count": 8,
     "metadata": {},
     "output_type": "execute_result"
    }
   ],
   "source": [
    "# Setting up pitcher data for Machine learning\n",
    "data = pitchers_df.drop(['inducted', 'playerID', 'nameFirst', 'nameLast', \n",
    "                         'finalGame','bats', 'throws','weight', 'height','yearid','eligible_for_hall'], axis=1)\n",
    "data.fillna(0, inplace=True)\n",
    "data['Batters_Faced']=pd.to_numeric(data['Batters_Faced'])\n",
    "target = pitchers_df['inducted']\n",
    "target.fillna('N', inplace=True)\n",
    "target_names = ['N', 'Y']\n",
    "feature_names = data.columns\n",
    "data.head()"
   ]
  },
  {
   "cell_type": "code",
   "execution_count": 9,
   "metadata": {},
   "outputs": [],
   "source": [
    "from sklearn.model_selection import train_test_split\n",
    "X_train, X_test, y_train, y_test = train_test_split(data, target, random_state=42)"
   ]
  },
  {
   "cell_type": "code",
   "execution_count": 11,
   "metadata": {},
   "outputs": [
    {
     "name": "stderr",
     "output_type": "stream",
     "text": [
      "/Users/chris.marchetti/anaconda3/lib/python3.7/site-packages/sklearn/preprocessing/data.py:645: DataConversionWarning: Data with input dtype int64, float64 were all converted to float64 by StandardScaler.\n",
      "  return self.partial_fit(X, y)\n",
      "/Users/chris.marchetti/anaconda3/lib/python3.7/site-packages/ipykernel_launcher.py:4: DataConversionWarning: Data with input dtype int64, float64 were all converted to float64 by StandardScaler.\n",
      "  after removing the cwd from sys.path.\n",
      "/Users/chris.marchetti/anaconda3/lib/python3.7/site-packages/ipykernel_launcher.py:5: DataConversionWarning: Data with input dtype int64, float64 were all converted to float64 by StandardScaler.\n",
      "  \"\"\"\n"
     ]
    }
   ],
   "source": [
    "from sklearn.preprocessing import StandardScaler\n",
    "X_scaler = StandardScaler().fit(X_train)\n",
    "# y_scaler = StandardScaler().fit(y_train)\n",
    "X_train_scaled = X_scaler.transform(X_train)\n",
    "X_test_scaled = X_scaler.transform(X_test)\n"
   ]
  },
  {
   "cell_type": "code",
   "execution_count": null,
   "metadata": {},
   "outputs": [],
   "source": [
    "rf = RandomForestClassifier(n_estimators=200)\n",
    "rf = rf.fit(X_train_scaled, y_train)\n",
    "rf.score(X_test_scaled, y_test)\n"
   ]
  },
  {
   "cell_type": "code",
   "execution_count": null,
   "metadata": {},
   "outputs": [],
   "source": [
    "rf.score(X_train_scaled,y_train)"
   ]
  },
  {
   "cell_type": "code",
   "execution_count": null,
   "metadata": {},
   "outputs": [],
   "source": [
    "cnt = 0\n",
    "for result in rf.predict(X_test_scaled):\n",
    "    if result[1] == 1:\n",
    "        cnt+=1\n",
    "print(cnt)"
   ]
  },
  {
   "cell_type": "code",
   "execution_count": null,
   "metadata": {},
   "outputs": [],
   "source": [
    "count = 0\n",
    "for result in rf.predict(X_train_scaled):\n",
    "    if result[1] == 1:\n",
    "        count+=1\n",
    "print(count)"
   ]
  },
  {
   "cell_type": "code",
   "execution_count": null,
   "metadata": {},
   "outputs": [],
   "source": [
    "c = 0\n",
    "for result in pitchers_df['inducted']:\n",
    "    if result == 'Y':\n",
    "        c+=1\n",
    "print(c)"
   ]
  },
  {
   "cell_type": "code",
   "execution_count": null,
   "metadata": {},
   "outputs": [],
   "source": [
    "(count+cnt)/c"
   ]
  },
  {
   "cell_type": "code",
   "execution_count": null,
   "metadata": {},
   "outputs": [],
   "source": [
    "predict_list= [predictions[1] for row in predictions]"
   ]
  },
  {
   "cell_type": "code",
   "execution_count": null,
   "metadata": {},
   "outputs": [],
   "source": [
    "predictions = rf.predict(X_test)\n",
    "predict_vs_actual = {\n",
    "    'predicted': predict_list,\n",
    "    'actual': y_test['Y'],\n",
    "    'check': y_test['Y']==predict_list}\n",
    "# pd.DataFrame(predict_vs_actual)\n",
    "predict_vs_actual"
   ]
  },
  {
   "cell_type": "code",
   "execution_count": null,
   "metadata": {},
   "outputs": [],
   "source": [
    "from sklearn.metrics import classification_report\n",
    "predictions = rf.predict(X_test_scaled)\n",
    "print(classification_report(y_test, predictions,\n",
    "                            target_names=target_names))"
   ]
  },
  {
   "cell_type": "code",
   "execution_count": null,
   "metadata": {},
   "outputs": [],
   "source": [
    "rf.feature_importances_"
   ]
  },
  {
   "cell_type": "code",
   "execution_count": null,
   "metadata": {},
   "outputs": [],
   "source": [
    "pitchers_df[pitchers_df['inducted']=='Y']"
   ]
  },
  {
   "cell_type": "code",
   "execution_count": null,
   "metadata": {},
   "outputs": [],
   "source": [
    "# X_scaler.transform(data.iloc[95].array.reshape(1,-1))"
   ]
  },
  {
   "cell_type": "code",
   "execution_count": null,
   "metadata": {},
   "outputs": [],
   "source": []
  }
 ],
 "metadata": {
  "kernelspec": {
   "display_name": "Python 3",
   "language": "python",
   "name": "python3"
  }
 },
 "nbformat": 4,
 "nbformat_minor": 2
}
