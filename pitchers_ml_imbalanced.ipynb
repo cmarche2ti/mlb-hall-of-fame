{
 "cells": [
  {
   "cell_type": "code",
   "execution_count": 76,
   "metadata": {},
   "outputs": [],
   "source": [
    "from imblearn.ensemble import BalancedRandomForestClassifier\n",
    "import pandas as pd\n",
    "import matplotlib.pyplot as plt\n"
   ]
  },
  {
   "cell_type": "code",
   "execution_count": 77,
   "metadata": {},
   "outputs": [],
   "source": [
    "pitchers_df = pd.read_csv('Data/pitchers_complete.csv')"
   ]
  },
  {
   "cell_type": "code",
   "execution_count": 78,
   "metadata": {},
   "outputs": [
    {
     "data": {
      "text/plain": [
       "(8987, 25)"
      ]
     },
     "execution_count": 78,
     "metadata": {},
     "output_type": "execute_result"
    }
   ],
   "source": [
    "pitchers_df.shape"
   ]
  },
  {
   "cell_type": "code",
   "execution_count": 79,
   "metadata": {},
   "outputs": [
    {
     "data": {
      "text/html": [
       "<div>\n",
       "<style scoped>\n",
       "    .dataframe tbody tr th:only-of-type {\n",
       "        vertical-align: middle;\n",
       "    }\n",
       "\n",
       "    .dataframe tbody tr th {\n",
       "        vertical-align: top;\n",
       "    }\n",
       "\n",
       "    .dataframe thead th {\n",
       "        text-align: right;\n",
       "    }\n",
       "</style>\n",
       "<table border=\"1\" class=\"dataframe\">\n",
       "  <thead>\n",
       "    <tr style=\"text-align: right;\">\n",
       "      <th></th>\n",
       "      <th>playerID</th>\n",
       "      <th>nameFirst</th>\n",
       "      <th>nameLast</th>\n",
       "      <th>Seasons</th>\n",
       "      <th>Wins</th>\n",
       "      <th>Loses</th>\n",
       "      <th>Games</th>\n",
       "      <th>Games_Started</th>\n",
       "      <th>Complete_Games</th>\n",
       "      <th>Shut_Outs</th>\n",
       "      <th>...</th>\n",
       "      <th>Batters_Faced</th>\n",
       "      <th>weight</th>\n",
       "      <th>height</th>\n",
       "      <th>bats</th>\n",
       "      <th>throws</th>\n",
       "      <th>finalGame</th>\n",
       "      <th>yearid</th>\n",
       "      <th>inducted</th>\n",
       "      <th>years_since_final_game</th>\n",
       "      <th>eligible_for_hall</th>\n",
       "    </tr>\n",
       "  </thead>\n",
       "  <tbody>\n",
       "    <tr>\n",
       "      <th>1</th>\n",
       "      <td>aasedo01</td>\n",
       "      <td>Don</td>\n",
       "      <td>Aase</td>\n",
       "      <td>13</td>\n",
       "      <td>66</td>\n",
       "      <td>60</td>\n",
       "      <td>448</td>\n",
       "      <td>91</td>\n",
       "      <td>22</td>\n",
       "      <td>5</td>\n",
       "      <td>...</td>\n",
       "      <td>4730.0</td>\n",
       "      <td>190.0</td>\n",
       "      <td>75.0</td>\n",
       "      <td>R</td>\n",
       "      <td>R</td>\n",
       "      <td>1990-10-03</td>\n",
       "      <td>0.0</td>\n",
       "      <td>N</td>\n",
       "      <td>29.117808</td>\n",
       "      <td>eligible</td>\n",
       "    </tr>\n",
       "    <tr>\n",
       "      <th>5</th>\n",
       "      <td>abbotgl01</td>\n",
       "      <td>Glenn</td>\n",
       "      <td>Abbott</td>\n",
       "      <td>12</td>\n",
       "      <td>62</td>\n",
       "      <td>83</td>\n",
       "      <td>248</td>\n",
       "      <td>206</td>\n",
       "      <td>37</td>\n",
       "      <td>5</td>\n",
       "      <td>...</td>\n",
       "      <td>5508.0</td>\n",
       "      <td>200.0</td>\n",
       "      <td>78.0</td>\n",
       "      <td>R</td>\n",
       "      <td>R</td>\n",
       "      <td>1984-08-08</td>\n",
       "      <td>0.0</td>\n",
       "      <td>N</td>\n",
       "      <td>35.273973</td>\n",
       "      <td>eligible</td>\n",
       "    </tr>\n",
       "    <tr>\n",
       "      <th>6</th>\n",
       "      <td>abbotji01</td>\n",
       "      <td>Jim</td>\n",
       "      <td>Abbott</td>\n",
       "      <td>11</td>\n",
       "      <td>87</td>\n",
       "      <td>108</td>\n",
       "      <td>263</td>\n",
       "      <td>254</td>\n",
       "      <td>31</td>\n",
       "      <td>6</td>\n",
       "      <td>...</td>\n",
       "      <td>7211.0</td>\n",
       "      <td>200.0</td>\n",
       "      <td>75.0</td>\n",
       "      <td>L</td>\n",
       "      <td>L</td>\n",
       "      <td>1999-07-21</td>\n",
       "      <td>0.0</td>\n",
       "      <td>N</td>\n",
       "      <td>20.315068</td>\n",
       "      <td>eligible</td>\n",
       "    </tr>\n",
       "    <tr>\n",
       "      <th>8</th>\n",
       "      <td>abbotpa01</td>\n",
       "      <td>Paul</td>\n",
       "      <td>Abbott</td>\n",
       "      <td>12</td>\n",
       "      <td>43</td>\n",
       "      <td>37</td>\n",
       "      <td>162</td>\n",
       "      <td>112</td>\n",
       "      <td>1</td>\n",
       "      <td>0</td>\n",
       "      <td>...</td>\n",
       "      <td>3187.0</td>\n",
       "      <td>185.0</td>\n",
       "      <td>75.0</td>\n",
       "      <td>R</td>\n",
       "      <td>R</td>\n",
       "      <td>2004-08-07</td>\n",
       "      <td>0.0</td>\n",
       "      <td>N</td>\n",
       "      <td>15.263014</td>\n",
       "      <td>eligible</td>\n",
       "    </tr>\n",
       "    <tr>\n",
       "      <th>12</th>\n",
       "      <td>abernte02</td>\n",
       "      <td>Ted</td>\n",
       "      <td>Abernathy</td>\n",
       "      <td>17</td>\n",
       "      <td>63</td>\n",
       "      <td>69</td>\n",
       "      <td>681</td>\n",
       "      <td>34</td>\n",
       "      <td>7</td>\n",
       "      <td>2</td>\n",
       "      <td>...</td>\n",
       "      <td>4963.0</td>\n",
       "      <td>215.0</td>\n",
       "      <td>76.0</td>\n",
       "      <td>R</td>\n",
       "      <td>R</td>\n",
       "      <td>1972-09-30</td>\n",
       "      <td>0.0</td>\n",
       "      <td>N</td>\n",
       "      <td>47.136986</td>\n",
       "      <td>eligible</td>\n",
       "    </tr>\n",
       "  </tbody>\n",
       "</table>\n",
       "<p>5 rows × 25 columns</p>\n",
       "</div>"
      ],
      "text/plain": [
       "     playerID nameFirst   nameLast  Seasons  Wins  Loses  Games  \\\n",
       "1    aasedo01       Don       Aase       13    66     60    448   \n",
       "5   abbotgl01     Glenn     Abbott       12    62     83    248   \n",
       "6   abbotji01       Jim     Abbott       11    87    108    263   \n",
       "8   abbotpa01      Paul     Abbott       12    43     37    162   \n",
       "12  abernte02       Ted  Abernathy       17    63     69    681   \n",
       "\n",
       "    Games_Started  Complete_Games  Shut_Outs  ...  Batters_Faced  weight  \\\n",
       "1              91              22          5  ...         4730.0   190.0   \n",
       "5             206              37          5  ...         5508.0   200.0   \n",
       "6             254              31          6  ...         7211.0   200.0   \n",
       "8             112               1          0  ...         3187.0   185.0   \n",
       "12             34               7          2  ...         4963.0   215.0   \n",
       "\n",
       "    height  bats  throws   finalGame  yearid  inducted years_since_final_game  \\\n",
       "1     75.0     R       R  1990-10-03     0.0         N              29.117808   \n",
       "5     78.0     R       R  1984-08-08     0.0         N              35.273973   \n",
       "6     75.0     L       L  1999-07-21     0.0         N              20.315068   \n",
       "8     75.0     R       R  2004-08-07     0.0         N              15.263014   \n",
       "12    76.0     R       R  1972-09-30     0.0         N              47.136986   \n",
       "\n",
       "   eligible_for_hall  \n",
       "1           eligible  \n",
       "5           eligible  \n",
       "6           eligible  \n",
       "8           eligible  \n",
       "12          eligible  \n",
       "\n",
       "[5 rows x 25 columns]"
      ]
     },
     "execution_count": 79,
     "metadata": {},
     "output_type": "execute_result"
    }
   ],
   "source": [
    "pitchers_train_model = pitchers_df[pitchers_df['eligible_for_hall']=='eligible']\n",
    "pitchers_train_model.head()"
   ]
  },
  {
   "cell_type": "code",
   "execution_count": 102,
   "metadata": {},
   "outputs": [
    {
     "data": {
      "text/plain": [
       "(1343, 13)"
      ]
     },
     "execution_count": 102,
     "metadata": {},
     "output_type": "execute_result"
    }
   ],
   "source": [
    "\n",
    "data = pitchers_train_model.drop(['inducted', 'playerID', 'nameFirst', 'nameLast', 'finalGame','bats', \n",
    "                                  'throws','weight', 'height','yearid','years_since_final_game', \n",
    "                                  'eligible_for_hall'], axis=1)\n",
    "data.fillna(0, inplace=True)\n",
    "data['Batters_Faced']=pd.to_numeric(data['Batters_Faced'])\n",
    "data.shape"
   ]
  },
  {
   "cell_type": "code",
   "execution_count": 81,
   "metadata": {},
   "outputs": [
    {
     "name": "stderr",
     "output_type": "stream",
     "text": [
      "/Users/chris.marchetti/anaconda3/lib/python3.7/site-packages/pandas/core/generic.py:6130: SettingWithCopyWarning: \n",
      "A value is trying to be set on a copy of a slice from a DataFrame\n",
      "\n",
      "See the caveats in the documentation: http://pandas.pydata.org/pandas-docs/stable/indexing.html#indexing-view-versus-copy\n",
      "  self._update_inplace(new_data)\n"
     ]
    },
    {
     "data": {
      "text/plain": [
       "N    1274\n",
       "Y      69\n",
       "Name: inducted, dtype: int64"
      ]
     },
     "execution_count": 81,
     "metadata": {},
     "output_type": "execute_result"
    }
   ],
   "source": [
    "target = pitchers_train_model['inducted']\n",
    "target.fillna('N', inplace=True)\n",
    "target.value_counts()"
   ]
  },
  {
   "cell_type": "code",
   "execution_count": 82,
   "metadata": {},
   "outputs": [
    {
     "data": {
      "text/plain": [
       "Index(['Seasons', 'Wins', 'Loses', 'Games', 'Games_Started', 'Complete_Games',\n",
       "       'Shut_Outs', 'Earned_Runs', 'Strike_Outs', 'Walks', 'Games_Finished',\n",
       "       'Runs_Allowed', 'Batters_Faced'],\n",
       "      dtype='object')"
      ]
     },
     "execution_count": 82,
     "metadata": {},
     "output_type": "execute_result"
    }
   ],
   "source": [
    "feature_names = data.columns\n",
    "feature_names"
   ]
  },
  {
   "cell_type": "code",
   "execution_count": 83,
   "metadata": {},
   "outputs": [
    {
     "name": "stderr",
     "output_type": "stream",
     "text": [
      "/Users/chris.marchetti/anaconda3/lib/python3.7/site-packages/sklearn/preprocessing/data.py:645: DataConversionWarning: Data with input dtype int64, float64 were all converted to float64 by StandardScaler.\n",
      "  return self.partial_fit(X, y)\n",
      "/Users/chris.marchetti/anaconda3/lib/python3.7/site-packages/ipykernel_launcher.py:6: DataConversionWarning: Data with input dtype int64, float64 were all converted to float64 by StandardScaler.\n",
      "  \n",
      "/Users/chris.marchetti/anaconda3/lib/python3.7/site-packages/ipykernel_launcher.py:7: DataConversionWarning: Data with input dtype int64, float64 were all converted to float64 by StandardScaler.\n",
      "  import sys\n"
     ]
    }
   ],
   "source": [
    "from sklearn.model_selection import train_test_split\n",
    "from sklearn.preprocessing import StandardScaler\n",
    "\n",
    "X_train, X_test, y_train, y_test = train_test_split(data, target, random_state=42)\n",
    "X_scaler = StandardScaler().fit(X_train)\n",
    "X_train_scaled = X_scaler.transform(X_train)\n",
    "X_test_scaled = X_scaler.transform(X_test)"
   ]
  },
  {
   "cell_type": "code",
   "execution_count": 84,
   "metadata": {},
   "outputs": [
    {
     "data": {
      "text/plain": [
       "336"
      ]
     },
     "execution_count": 84,
     "metadata": {},
     "output_type": "execute_result"
    }
   ],
   "source": [
    "len(X_test)"
   ]
  },
  {
   "cell_type": "code",
   "execution_count": 85,
   "metadata": {},
   "outputs": [
    {
     "data": {
      "text/plain": [
       "0.9196428571428571"
      ]
     },
     "execution_count": 85,
     "metadata": {},
     "output_type": "execute_result"
    }
   ],
   "source": [
    "clf = BalancedRandomForestClassifier(random_state=0)\n",
    "clf = clf.fit(X_train_scaled, y_train)\n",
    "clf.score(X_test_scaled, y_test)"
   ]
  },
  {
   "cell_type": "code",
   "execution_count": 86,
   "metadata": {},
   "outputs": [
    {
     "data": {
      "image/svg+xml": [
       "<?xml version=\"1.0\" encoding=\"UTF-8\" standalone=\"no\"?>\n",
       "<!DOCTYPE svg PUBLIC \"-//W3C//DTD SVG 1.1//EN\"\n",
       " \"http://www.w3.org/Graphics/SVG/1.1/DTD/svg11.dtd\">\n",
       "<!-- Generated by graphviz version 2.40.1 (20161225.0304)\n",
       " -->\n",
       "<!-- Title: Tree Pages: 1 -->\n",
       "<svg width=\"378pt\" height=\"433pt\"\n",
       " viewBox=\"0.00 0.00 377.50 433.00\" xmlns=\"http://www.w3.org/2000/svg\" xmlns:xlink=\"http://www.w3.org/1999/xlink\">\n",
       "<g id=\"graph0\" class=\"graph\" transform=\"scale(1 1) rotate(0) translate(4 429)\">\n",
       "<title>Tree</title>\n",
       "<polygon fill=\"#ffffff\" stroke=\"transparent\" points=\"-4,4 -4,-429 373.5,-429 373.5,4 -4,4\"/>\n",
       "<!-- 0 -->\n",
       "<g id=\"node1\" class=\"node\">\n",
       "<title>0</title>\n",
       "<polygon fill=\"#e58139\" fill-opacity=\"0.031373\" stroke=\"#000000\" points=\"324,-425 168,-425 168,-342 324,-342 324,-425\"/>\n",
       "<text text-anchor=\"middle\" x=\"246\" y=\"-409.8\" font-family=\"Times,serif\" font-size=\"14.00\" fill=\"#000000\">Games_Started &lt;= 0.693</text>\n",
       "<text text-anchor=\"middle\" x=\"246\" y=\"-394.8\" font-family=\"Times,serif\" font-size=\"14.00\" fill=\"#000000\">gini = 0.5</text>\n",
       "<text text-anchor=\"middle\" x=\"246\" y=\"-379.8\" font-family=\"Times,serif\" font-size=\"14.00\" fill=\"#000000\">samples = 76</text>\n",
       "<text text-anchor=\"middle\" x=\"246\" y=\"-364.8\" font-family=\"Times,serif\" font-size=\"14.00\" fill=\"#000000\">value = [61, 59]</text>\n",
       "<text text-anchor=\"middle\" x=\"246\" y=\"-349.8\" font-family=\"Times,serif\" font-size=\"14.00\" fill=\"#000000\">class = N</text>\n",
       "</g>\n",
       "<!-- 1 -->\n",
       "<g id=\"node2\" class=\"node\">\n",
       "<title>1</title>\n",
       "<polygon fill=\"#e58139\" fill-opacity=\"0.949020\" stroke=\"#000000\" points=\"252.5,-306 91.5,-306 91.5,-223 252.5,-223 252.5,-306\"/>\n",
       "<text text-anchor=\"middle\" x=\"172\" y=\"-290.8\" font-family=\"Times,serif\" font-size=\"14.00\" fill=\"#000000\">Games_Started &lt;= &#45;1.205</text>\n",
       "<text text-anchor=\"middle\" x=\"172\" y=\"-275.8\" font-family=\"Times,serif\" font-size=\"14.00\" fill=\"#000000\">gini = 0.089</text>\n",
       "<text text-anchor=\"middle\" x=\"172\" y=\"-260.8\" font-family=\"Times,serif\" font-size=\"14.00\" fill=\"#000000\">samples = 41</text>\n",
       "<text text-anchor=\"middle\" x=\"172\" y=\"-245.8\" font-family=\"Times,serif\" font-size=\"14.00\" fill=\"#000000\">value = [61, 3]</text>\n",
       "<text text-anchor=\"middle\" x=\"172\" y=\"-230.8\" font-family=\"Times,serif\" font-size=\"14.00\" fill=\"#000000\">class = N</text>\n",
       "</g>\n",
       "<!-- 0&#45;&gt;1 -->\n",
       "<g id=\"edge1\" class=\"edge\">\n",
       "<title>0&#45;&gt;1</title>\n",
       "<path fill=\"none\" stroke=\"#000000\" d=\"M220.1184,-341.8796C214.6858,-333.1434 208.9008,-323.8404 203.2947,-314.8253\"/>\n",
       "<polygon fill=\"#000000\" stroke=\"#000000\" points=\"206.2451,-312.9418 197.9921,-306.2981 200.3007,-316.6383 206.2451,-312.9418\"/>\n",
       "<text text-anchor=\"middle\" x=\"192.3153\" y=\"-326.945\" font-family=\"Times,serif\" font-size=\"14.00\" fill=\"#000000\">True</text>\n",
       "</g>\n",
       "<!-- 6 -->\n",
       "<g id=\"node7\" class=\"node\">\n",
       "<title>6</title>\n",
       "<polygon fill=\"#399de5\" stroke=\"#000000\" points=\"369.5,-298.5 270.5,-298.5 270.5,-230.5 369.5,-230.5 369.5,-298.5\"/>\n",
       "<text text-anchor=\"middle\" x=\"320\" y=\"-283.3\" font-family=\"Times,serif\" font-size=\"14.00\" fill=\"#000000\">gini = 0.0</text>\n",
       "<text text-anchor=\"middle\" x=\"320\" y=\"-268.3\" font-family=\"Times,serif\" font-size=\"14.00\" fill=\"#000000\">samples = 35</text>\n",
       "<text text-anchor=\"middle\" x=\"320\" y=\"-253.3\" font-family=\"Times,serif\" font-size=\"14.00\" fill=\"#000000\">value = [0, 56]</text>\n",
       "<text text-anchor=\"middle\" x=\"320\" y=\"-238.3\" font-family=\"Times,serif\" font-size=\"14.00\" fill=\"#000000\">class = Y</text>\n",
       "</g>\n",
       "<!-- 0&#45;&gt;6 -->\n",
       "<g id=\"edge6\" class=\"edge\">\n",
       "<title>0&#45;&gt;6</title>\n",
       "<path fill=\"none\" stroke=\"#000000\" d=\"M271.8816,-341.8796C278.7879,-330.7735 286.2639,-318.7513 293.2175,-307.5691\"/>\n",
       "<polygon fill=\"#000000\" stroke=\"#000000\" points=\"296.3527,-309.1552 298.6613,-298.8149 290.4083,-305.4587 296.3527,-309.1552\"/>\n",
       "<text text-anchor=\"middle\" x=\"304.3381\" y=\"-319.4619\" font-family=\"Times,serif\" font-size=\"14.00\" fill=\"#000000\">False</text>\n",
       "</g>\n",
       "<!-- 2 -->\n",
       "<g id=\"node3\" class=\"node\">\n",
       "<title>2</title>\n",
       "<polygon fill=\"#e58139\" fill-opacity=\"0.400000\" stroke=\"#000000\" points=\"176.5,-187 25.5,-187 25.5,-104 176.5,-104 176.5,-187\"/>\n",
       "<text text-anchor=\"middle\" x=\"101\" y=\"-171.8\" font-family=\"Times,serif\" font-size=\"14.00\" fill=\"#000000\">Earned_Runs &lt;= &#45;0.957</text>\n",
       "<text text-anchor=\"middle\" x=\"101\" y=\"-156.8\" font-family=\"Times,serif\" font-size=\"14.00\" fill=\"#000000\">gini = 0.469</text>\n",
       "<text text-anchor=\"middle\" x=\"101\" y=\"-141.8\" font-family=\"Times,serif\" font-size=\"14.00\" fill=\"#000000\">samples = 5</text>\n",
       "<text text-anchor=\"middle\" x=\"101\" y=\"-126.8\" font-family=\"Times,serif\" font-size=\"14.00\" fill=\"#000000\">value = [5, 3]</text>\n",
       "<text text-anchor=\"middle\" x=\"101\" y=\"-111.8\" font-family=\"Times,serif\" font-size=\"14.00\" fill=\"#000000\">class = N</text>\n",
       "</g>\n",
       "<!-- 1&#45;&gt;2 -->\n",
       "<g id=\"edge2\" class=\"edge\">\n",
       "<title>1&#45;&gt;2</title>\n",
       "<path fill=\"none\" stroke=\"#000000\" d=\"M147.1676,-222.8796C142.0091,-214.2335 136.5192,-205.0322 131.1924,-196.1042\"/>\n",
       "<polygon fill=\"#000000\" stroke=\"#000000\" points=\"134.0678,-194.0924 125.9383,-187.2981 128.0564,-197.679 134.0678,-194.0924\"/>\n",
       "</g>\n",
       "<!-- 5 -->\n",
       "<g id=\"node6\" class=\"node\">\n",
       "<title>5</title>\n",
       "<polygon fill=\"#e58139\" stroke=\"#000000\" points=\"293.5,-179.5 194.5,-179.5 194.5,-111.5 293.5,-111.5 293.5,-179.5\"/>\n",
       "<text text-anchor=\"middle\" x=\"244\" y=\"-164.3\" font-family=\"Times,serif\" font-size=\"14.00\" fill=\"#000000\">gini = 0.0</text>\n",
       "<text text-anchor=\"middle\" x=\"244\" y=\"-149.3\" font-family=\"Times,serif\" font-size=\"14.00\" fill=\"#000000\">samples = 36</text>\n",
       "<text text-anchor=\"middle\" x=\"244\" y=\"-134.3\" font-family=\"Times,serif\" font-size=\"14.00\" fill=\"#000000\">value = [56, 0]</text>\n",
       "<text text-anchor=\"middle\" x=\"244\" y=\"-119.3\" font-family=\"Times,serif\" font-size=\"14.00\" fill=\"#000000\">class = N</text>\n",
       "</g>\n",
       "<!-- 1&#45;&gt;5 -->\n",
       "<g id=\"edge5\" class=\"edge\">\n",
       "<title>1&#45;&gt;5</title>\n",
       "<path fill=\"none\" stroke=\"#000000\" d=\"M197.1821,-222.8796C203.9017,-211.7735 211.1757,-199.7513 217.9414,-188.5691\"/>\n",
       "<polygon fill=\"#000000\" stroke=\"#000000\" points=\"221.0559,-190.1826 223.238,-179.8149 215.0668,-186.5589 221.0559,-190.1826\"/>\n",
       "</g>\n",
       "<!-- 3 -->\n",
       "<g id=\"node4\" class=\"node\">\n",
       "<title>3</title>\n",
       "<polygon fill=\"#e58139\" stroke=\"#000000\" points=\"92,-68 0,-68 0,0 92,0 92,-68\"/>\n",
       "<text text-anchor=\"middle\" x=\"46\" y=\"-52.8\" font-family=\"Times,serif\" font-size=\"14.00\" fill=\"#000000\">gini = 0.0</text>\n",
       "<text text-anchor=\"middle\" x=\"46\" y=\"-37.8\" font-family=\"Times,serif\" font-size=\"14.00\" fill=\"#000000\">samples = 3</text>\n",
       "<text text-anchor=\"middle\" x=\"46\" y=\"-22.8\" font-family=\"Times,serif\" font-size=\"14.00\" fill=\"#000000\">value = [5, 0]</text>\n",
       "<text text-anchor=\"middle\" x=\"46\" y=\"-7.8\" font-family=\"Times,serif\" font-size=\"14.00\" fill=\"#000000\">class = N</text>\n",
       "</g>\n",
       "<!-- 2&#45;&gt;3 -->\n",
       "<g id=\"edge3\" class=\"edge\">\n",
       "<title>2&#45;&gt;3</title>\n",
       "<path fill=\"none\" stroke=\"#000000\" d=\"M80.52,-103.9815C76.2585,-95.3423 71.756,-86.2144 67.4603,-77.5059\"/>\n",
       "<polygon fill=\"#000000\" stroke=\"#000000\" points=\"70.4641,-75.6836 62.9014,-68.2637 64.1863,-78.7803 70.4641,-75.6836\"/>\n",
       "</g>\n",
       "<!-- 4 -->\n",
       "<g id=\"node5\" class=\"node\">\n",
       "<title>4</title>\n",
       "<polygon fill=\"#399de5\" stroke=\"#000000\" points=\"202,-68 110,-68 110,0 202,0 202,-68\"/>\n",
       "<text text-anchor=\"middle\" x=\"156\" y=\"-52.8\" font-family=\"Times,serif\" font-size=\"14.00\" fill=\"#000000\">gini = 0.0</text>\n",
       "<text text-anchor=\"middle\" x=\"156\" y=\"-37.8\" font-family=\"Times,serif\" font-size=\"14.00\" fill=\"#000000\">samples = 2</text>\n",
       "<text text-anchor=\"middle\" x=\"156\" y=\"-22.8\" font-family=\"Times,serif\" font-size=\"14.00\" fill=\"#000000\">value = [0, 3]</text>\n",
       "<text text-anchor=\"middle\" x=\"156\" y=\"-7.8\" font-family=\"Times,serif\" font-size=\"14.00\" fill=\"#000000\">class = Y</text>\n",
       "</g>\n",
       "<!-- 2&#45;&gt;4 -->\n",
       "<g id=\"edge4\" class=\"edge\">\n",
       "<title>2&#45;&gt;4</title>\n",
       "<path fill=\"none\" stroke=\"#000000\" d=\"M121.48,-103.9815C125.7415,-95.3423 130.244,-86.2144 134.5397,-77.5059\"/>\n",
       "<polygon fill=\"#000000\" stroke=\"#000000\" points=\"137.8137,-78.7803 139.0986,-68.2637 131.5359,-75.6836 137.8137,-78.7803\"/>\n",
       "</g>\n",
       "</g>\n",
       "</svg>\n"
      ],
      "text/plain": [
       "<graphviz.files.Source at 0x1a3d7852b0>"
      ]
     },
     "execution_count": 86,
     "metadata": {},
     "output_type": "execute_result"
    }
   ],
   "source": [
    "from sklearn import tree\n",
    "import graphviz\n",
    "dot_data = tree.export_graphviz(clf.estimators_[10], \n",
    "                                feature_names = feature_names, \n",
    "                                class_names=['N', 'Y'] , #y_train.columns,\n",
    "                                filled = True\n",
    "#,\n",
    "#                                 proportion = True,\n",
    "#                                 leaves_parallel=True\n",
    "                               )\n",
    "graph = graphviz.Source(dot_data)\n",
    "graph"
   ]
  },
  {
   "cell_type": "code",
   "execution_count": 87,
   "metadata": {},
   "outputs": [
    {
     "name": "stdout",
     "output_type": "stream",
     "text": [
      "[[300  27]\n",
      " [  0   9]]\n",
      "score for yesses, 1.0\n",
      "The score is the fraction of yesses, you predicted 0.8260869565217391\n",
      "              precision    recall  f1-score   support\n",
      "\n",
      "           N       1.00      0.92      0.96       327\n",
      "           Y       0.25      1.00      0.40         9\n",
      "\n",
      "   micro avg       0.92      0.92      0.92       336\n",
      "   macro avg       0.62      0.96      0.68       336\n",
      "weighted avg       0.98      0.92      0.94       336\n",
      "\n"
     ]
    },
    {
     "data": {
      "image/png": "[encoded data removed]",
      "text/plain": [
       "<Figure size 432x288 with 1 Axes>"
      ]
     },
     "metadata": {},
     "output_type": "display_data"
    }
   ],
   "source": [
    "y_predicted = clf.predict(X_test_scaled)\n",
    "from sklearn.metrics import confusion_matrix\n",
    "print(confusion_matrix(y_test, y_predicted))\n",
    "\n",
    "predictions_df = pd.concat([pd.DataFrame(X_test_scaled),\n",
    "#                            .copy().assign(\n",
    "                           pd.DataFrame(dict(\n",
    "    predicted= y_predicted,\n",
    "    actual=y_test\n",
    ")).reset_index(drop=True)\n",
    "                           ], axis=1)\n",
    "# pd.Series(y_test).value_counts()#[:20]\n",
    "actual_inductees = predictions_df.loc[predictions_df.actual=='Y']\n",
    "predictions_for_actual_inductees = actual_inductees.predicted.value_counts()\n",
    "predictions_for_actual_inductees .plot(kind='pie', title='predictions_for_actual_inductees',  labels=predictions_for_actual_inductees.values)\n",
    "\n",
    "print(f\"score for yesses, {clf.score(actual_inductees.drop(['predicted', 'actual'],axis=1),actual_inductees .actual)}\")\n",
    "print('The score is the fraction of yesses, you predicted',  19/(4+19))\n",
    "\n",
    "from sklearn.metrics import classification_report\n",
    "print(classification_report(y_test, y_predicted)) #actual_inductees.values.reshape(-1), predictions_for_actual_inductees)\n",
    "# print(y_predicted.shape)\n",
    "# print(y_test.shape)"
   ]
  },
  {
   "cell_type": "code",
   "execution_count": 88,
   "metadata": {},
   "outputs": [
    {
     "name": "stdout",
     "output_type": "stream",
     "text": [
      "[0.01332945 0.22841545 0.05384302 0.04029793 0.10055195 0.06668829\n",
      " 0.08355742 0.0273054  0.14682526 0.03505868 0.03239529 0.06285057\n",
      " 0.10888128]\n"
     ]
    }
   ],
   "source": [
    "print(clf.feature_importances_)"
   ]
  },
  {
   "cell_type": "code",
   "execution_count": 89,
   "metadata": {},
   "outputs": [],
   "source": [
    "import os\n",
    "os.environ['KMP_DUPLICATE_LIB_OK']='True'\n",
    "from xgboost import XGBClassifier\n",
    "from sklearn.metrics import accuracy_score"
   ]
  },
  {
   "cell_type": "code",
   "execution_count": 90,
   "metadata": {},
   "outputs": [
    {
     "name": "stdout",
     "output_type": "stream",
     "text": [
      "Accuracy: 97.92%\n"
     ]
    }
   ],
   "source": [
    "# fit model no training data\n",
    "model = XGBClassifier(scale_pos_weight=1)\n",
    "model.fit(X_train_scaled, y_train)\n",
    "y_pred = model.predict(X_test_scaled)\n",
    "accuracy = accuracy_score(y_test, y_pred)\n",
    "print(\"Accuracy: %.2f%%\" % (accuracy * 100.0))"
   ]
  },
  {
   "cell_type": "code",
   "execution_count": 91,
   "metadata": {},
   "outputs": [
    {
     "name": "stdout",
     "output_type": "stream",
     "text": [
      "[[324   3]\n",
      " [  4   5]]\n",
      "Y    5\n",
      "N    4\n",
      "Name: predicted, dtype: int64\n",
      "The score is the fraction of yesses, you predicted 0.4782608695652174\n",
      "              precision    recall  f1-score   support\n",
      "\n",
      "           N       0.99      0.99      0.99       327\n",
      "           Y       0.62      0.56      0.59         9\n",
      "\n",
      "   micro avg       0.98      0.98      0.98       336\n",
      "   macro avg       0.81      0.77      0.79       336\n",
      "weighted avg       0.98      0.98      0.98       336\n",
      "\n"
     ]
    },
    {
     "data": {
      "image/png": "[encoded data removed]",
      "text/plain": [
       "<Figure size 432x288 with 1 Axes>"
      ]
     },
     "metadata": {},
     "output_type": "display_data"
    }
   ],
   "source": [
    "from sklearn.metrics import confusion_matrix\n",
    "print(confusion_matrix(y_test, y_pred))\n",
    "predictions_df = pd.concat([pd.DataFrame(X_test_scaled),\n",
    "#                            .copy().assign(\n",
    "                           pd.DataFrame(dict(\n",
    "    predicted= y_pred,\n",
    "    actual=y_test\n",
    ")).reset_index(drop=True)\n",
    "                           ], axis=1)\n",
    "# pd.Series(y_test).value_counts()#[:20]\n",
    "actual_inductees = predictions_df.loc[predictions_df.actual=='Y']\n",
    "predictions_for_actual_inductees = actual_inductees.predicted.value_counts()\n",
    "print(predictions_for_actual_inductees)\n",
    "predictions_for_actual_inductees.plot(kind='pie', title='predictions_for_actual_inductees',  labels=predictions_for_actual_inductees.values)\n",
    "\n",
    "# print(f\"score for yesses, {model.score(actual_inductees.drop(['predicted', 'actual'],axis=1),actual_inductees .actual)}\")\n",
    "print('The score is the fraction of yesses, you predicted',  11/(12+11))\n",
    "print(classification_report(y_test, y_pred))"
   ]
  },
  {
   "cell_type": "code",
   "execution_count": 92,
   "metadata": {},
   "outputs": [
    {
     "data": {
      "text/html": [
       "<div>\n",
       "<style scoped>\n",
       "    .dataframe tbody tr th:only-of-type {\n",
       "        vertical-align: middle;\n",
       "    }\n",
       "\n",
       "    .dataframe tbody tr th {\n",
       "        vertical-align: top;\n",
       "    }\n",
       "\n",
       "    .dataframe thead th {\n",
       "        text-align: right;\n",
       "    }\n",
       "</style>\n",
       "<table border=\"1\" class=\"dataframe\">\n",
       "  <thead>\n",
       "    <tr style=\"text-align: right;\">\n",
       "      <th></th>\n",
       "      <th>Seasons</th>\n",
       "      <th>Wins</th>\n",
       "      <th>Loses</th>\n",
       "      <th>Games</th>\n",
       "      <th>Games_Started</th>\n",
       "      <th>Complete_Games</th>\n",
       "      <th>Shut_Outs</th>\n",
       "      <th>Earned_Runs</th>\n",
       "      <th>Strike_Outs</th>\n",
       "      <th>Walks</th>\n",
       "      <th>Games_Finished</th>\n",
       "      <th>Runs_Allowed</th>\n",
       "      <th>Batters_Faced</th>\n",
       "    </tr>\n",
       "  </thead>\n",
       "  <tbody>\n",
       "    <tr>\n",
       "      <th>0</th>\n",
       "      <td>9</td>\n",
       "      <td>16</td>\n",
       "      <td>18</td>\n",
       "      <td>331</td>\n",
       "      <td>0</td>\n",
       "      <td>0</td>\n",
       "      <td>0</td>\n",
       "      <td>160</td>\n",
       "      <td>340</td>\n",
       "      <td>183</td>\n",
       "      <td>141</td>\n",
       "      <td>169</td>\n",
       "      <td>0.0</td>\n",
       "    </tr>\n",
       "    <tr>\n",
       "      <th>1</th>\n",
       "      <td>13</td>\n",
       "      <td>66</td>\n",
       "      <td>60</td>\n",
       "      <td>448</td>\n",
       "      <td>91</td>\n",
       "      <td>22</td>\n",
       "      <td>5</td>\n",
       "      <td>468</td>\n",
       "      <td>641</td>\n",
       "      <td>457</td>\n",
       "      <td>235</td>\n",
       "      <td>503</td>\n",
       "      <td>4730.0</td>\n",
       "    </tr>\n",
       "    <tr>\n",
       "      <th>2</th>\n",
       "      <td>9</td>\n",
       "      <td>8</td>\n",
       "      <td>27</td>\n",
       "      <td>363</td>\n",
       "      <td>6</td>\n",
       "      <td>0</td>\n",
       "      <td>0</td>\n",
       "      <td>129</td>\n",
       "      <td>271</td>\n",
       "      <td>113</td>\n",
       "      <td>96</td>\n",
       "      <td>137</td>\n",
       "      <td>0.0</td>\n",
       "    </tr>\n",
       "    <tr>\n",
       "      <th>3</th>\n",
       "      <td>6</td>\n",
       "      <td>22</td>\n",
       "      <td>40</td>\n",
       "      <td>79</td>\n",
       "      <td>65</td>\n",
       "      <td>52</td>\n",
       "      <td>0</td>\n",
       "      <td>285</td>\n",
       "      <td>161</td>\n",
       "      <td>192</td>\n",
       "      <td>14</td>\n",
       "      <td>442</td>\n",
       "      <td>0.0</td>\n",
       "    </tr>\n",
       "    <tr>\n",
       "      <th>4</th>\n",
       "      <td>1</td>\n",
       "      <td>0</td>\n",
       "      <td>2</td>\n",
       "      <td>3</td>\n",
       "      <td>1</td>\n",
       "      <td>1</td>\n",
       "      <td>0</td>\n",
       "      <td>9</td>\n",
       "      <td>1</td>\n",
       "      <td>8</td>\n",
       "      <td>2</td>\n",
       "      <td>14</td>\n",
       "      <td>0.0</td>\n",
       "    </tr>\n",
       "  </tbody>\n",
       "</table>\n",
       "</div>"
      ],
      "text/plain": [
       "   Seasons  Wins  Loses  Games  Games_Started  Complete_Games  Shut_Outs  \\\n",
       "0        9    16     18    331              0               0          0   \n",
       "1       13    66     60    448             91              22          5   \n",
       "2        9     8     27    363              6               0          0   \n",
       "3        6    22     40     79             65              52          0   \n",
       "4        1     0      2      3              1               1          0   \n",
       "\n",
       "   Earned_Runs  Strike_Outs  Walks  Games_Finished  Runs_Allowed  \\\n",
       "0          160          340    183             141           169   \n",
       "1          468          641    457             235           503   \n",
       "2          129          271    113              96           137   \n",
       "3          285          161    192              14           442   \n",
       "4            9            1      8               2            14   \n",
       "\n",
       "   Batters_Faced  \n",
       "0            0.0  \n",
       "1         4730.0  \n",
       "2            0.0  \n",
       "3            0.0  \n",
       "4            0.0  "
      ]
     },
     "execution_count": 92,
     "metadata": {},
     "output_type": "execute_result"
    }
   ],
   "source": [
    "# Run all data through the model to determine who should be in the hall of fame.\n",
    "data_total = pitchers_df.drop(['inducted', 'playerID', 'nameFirst', 'nameLast', 'finalGame','bats', \n",
    "                                  'throws','weight', 'height','yearid','years_since_final_game', \n",
    "                                  'eligible_for_hall'], axis=1)\n",
    "data_total.fillna(0, inplace=True)\n",
    "data_total['Batters_Faced'].fillna(0, inplace=True)\n",
    "data_total['Batters_Faced']=pd.to_numeric(data['Batters_Faced'])\n",
    "# data_total.head()\n",
    "data_total=data_total.fillna(0)\n",
    "data_total.head()"
   ]
  },
  {
   "cell_type": "code",
   "execution_count": 93,
   "metadata": {},
   "outputs": [
    {
     "name": "stderr",
     "output_type": "stream",
     "text": [
      "/Users/chris.marchetti/anaconda3/lib/python3.7/site-packages/sklearn/preprocessing/data.py:645: DataConversionWarning: Data with input dtype int64, float64 were all converted to float64 by StandardScaler.\n",
      "  return self.partial_fit(X, y)\n",
      "/Users/chris.marchetti/anaconda3/lib/python3.7/site-packages/ipykernel_launcher.py:2: DataConversionWarning: Data with input dtype int64, float64 were all converted to float64 by StandardScaler.\n",
      "  \n"
     ]
    }
   ],
   "source": [
    "data_total_scaler = StandardScaler().fit(data_total)\n",
    "data_total_scaled = data_total_scaler.transform(data_total)\n",
    "data_total_predicted = model.predict(data_total_scaled)\n"
   ]
  },
  {
   "cell_type": "code",
   "execution_count": 94,
   "metadata": {},
   "outputs": [
    {
     "data": {
      "text/html": [
       "<div>\n",
       "<style scoped>\n",
       "    .dataframe tbody tr th:only-of-type {\n",
       "        vertical-align: middle;\n",
       "    }\n",
       "\n",
       "    .dataframe tbody tr th {\n",
       "        vertical-align: top;\n",
       "    }\n",
       "\n",
       "    .dataframe thead th {\n",
       "        text-align: right;\n",
       "    }\n",
       "</style>\n",
       "<table border=\"1\" class=\"dataframe\">\n",
       "  <thead>\n",
       "    <tr style=\"text-align: right;\">\n",
       "      <th></th>\n",
       "      <th>playerID</th>\n",
       "      <th>nameFirst</th>\n",
       "      <th>nameLast</th>\n",
       "      <th>Seasons</th>\n",
       "      <th>Wins</th>\n",
       "      <th>Loses</th>\n",
       "      <th>Games</th>\n",
       "      <th>Games_Started</th>\n",
       "      <th>Complete_Games</th>\n",
       "      <th>Shut_Outs</th>\n",
       "      <th>...</th>\n",
       "      <th>height</th>\n",
       "      <th>bats</th>\n",
       "      <th>throws</th>\n",
       "      <th>finalGame</th>\n",
       "      <th>yearid</th>\n",
       "      <th>inducted</th>\n",
       "      <th>years_since_final_game</th>\n",
       "      <th>eligible_for_hall</th>\n",
       "      <th>model_predict</th>\n",
       "      <th>Comparison</th>\n",
       "    </tr>\n",
       "  </thead>\n",
       "  <tbody>\n",
       "    <tr>\n",
       "      <th>0</th>\n",
       "      <td>aardsda01</td>\n",
       "      <td>David</td>\n",
       "      <td>Aardsma</td>\n",
       "      <td>9</td>\n",
       "      <td>16</td>\n",
       "      <td>18</td>\n",
       "      <td>331</td>\n",
       "      <td>0</td>\n",
       "      <td>0</td>\n",
       "      <td>0</td>\n",
       "      <td>...</td>\n",
       "      <td>75.0</td>\n",
       "      <td>R</td>\n",
       "      <td>R</td>\n",
       "      <td>2015-08-23</td>\n",
       "      <td>0.0</td>\n",
       "      <td>N</td>\n",
       "      <td>4.213699</td>\n",
       "      <td>not_eligible</td>\n",
       "      <td>N</td>\n",
       "      <td>True</td>\n",
       "    </tr>\n",
       "    <tr>\n",
       "      <th>1</th>\n",
       "      <td>aasedo01</td>\n",
       "      <td>Don</td>\n",
       "      <td>Aase</td>\n",
       "      <td>13</td>\n",
       "      <td>66</td>\n",
       "      <td>60</td>\n",
       "      <td>448</td>\n",
       "      <td>91</td>\n",
       "      <td>22</td>\n",
       "      <td>5</td>\n",
       "      <td>...</td>\n",
       "      <td>75.0</td>\n",
       "      <td>R</td>\n",
       "      <td>R</td>\n",
       "      <td>1990-10-03</td>\n",
       "      <td>0.0</td>\n",
       "      <td>N</td>\n",
       "      <td>29.117808</td>\n",
       "      <td>eligible</td>\n",
       "      <td>N</td>\n",
       "      <td>True</td>\n",
       "    </tr>\n",
       "    <tr>\n",
       "      <th>2</th>\n",
       "      <td>abadfe01</td>\n",
       "      <td>Fernando</td>\n",
       "      <td>Abad</td>\n",
       "      <td>9</td>\n",
       "      <td>8</td>\n",
       "      <td>27</td>\n",
       "      <td>363</td>\n",
       "      <td>6</td>\n",
       "      <td>0</td>\n",
       "      <td>0</td>\n",
       "      <td>...</td>\n",
       "      <td>73.0</td>\n",
       "      <td>L</td>\n",
       "      <td>L</td>\n",
       "      <td>2017-10-01</td>\n",
       "      <td>0.0</td>\n",
       "      <td>N</td>\n",
       "      <td>2.104110</td>\n",
       "      <td>not_eligible</td>\n",
       "      <td>N</td>\n",
       "      <td>True</td>\n",
       "    </tr>\n",
       "    <tr>\n",
       "      <th>3</th>\n",
       "      <td>abbeybe01</td>\n",
       "      <td>Bert</td>\n",
       "      <td>Abbey</td>\n",
       "      <td>6</td>\n",
       "      <td>22</td>\n",
       "      <td>40</td>\n",
       "      <td>79</td>\n",
       "      <td>65</td>\n",
       "      <td>52</td>\n",
       "      <td>0</td>\n",
       "      <td>...</td>\n",
       "      <td>71.0</td>\n",
       "      <td>R</td>\n",
       "      <td>R</td>\n",
       "      <td>1896-09-23</td>\n",
       "      <td>0.0</td>\n",
       "      <td>N</td>\n",
       "      <td>123.205479</td>\n",
       "      <td>not_eligible</td>\n",
       "      <td>N</td>\n",
       "      <td>True</td>\n",
       "    </tr>\n",
       "    <tr>\n",
       "      <th>4</th>\n",
       "      <td>abbotda01</td>\n",
       "      <td>Dan</td>\n",
       "      <td>Abbott</td>\n",
       "      <td>1</td>\n",
       "      <td>0</td>\n",
       "      <td>2</td>\n",
       "      <td>3</td>\n",
       "      <td>1</td>\n",
       "      <td>1</td>\n",
       "      <td>0</td>\n",
       "      <td>...</td>\n",
       "      <td>71.0</td>\n",
       "      <td>R</td>\n",
       "      <td>R</td>\n",
       "      <td>1890-05-23</td>\n",
       "      <td>0.0</td>\n",
       "      <td>N</td>\n",
       "      <td>129.547945</td>\n",
       "      <td>not_eligible</td>\n",
       "      <td>N</td>\n",
       "      <td>True</td>\n",
       "    </tr>\n",
       "  </tbody>\n",
       "</table>\n",
       "<p>5 rows × 27 columns</p>\n",
       "</div>"
      ],
      "text/plain": [
       "    playerID nameFirst nameLast  Seasons  Wins  Loses  Games  Games_Started  \\\n",
       "0  aardsda01     David  Aardsma        9    16     18    331              0   \n",
       "1   aasedo01       Don     Aase       13    66     60    448             91   \n",
       "2   abadfe01  Fernando     Abad        9     8     27    363              6   \n",
       "3  abbeybe01      Bert    Abbey        6    22     40     79             65   \n",
       "4  abbotda01       Dan   Abbott        1     0      2      3              1   \n",
       "\n",
       "   Complete_Games  Shut_Outs  ...  height  bats  throws   finalGame  yearid  \\\n",
       "0               0          0  ...    75.0     R       R  2015-08-23     0.0   \n",
       "1              22          5  ...    75.0     R       R  1990-10-03     0.0   \n",
       "2               0          0  ...    73.0     L       L  2017-10-01     0.0   \n",
       "3              52          0  ...    71.0     R       R  1896-09-23     0.0   \n",
       "4               1          0  ...    71.0     R       R  1890-05-23     0.0   \n",
       "\n",
       "   inducted  years_since_final_game  eligible_for_hall model_predict  \\\n",
       "0         N                4.213699       not_eligible             N   \n",
       "1         N               29.117808           eligible             N   \n",
       "2         N                2.104110       not_eligible             N   \n",
       "3         N              123.205479       not_eligible             N   \n",
       "4         N              129.547945       not_eligible             N   \n",
       "\n",
       "  Comparison  \n",
       "0       True  \n",
       "1       True  \n",
       "2       True  \n",
       "3       True  \n",
       "4       True  \n",
       "\n",
       "[5 rows x 27 columns]"
      ]
     },
     "execution_count": 94,
     "metadata": {},
     "output_type": "execute_result"
    }
   ],
   "source": [
    "pitchers_predict_df = pd.concat([pitchers_df, pd.Series(data_total_predicted)], axis=1)\n",
    "pitchers_predict_df = pitchers_predict_df.rename(columns={0:'model_predict'})\n",
    "pitchers_predict_df['Comparison']=pitchers_predict_df['inducted']==pitchers_predict_df['model_predict']\n",
    "pitchers_predict_df.head()"
   ]
  },
  {
   "cell_type": "code",
   "execution_count": 99,
   "metadata": {},
   "outputs": [
    {
     "name": "stdout",
     "output_type": "stream",
     "text": [
      "N    8916\n",
      "Y      71\n",
      "Name: inducted, dtype: int64\n",
      "N    8504\n",
      "Y     483\n",
      "Name: model_predict, dtype: int64\n"
     ]
    }
   ],
   "source": [
    "print(pitchers_predict_df.inducted.value_counts())\n",
    "print(pitchers_predict_df.model_predict.value_counts())"
   ]
  },
  {
   "cell_type": "code",
   "execution_count": 101,
   "metadata": {},
   "outputs": [
    {
     "data": {
      "text/plain": [
       "eligible        433\n",
       "not_eligible     50\n",
       "Name: eligible_for_hall, dtype: int64"
      ]
     },
     "execution_count": 101,
     "metadata": {},
     "output_type": "execute_result"
    }
   ],
   "source": [
    "pitchers_predict_df[pitchers_predict_df['model_predict']=='Y'].eligible_for_hall.value_counts()"
   ]
  },
  {
   "cell_type": "code",
   "execution_count": 96,
   "metadata": {},
   "outputs": [],
   "source": [
    "pitchers_predict_df.to_csv('Data/pitchers_predicted.csv', index=False)"
   ]
  },
  {
   "cell_type": "code",
   "execution_count": null,
   "metadata": {},
   "outputs": [],
   "source": []
  }
 ],
 "metadata": {
  "kernelspec": {
   "display_name": "Python 3",
   "language": "python",
   "name": "python3"
  },
  "language_info": {
   "codemirror_mode": {
    "name": "ipython",
    "version": 3
   },
   "file_extension": ".py",
   "mimetype": "text/x-python",
   "name": "python",
   "nbconvert_exporter": "python",
   "pygments_lexer": "ipython3",
   "version": "3.7.3"
  }
 },
 "nbformat": 4,
 "nbformat_minor": 2
}
